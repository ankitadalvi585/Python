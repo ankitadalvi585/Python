{
 "cells": [
  {
   "cell_type": "code",
   "execution_count": 1,
   "id": "722bf896",
   "metadata": {},
   "outputs": [],
   "source": [
    "import pandas as pd\n",
    "import seaborn as sns\n",
    "from sklearn.preprocessing import StandardScaler\n",
    "from imblearn.over_sampling import SMOTE\n",
    "from sklearn.model_selection import train_test_split, cross_val_score\n",
    "from sklearn.linear_model import LogisticRegression\n",
    "from sklearn.metrics import accuracy_score, classification_report\n",
    "from sklearn.discriminant_analysis import LinearDiscriminantAnalysis\n",
    "from sklearn.neighbors import KNeighborsClassifier\n",
    "from sklearn.tree import DecisionTreeClassifier\n",
    "from sklearn.naive_bayes import GaussianNB\n",
    "from sklearn.ensemble import RandomForestClassifier"
   ]
  },
  {
   "cell_type": "code",
   "execution_count": 2,
   "id": "0a258d3d",
   "metadata": {},
   "outputs": [],
   "source": [
    "#Loading dataset\n",
    "def load_dataset():\n",
    "    dataset = pd.read_csv('creditcard.csv')\n",
    "    return dataset"
   ]
  },
  {
   "cell_type": "code",
   "execution_count": 3,
   "id": "968d5243",
   "metadata": {},
   "outputs": [],
   "source": [
    "#Shape of dataset\n",
    "def dataframe_shape():\n",
    "    return load_dataset().shape"
   ]
  },
  {
   "cell_type": "code",
   "execution_count": 4,
   "id": "57251d20",
   "metadata": {},
   "outputs": [],
   "source": [
    "#Check null values\n",
    "def sum_of_null_values():\n",
    "    return load_dataset().isnull().sum()"
   ]
  },
  {
   "cell_type": "code",
   "execution_count": 5,
   "id": "80c55d2f",
   "metadata": {},
   "outputs": [],
   "source": [
    "#Check datatypes\n",
    "def check_datatypes():\n",
    "    return load_dataset().dtypes"
   ]
  },
  {
   "cell_type": "code",
   "execution_count": 6,
   "id": "0e6e7495",
   "metadata": {},
   "outputs": [],
   "source": [
    "#Describe data\n",
    "def data_describe():\n",
    "    return load_dataset().describe()"
   ]
  },
  {
   "cell_type": "code",
   "execution_count": 7,
   "id": "75af1748",
   "metadata": {},
   "outputs": [],
   "source": [
    "#Check count of target variable\n",
    "def check_count_of_target_variable():\n",
    "    return load_dataset()['Class'].value_counts()"
   ]
  },
  {
   "cell_type": "code",
   "execution_count": 8,
   "id": "6f96c83c",
   "metadata": {},
   "outputs": [],
   "source": [
    "#Correlation matrix\n",
    "def corr_matrix():\n",
    "    return load_dataset().corr()"
   ]
  },
  {
   "cell_type": "code",
   "execution_count": 9,
   "id": "40f62529",
   "metadata": {},
   "outputs": [],
   "source": [
    "#Plot target count\n",
    "def plot_target_count():\n",
    "    return sns.countplot(data=load_dataset(), x='Class')"
   ]
  },
  {
   "cell_type": "code",
   "execution_count": 10,
   "id": "e7a9cfd7",
   "metadata": {},
   "outputs": [],
   "source": [
    "#Feature scaling\n",
    "def feature_scaling_amount():\n",
    "    data = load_dataset()\n",
    "    sc = StandardScaler()\n",
    "    scaled = sc.fit_transform(data['Amount'].values.reshape(-1,1))\n",
    "    data['Amount'] = scaled\n",
    "    return data"
   ]
  },
  {
   "cell_type": "code",
   "execution_count": 11,
   "id": "b179e4f7",
   "metadata": {},
   "outputs": [],
   "source": [
    "#Drop unnecessary columns\n",
    "def drop_unnecessary_columns():\n",
    "    data = load_dataset()\n",
    "    data.drop('Time',axis=1,inplace=True)\n",
    "    data['Amount'] = StandardScaler().fit_transform(data['Amount'].values.reshape(-1,1))\n",
    "    return data"
   ]
  },
  {
   "cell_type": "code",
   "execution_count": 12,
   "id": "979d86d3",
   "metadata": {},
   "outputs": [],
   "source": [
    "#Drop duplicates\n",
    "def drop_duplicate_data():\n",
    "    data = drop_unnecessary_columns()\n",
    "    data = data.drop_duplicates()\n",
    "    return data"
   ]
  },
  {
   "cell_type": "code",
   "execution_count": 13,
   "id": "75dc8731",
   "metadata": {},
   "outputs": [],
   "source": [
    "#Feature separating\n",
    "def feature_separating_x_y():\n",
    "    data = drop_duplicate_data()\n",
    "    X = data.iloc[:,:-1]\n",
    "    y = data.iloc[:,-1]\n",
    "    return X,y"
   ]
  },
  {
   "cell_type": "code",
   "execution_count": 14,
   "id": "806fa1ae",
   "metadata": {},
   "outputs": [],
   "source": [
    "#Data balancing\n",
    "def data_balancing_smote():\n",
    "    X,y = feature_separating_x_y()\n",
    "    X_res, y_res = SMOTE().fit_resample(X,y)\n",
    "    return X_res, y_res"
   ]
  },
  {
   "cell_type": "code",
   "execution_count": 15,
   "id": "b0f15c8a",
   "metadata": {},
   "outputs": [],
   "source": [
    "#Splitting dataset\n",
    "def splitting_dataset():\n",
    "    X_res, y_res = data_balancing_smote()\n",
    "    X_train, X_test, y_train, y_test = train_test_split(X_res, y_res, test_size = 0.2, random_state = 4)\n",
    "    return X_train, X_test, y_train, y_test"
   ]
  },
  {
   "cell_type": "code",
   "execution_count": 16,
   "id": "bf126630",
   "metadata": {},
   "outputs": [],
   "source": [
    "#Logistic Regression\n",
    "def fit_logistic_regression():\n",
    "    X_train, X_test, y_train, y_test = splitting_dataset()\n",
    "    logreg = LogisticRegression()\n",
    "    logreg.fit(X_train, y_train)\n",
    "    y_pred = logreg.predict(X_test)\n",
    "    accuracy = accuracy_score(y_test, y_pred)\n",
    "    return accuracy, classification_report(y_test, y_pred)"
   ]
  },
  {
   "cell_type": "code",
   "execution_count": 17,
   "id": "75fa279b",
   "metadata": {},
   "outputs": [],
   "source": [
    "#KNN\n",
    "def fit_knn():\n",
    "    X_train, X_test, y_train, y_test = splitting_dataset()\n",
    "    knn = KNeighborsClassifier(n_neighbors=4)\n",
    "    knn.fit(X_train, y_train)\n",
    "    y_pred = knn.predict(X_test)\n",
    "    accuracy = accuracy_score(y_test, y_pred)\n",
    "    return accuracy, classification_report(y_test, y_pred)"
   ]
  },
  {
   "cell_type": "code",
   "execution_count": 18,
   "id": "16cc760d",
   "metadata": {},
   "outputs": [],
   "source": [
    "#Decision Tree\n",
    "def fit_decision_tree():\n",
    "    X_train, X_test, y_train, y_test = splitting_dataset()\n",
    "    dt = DecisionTreeClassifier()\n",
    "    dt.fit(X_train, y_train)\n",
    "    y_pred = dt.predict(X_test)\n",
    "    accuracy = accuracy_score(y_test, y_pred)\n",
    "    return accuracy, classification_report(y_test, y_pred)"
   ]
  },
  {
   "cell_type": "code",
   "execution_count": 19,
   "id": "8b5ae302",
   "metadata": {},
   "outputs": [],
   "source": [
    "#Gaussian Naive Bayes\n",
    "def fit_GaussianNB():\n",
    "    X_train, X_test, y_train, y_test = splitting_dataset()\n",
    "    gnb = GaussianNB()\n",
    "    gnb.fit(X_train, y_train)\n",
    "    y_pred = gnb.predict(X_test)\n",
    "    accuracy = accuracy_score(y_test, y_pred)\n",
    "    return accuracy, classification_report(y_test, y_pred)"
   ]
  },
  {
   "cell_type": "code",
   "execution_count": 20,
   "id": "c6d37a1b",
   "metadata": {},
   "outputs": [],
   "source": [
    "#Random Forest\n",
    "def fit_random_forest():\n",
    "    X_train, X_test, y_train, y_test = splitting_dataset()\n",
    "    rf_classifier = RandomForestClassifier()\n",
    "    rf_classifier.fit(X_train, y_train)\n",
    "    y_pred = rf_classifier.predict(X_test)\n",
    "    accuracy = accuracy_score(y_test, y_pred)\n",
    "    return accuracy, classification_report(y_test, y_pred)"
   ]
  },
  {
   "cell_type": "code",
   "execution_count": 21,
   "id": "b8506277",
   "metadata": {},
   "outputs": [
    {
     "name": "stdout",
     "output_type": "stream",
     "text": [
      "Scores of Logistic Regression is (0.9456738980340855, '              precision    recall  f1-score   support\\n\\n           0       0.92      0.97      0.95     55147\\n           1       0.97      0.92      0.94     54929\\n\\n    accuracy                           0.95    110076\\n   macro avg       0.95      0.95      0.95    110076\\nweighted avg       0.95      0.95      0.95    110076\\n')\n",
      "Scores of K Nearest Neighbor is (0.9992913986700098, '              precision    recall  f1-score   support\\n\\n           0       1.00      1.00      1.00     55147\\n           1       1.00      1.00      1.00     54929\\n\\n    accuracy                           1.00    110076\\n   macro avg       1.00      1.00      1.00    110076\\nweighted avg       1.00      1.00      1.00    110076\\n')\n",
      "Scores of Decision Tree is (0.9981921581452814, '              precision    recall  f1-score   support\\n\\n           0       1.00      1.00      1.00     55147\\n           1       1.00      1.00      1.00     54929\\n\\n    accuracy                           1.00    110076\\n   macro avg       1.00      1.00      1.00    110076\\nweighted avg       1.00      1.00      1.00    110076\\n')\n",
      "Scores of Gaussian Naive Bayes is (0.9113975798539191, '              precision    recall  f1-score   support\\n\\n           0       0.86      0.98      0.92     55147\\n           1       0.97      0.85      0.91     54929\\n\\n    accuracy                           0.91    110076\\n   macro avg       0.92      0.91      0.91    110076\\nweighted avg       0.92      0.91      0.91    110076\\n')\n",
      "Scores of Random Forest Classifier is (0.9998546458810277, '              precision    recall  f1-score   support\\n\\n           0       1.00      1.00      1.00     55147\\n           1       1.00      1.00      1.00     54929\\n\\n    accuracy                           1.00    110076\\n   macro avg       1.00      1.00      1.00    110076\\nweighted avg       1.00      1.00      1.00    110076\\n')\n"
     ]
    }
   ],
   "source": [
    "#Calling all Classification algorithms\n",
    "print('Scores of Logistic Regression is',fit_logistic_regression())\n",
    "print('Scores of K Nearest Neighbor is',fit_knn())\n",
    "print('Scores of Decision Tree is',fit_decision_tree())\n",
    "print('Scores of Gaussian Naive Bayes is',fit_GaussianNB())\n",
    "print('Scores of Random Forest Classifier is',fit_random_forest())"
   ]
  },
  {
   "cell_type": "code",
   "execution_count": null,
   "id": "82cb7341",
   "metadata": {},
   "outputs": [],
   "source": []
  }
 ],
 "metadata": {
  "kernelspec": {
   "display_name": "Python 3 (ipykernel)",
   "language": "python",
   "name": "python3"
  },
  "language_info": {
   "codemirror_mode": {
    "name": "ipython",
    "version": 3
   },
   "file_extension": ".py",
   "mimetype": "text/x-python",
   "name": "python",
   "nbconvert_exporter": "python",
   "pygments_lexer": "ipython3",
   "version": "3.9.13"
  }
 },
 "nbformat": 4,
 "nbformat_minor": 5
}
