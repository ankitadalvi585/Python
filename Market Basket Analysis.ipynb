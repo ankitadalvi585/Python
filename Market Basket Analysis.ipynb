{
  "cells": [
    {
      "cell_type": "code",
      "execution_count": 3,
      "id": "8151f495",
      "metadata": {
        "colab": {
          "base_uri": "https://localhost:8080/"
        },
        "id": "8151f495",
        "outputId": "56ca3f67-ca4b-4988-8267-c10398533bc1"
      },
      "outputs": [
        {
          "output_type": "stream",
          "name": "stdout",
          "text": [
            "Requirement already satisfied: scikit-surprise in /usr/local/lib/python3.10/dist-packages (1.1.3)\n",
            "Requirement already satisfied: joblib>=1.0.0 in /usr/local/lib/python3.10/dist-packages (from scikit-surprise) (1.3.2)\n",
            "Requirement already satisfied: numpy>=1.17.3 in /usr/local/lib/python3.10/dist-packages (from scikit-surprise) (1.25.2)\n",
            "Requirement already satisfied: scipy>=1.3.2 in /usr/local/lib/python3.10/dist-packages (from scikit-surprise) (1.11.4)\n"
          ]
        }
      ],
      "source": [
        "pip install scikit-surprise"
      ]
    },
    {
      "cell_type": "code",
      "execution_count": 4,
      "id": "e000b769",
      "metadata": {
        "colab": {
          "base_uri": "https://localhost:8080/"
        },
        "id": "e000b769",
        "outputId": "d14e9d02-2631-4a53-e45c-a3b5bc29fc5c"
      },
      "outputs": [
        {
          "output_type": "stream",
          "name": "stdout",
          "text": [
            "Requirement already satisfied: mlxtend in /usr/local/lib/python3.10/dist-packages (0.22.0)\n",
            "Requirement already satisfied: scipy>=1.2.1 in /usr/local/lib/python3.10/dist-packages (from mlxtend) (1.11.4)\n",
            "Requirement already satisfied: numpy>=1.16.2 in /usr/local/lib/python3.10/dist-packages (from mlxtend) (1.25.2)\n",
            "Requirement already satisfied: pandas>=0.24.2 in /usr/local/lib/python3.10/dist-packages (from mlxtend) (1.5.3)\n",
            "Requirement already satisfied: scikit-learn>=1.0.2 in /usr/local/lib/python3.10/dist-packages (from mlxtend) (1.2.2)\n",
            "Requirement already satisfied: matplotlib>=3.0.0 in /usr/local/lib/python3.10/dist-packages (from mlxtend) (3.7.1)\n",
            "Requirement already satisfied: joblib>=0.13.2 in /usr/local/lib/python3.10/dist-packages (from mlxtend) (1.3.2)\n",
            "Requirement already satisfied: setuptools in /usr/local/lib/python3.10/dist-packages (from mlxtend) (67.7.2)\n",
            "Requirement already satisfied: contourpy>=1.0.1 in /usr/local/lib/python3.10/dist-packages (from matplotlib>=3.0.0->mlxtend) (1.2.0)\n",
            "Requirement already satisfied: cycler>=0.10 in /usr/local/lib/python3.10/dist-packages (from matplotlib>=3.0.0->mlxtend) (0.12.1)\n",
            "Requirement already satisfied: fonttools>=4.22.0 in /usr/local/lib/python3.10/dist-packages (from matplotlib>=3.0.0->mlxtend) (4.48.1)\n",
            "Requirement already satisfied: kiwisolver>=1.0.1 in /usr/local/lib/python3.10/dist-packages (from matplotlib>=3.0.0->mlxtend) (1.4.5)\n",
            "Requirement already satisfied: packaging>=20.0 in /usr/local/lib/python3.10/dist-packages (from matplotlib>=3.0.0->mlxtend) (23.2)\n",
            "Requirement already satisfied: pillow>=6.2.0 in /usr/local/lib/python3.10/dist-packages (from matplotlib>=3.0.0->mlxtend) (9.4.0)\n",
            "Requirement already satisfied: pyparsing>=2.3.1 in /usr/local/lib/python3.10/dist-packages (from matplotlib>=3.0.0->mlxtend) (3.1.1)\n",
            "Requirement already satisfied: python-dateutil>=2.7 in /usr/local/lib/python3.10/dist-packages (from matplotlib>=3.0.0->mlxtend) (2.8.2)\n",
            "Requirement already satisfied: pytz>=2020.1 in /usr/local/lib/python3.10/dist-packages (from pandas>=0.24.2->mlxtend) (2023.4)\n",
            "Requirement already satisfied: threadpoolctl>=2.0.0 in /usr/local/lib/python3.10/dist-packages (from scikit-learn>=1.0.2->mlxtend) (3.2.0)\n",
            "Requirement already satisfied: six>=1.5 in /usr/local/lib/python3.10/dist-packages (from python-dateutil>=2.7->matplotlib>=3.0.0->mlxtend) (1.16.0)\n"
          ]
        }
      ],
      "source": [
        "pip install mlxtend"
      ]
    },
    {
      "cell_type": "code",
      "execution_count": 5,
      "id": "93154de2",
      "metadata": {
        "id": "93154de2"
      },
      "outputs": [],
      "source": [
        "from surprise import Dataset, Reader, KNNBasic , KNNWithZScore , KNNWithMeans, SVD\n",
        "from surprise.model_selection import cross_validate\n",
        "from collections import defaultdict\n",
        "from surprise.model_selection import train_test_split\n",
        "from surprise import accuracy\n",
        "from surprise.model_selection import GridSearchCV\n",
        "from sklearn.metrics.pairwise import cosine_similarity\n",
        "from mlxtend.frequent_patterns import apriori\n",
        "from mlxtend.frequent_patterns import association_rules"
      ]
    },
    {
      "cell_type": "code",
      "execution_count": 6,
      "id": "d7f04009",
      "metadata": {
        "colab": {
          "base_uri": "https://localhost:8080/"
        },
        "id": "d7f04009",
        "outputId": "615bb78a-ab5a-42ec-e44e-3e9e1ce4c7d0"
      },
      "outputs": [
        {
          "output_type": "stream",
          "name": "stderr",
          "text": [
            "/usr/local/lib/python3.10/dist-packages/ipykernel/ipkernel.py:283: DeprecationWarning: `should_run_async` will not call `transform_cell` automatically in the future. Please pass the result to `transformed_cell` argument and any exception that happen during thetransform in `preprocessing_exc_tuple` in IPython 7.17 and above.\n",
            "  and should_run_async(code)\n"
          ]
        }
      ],
      "source": [
        "import pandas as pd\n",
        "import numpy as np\n",
        "import matplotlib.pyplot as plt\n",
        "\n",
        "# Reading a file\n",
        "retail = pd.read_excel('/content/OnlineRetail.xlsx')"
      ]
    },
    {
      "cell_type": "code",
      "execution_count": 7,
      "id": "38ec5d0b",
      "metadata": {
        "colab": {
          "base_uri": "https://localhost:8080/"
        },
        "id": "38ec5d0b",
        "outputId": "849209e2-da2b-4952-dd41-55d80ebd7457"
      },
      "outputs": [
        {
          "output_type": "stream",
          "name": "stderr",
          "text": [
            "/usr/local/lib/python3.10/dist-packages/ipykernel/ipkernel.py:283: DeprecationWarning: `should_run_async` will not call `transform_cell` automatically in the future. Please pass the result to `transformed_cell` argument and any exception that happen during thetransform in `preprocessing_exc_tuple` in IPython 7.17 and above.\n",
            "  and should_run_async(code)\n"
          ]
        },
        {
          "output_type": "stream",
          "name": "stdout",
          "text": [
            "<class 'pandas.core.frame.DataFrame'>\n",
            "RangeIndex: 541909 entries, 0 to 541908\n",
            "Data columns (total 8 columns):\n",
            " #   Column       Non-Null Count   Dtype         \n",
            "---  ------       --------------   -----         \n",
            " 0   InvoiceNo    541909 non-null  object        \n",
            " 1   StockCode    541909 non-null  object        \n",
            " 2   Description  540455 non-null  object        \n",
            " 3   Quantity     541909 non-null  int64         \n",
            " 4   InvoiceDate  541909 non-null  datetime64[ns]\n",
            " 5   UnitPrice    541909 non-null  float64       \n",
            " 6   CustomerID   406829 non-null  float64       \n",
            " 7   Country      541909 non-null  object        \n",
            "dtypes: datetime64[ns](1), float64(2), int64(1), object(4)\n",
            "memory usage: 33.1+ MB\n"
          ]
        }
      ],
      "source": [
        "retail.info()"
      ]
    },
    {
      "cell_type": "code",
      "execution_count": 8,
      "id": "d400c8b5",
      "metadata": {
        "colab": {
          "base_uri": "https://localhost:8080/"
        },
        "id": "d400c8b5",
        "outputId": "7c17f0d7-1a47-49c8-d742-20c3db9bc708"
      },
      "outputs": [
        {
          "output_type": "stream",
          "name": "stderr",
          "text": [
            "/usr/local/lib/python3.10/dist-packages/ipykernel/ipkernel.py:283: DeprecationWarning: `should_run_async` will not call `transform_cell` automatically in the future. Please pass the result to `transformed_cell` argument and any exception that happen during thetransform in `preprocessing_exc_tuple` in IPython 7.17 and above.\n",
            "  and should_run_async(code)\n"
          ]
        }
      ],
      "source": [
        "# Converting invoice date to datetime\n",
        "import pandas as pd\n",
        "retail['InvoiceDate'] = pd.to_datetime(retail['InvoiceDate'])"
      ]
    },
    {
      "cell_type": "code",
      "execution_count": 9,
      "id": "cc01e5f4",
      "metadata": {
        "colab": {
          "base_uri": "https://localhost:8080/"
        },
        "id": "cc01e5f4",
        "outputId": "3ca92a99-df51-4567-bfd3-0e6a87ed0ff3"
      },
      "outputs": [
        {
          "output_type": "stream",
          "name": "stderr",
          "text": [
            "/usr/local/lib/python3.10/dist-packages/ipykernel/ipkernel.py:283: DeprecationWarning: `should_run_async` will not call `transform_cell` automatically in the future. Please pass the result to `transformed_cell` argument and any exception that happen during thetransform in `preprocessing_exc_tuple` in IPython 7.17 and above.\n",
            "  and should_run_async(code)\n"
          ]
        },
        {
          "output_type": "execute_result",
          "data": {
            "text/plain": [
              "Description\n",
              "WHITE HANGING HEART T-LIGHT HOLDER    2369\n",
              "REGENCY CAKESTAND 3 TIER              2200\n",
              "JUMBO BAG RED RETROSPOT               2159\n",
              "PARTY BUNTING                         1727\n",
              "LUNCH BAG RED RETROSPOT               1638\n",
              "Name: Quantity, dtype: int64"
            ]
          },
          "metadata": {},
          "execution_count": 9
        }
      ],
      "source": [
        "# Items People buy Often\n",
        "\n",
        "top_items = retail.groupby('Description')['Quantity'].count().sort_values(ascending = False).head(5)\n",
        "\n",
        "top_items"
      ]
    },
    {
      "cell_type": "code",
      "execution_count": 10,
      "id": "22364a93",
      "metadata": {
        "colab": {
          "base_uri": "https://localhost:8080/",
          "height": 662
        },
        "id": "22364a93",
        "outputId": "732e8d65-9644-4392-8fad-bd324ff53466"
      },
      "outputs": [
        {
          "output_type": "stream",
          "name": "stderr",
          "text": [
            "/usr/local/lib/python3.10/dist-packages/ipykernel/ipkernel.py:283: DeprecationWarning: `should_run_async` will not call `transform_cell` automatically in the future. Please pass the result to `transformed_cell` argument and any exception that happen during thetransform in `preprocessing_exc_tuple` in IPython 7.17 and above.\n",
            "  and should_run_async(code)\n"
          ]
        },
        {
          "output_type": "display_data",
          "data": {
            "text/plain": [
              "<Figure size 1000x600 with 1 Axes>"
            ],
            "image/png": "[encoded data removed]"
          },
          "metadata": {}
        }
      ],
      "source": [
        "\n",
        "# Plotting\n",
        "\n",
        "plt.figure(figsize = (10,6))\n",
        "top_items.plot(kind = 'bar',color = 'Blue')\n",
        "plt.title('Top 5 Items People Buy more Often')\n",
        "plt.xlabel('Item Description')\n",
        "plt.ylabel('Total Quantity Sold')\n",
        "plt.xticks(rotation = 45, ha = 'right')\n",
        "plt.tight_layout()\n",
        "plt.show()"
      ]
    },
    {
      "cell_type": "code",
      "execution_count": 11,
      "id": "3f65e8dd",
      "metadata": {
        "colab": {
          "base_uri": "https://localhost:8080/",
          "height": 619
        },
        "id": "3f65e8dd",
        "outputId": "954306e6-3341-4fb9-8e93-df9733db3c3d"
      },
      "outputs": [
        {
          "output_type": "stream",
          "name": "stderr",
          "text": [
            "/usr/local/lib/python3.10/dist-packages/ipykernel/ipkernel.py:283: DeprecationWarning: `should_run_async` will not call `transform_cell` automatically in the future. Please pass the result to `transformed_cell` argument and any exception that happen during thetransform in `preprocessing_exc_tuple` in IPython 7.17 and above.\n",
            "  and should_run_async(code)\n"
          ]
        },
        {
          "output_type": "display_data",
          "data": {
            "text/plain": [
              "<Figure size 1000x600 with 1 Axes>"
            ],
            "image/png": "[encoded data removed]"
          },
          "metadata": {}
        }
      ],
      "source": [
        "# Time of day when people buy often\n",
        "\n",
        "retail['Hour'] = retail['InvoiceDate'].dt.hour\n",
        "hourly_orders = retail.groupby('Hour').size()\n",
        "plt.figure(figsize = (10,6))\n",
        "hourly_orders.plot(kind = 'bar' , color = 'skyblue')\n",
        "plt.title('Number of Orders by Hour of the Day')\n",
        "plt.xlabel('Hour of the Day')\n",
        "plt.ylabel('Number of Orders')\n",
        "plt.xticks(rotation = 0)\n",
        "plt.show()"
      ]
    },
    {
      "cell_type": "code",
      "execution_count": 12,
      "id": "d5848756",
      "metadata": {
        "colab": {
          "base_uri": "https://localhost:8080/",
          "height": 619
        },
        "id": "d5848756",
        "outputId": "c58e969c-2891-4d9e-9291-95b550bab6a0"
      },
      "outputs": [
        {
          "output_type": "stream",
          "name": "stderr",
          "text": [
            "/usr/local/lib/python3.10/dist-packages/ipykernel/ipkernel.py:283: DeprecationWarning: `should_run_async` will not call `transform_cell` automatically in the future. Please pass the result to `transformed_cell` argument and any exception that happen during thetransform in `preprocessing_exc_tuple` in IPython 7.17 and above.\n",
            "  and should_run_async(code)\n"
          ]
        },
        {
          "output_type": "display_data",
          "data": {
            "text/plain": [
              "<Figure size 1000x600 with 1 Axes>"
            ],
            "image/png": "[encoded data removed]"
          },
          "metadata": {}
        }
      ],
      "source": [
        "# Month of the year people buy often\n",
        "\n",
        "retail['Month'] = retail['InvoiceDate'].dt.month\n",
        "monthly_orders = retail.groupby('Month').size()\n",
        "plt.figure(figsize = (10,6))\n",
        "monthly_orders.plot(kind = 'bar',color = 'Red')\n",
        "plt.title('Number of Orders by Month')\n",
        "plt.xlabel('Month')\n",
        "plt.ylabel('Number of Orders')\n",
        "plt.xticks(rotation = 0)\n",
        "plt.show()"
      ]
    },
    {
      "cell_type": "code",
      "execution_count": 13,
      "id": "4892db47",
      "metadata": {
        "colab": {
          "base_uri": "https://localhost:8080/"
        },
        "id": "4892db47",
        "outputId": "69bac3ab-39e9-48d8-a48d-77394fa51c3f"
      },
      "outputs": [
        {
          "output_type": "stream",
          "name": "stdout",
          "text": [
            "Average value per order during November and January: 108.00589303400461\n"
          ]
        },
        {
          "output_type": "stream",
          "name": "stderr",
          "text": [
            "/usr/local/lib/python3.10/dist-packages/ipykernel/ipkernel.py:283: DeprecationWarning: `should_run_async` will not call `transform_cell` automatically in the future. Please pass the result to `transformed_cell` argument and any exception that happen during thetransform in `preprocessing_exc_tuple` in IPython 7.17 and above.\n",
            "  and should_run_async(code)\n"
          ]
        }
      ],
      "source": [
        "# Average Value per order during Nov and Dec\n",
        "\n",
        "nov_jan_orders = retail[(retail['InvoiceDate'].dt.month == 11) | (retail['InvoiceDate'].dt.month == 11)]\n",
        "nov_jan_avg_value = nov_jan_orders.groupby('InvoiceDate')['UnitPrice'].sum().mean()\n",
        "print('Average value per order during November and January:',nov_jan_avg_value )"
      ]
    },
    {
      "cell_type": "code",
      "execution_count": 14,
      "id": "67d556a4",
      "metadata": {
        "colab": {
          "base_uri": "https://localhost:8080/"
        },
        "id": "67d556a4",
        "outputId": "62a8f94e-2016-417f-de98-3b829e639b86"
      },
      "outputs": [
        {
          "output_type": "stream",
          "name": "stdout",
          "text": [
            "Average Order Value for November: 422.22884170999424\n",
            "Average Order Value for January: 379.4039701897019\n"
          ]
        },
        {
          "output_type": "stream",
          "name": "stderr",
          "text": [
            "/usr/local/lib/python3.10/dist-packages/ipykernel/ipkernel.py:283: DeprecationWarning: `should_run_async` will not call `transform_cell` automatically in the future. Please pass the result to `transformed_cell` argument and any exception that happen during thetransform in `preprocessing_exc_tuple` in IPython 7.17 and above.\n",
            "  and should_run_async(code)\n"
          ]
        }
      ],
      "source": [
        "retail['TotalPrice'] = retail['Quantity'] * retail['UnitPrice']\n",
        "\n",
        "\n",
        "november_data = retail[retail['InvoiceDate'].dt.month == 11]\n",
        "january_data = retail[retail['InvoiceDate'].dt.month == 1]\n",
        "\n",
        "# Total sales per order for November and January\n",
        "november_totals = november_data.groupby('InvoiceNo')['TotalPrice'].sum()\n",
        "january_totals = january_data.groupby('InvoiceNo')['TotalPrice'].sum()\n",
        "\n",
        "# Average order value for November and January\n",
        "average_order_value_november = november_totals.mean()\n",
        "average_order_value_january = january_totals.mean()\n",
        "\n",
        "print(f\"Average Order Value for November: {average_order_value_november}\")\n",
        "print(f\"Average Order Value for January: {average_order_value_january}\")\n"
      ]
    },
    {
      "cell_type": "code",
      "execution_count": 15,
      "id": "75c3f398",
      "metadata": {
        "colab": {
          "base_uri": "https://localhost:8080/",
          "height": 619
        },
        "id": "75c3f398",
        "outputId": "081b3b5d-00e4-4f3b-a5a3-1cb73d62c24c"
      },
      "outputs": [
        {
          "output_type": "stream",
          "name": "stderr",
          "text": [
            "/usr/local/lib/python3.10/dist-packages/ipykernel/ipkernel.py:283: DeprecationWarning: `should_run_async` will not call `transform_cell` automatically in the future. Please pass the result to `transformed_cell` argument and any exception that happen during thetransform in `preprocessing_exc_tuple` in IPython 7.17 and above.\n",
            "  and should_run_async(code)\n"
          ]
        },
        {
          "output_type": "display_data",
          "data": {
            "text/plain": [
              "<Figure size 800x600 with 1 Axes>"
            ],
            "image/png": "[encoded data removed]"
          },
          "metadata": {}
        }
      ],
      "source": [
        "\n",
        "average_order_value_november = 422.22884170999424\n",
        "average_order_value_january = 379.4039701897019\n",
        "\n",
        "months = ['November', 'January']\n",
        "average_values = [average_order_value_november, average_order_value_january]\n",
        "\n",
        "plt.figure(figsize=(8, 6))\n",
        "plt.bar(months, average_values, color=['orange', 'blue'])\n",
        "plt.title('Average Order Value in November and January')\n",
        "plt.xlabel('Month')\n",
        "plt.ylabel('Average Order Value')\n",
        "plt.ylim(0, max(average_values) + 10)\n",
        "plt.show()\n"
      ]
    },
    {
      "cell_type": "code",
      "execution_count": 16,
      "id": "d3738875",
      "metadata": {
        "colab": {
          "base_uri": "https://localhost:8080/"
        },
        "id": "d3738875",
        "outputId": "f11bc418-a992-4ba8-934b-027d1bd37c24"
      },
      "outputs": [
        {
          "output_type": "stream",
          "name": "stderr",
          "text": [
            "/usr/local/lib/python3.10/dist-packages/ipykernel/ipkernel.py:283: DeprecationWarning: `should_run_async` will not call `transform_cell` automatically in the future. Please pass the result to `transformed_cell` argument and any exception that happen during thetransform in `preprocessing_exc_tuple` in IPython 7.17 and above.\n",
            "  and should_run_async(code)\n"
          ]
        },
        {
          "output_type": "stream",
          "name": "stdout",
          "text": [
            "<class 'pandas.core.frame.DataFrame'>\n",
            "RangeIndex: 541909 entries, 0 to 541908\n",
            "Data columns (total 11 columns):\n",
            " #   Column       Non-Null Count   Dtype         \n",
            "---  ------       --------------   -----         \n",
            " 0   InvoiceNo    541909 non-null  object        \n",
            " 1   StockCode    541909 non-null  object        \n",
            " 2   Description  540455 non-null  object        \n",
            " 3   Quantity     541909 non-null  int64         \n",
            " 4   InvoiceDate  541909 non-null  datetime64[ns]\n",
            " 5   UnitPrice    541909 non-null  float64       \n",
            " 6   CustomerID   406829 non-null  float64       \n",
            " 7   Country      541909 non-null  object        \n",
            " 8   Hour         541909 non-null  int64         \n",
            " 9   Month        541909 non-null  int64         \n",
            " 10  TotalPrice   541909 non-null  float64       \n",
            "dtypes: datetime64[ns](1), float64(3), int64(3), object(4)\n",
            "memory usage: 45.5+ MB\n"
          ]
        }
      ],
      "source": [
        "retail.info()"
      ]
    },
    {
      "cell_type": "code",
      "execution_count": 17,
      "id": "456a2bdb",
      "metadata": {
        "colab": {
          "base_uri": "https://localhost:8080/",
          "height": 355
        },
        "id": "456a2bdb",
        "outputId": "d2535704-4685-453a-b050-7f533882730e"
      },
      "outputs": [
        {
          "output_type": "stream",
          "name": "stderr",
          "text": [
            "/usr/local/lib/python3.10/dist-packages/ipykernel/ipkernel.py:283: DeprecationWarning: `should_run_async` will not call `transform_cell` automatically in the future. Please pass the result to `transformed_cell` argument and any exception that happen during thetransform in `preprocessing_exc_tuple` in IPython 7.17 and above.\n",
            "  and should_run_async(code)\n"
          ]
        },
        {
          "output_type": "execute_result",
          "data": {
            "text/plain": [
              "            Quantity      UnitPrice     CustomerID           Hour  \\\n",
              "count  541909.000000  541909.000000  406829.000000  541909.000000   \n",
              "mean        9.552250       4.611114   15287.690570      13.078729   \n",
              "std       218.081158      96.759853    1713.600303       2.443270   \n",
              "min    -80995.000000  -11062.060000   12346.000000       6.000000   \n",
              "25%         1.000000       1.250000   13953.000000      11.000000   \n",
              "50%         3.000000       2.080000   15152.000000      13.000000   \n",
              "75%        10.000000       4.130000   16791.000000      15.000000   \n",
              "max     80995.000000   38970.000000   18287.000000      20.000000   \n",
              "\n",
              "               Month     TotalPrice  \n",
              "count  541909.000000  541909.000000  \n",
              "mean        7.553128      17.987795  \n",
              "std         3.509055     378.810824  \n",
              "min         1.000000 -168469.600000  \n",
              "25%         5.000000       3.400000  \n",
              "50%         8.000000       9.750000  \n",
              "75%        11.000000      17.400000  \n",
              "max        12.000000  168469.600000  "
            ],
            "text/html": [
              "\n",
              "  <div id=\"df-6ca03b2d-cba5-4b3c-bb27-345e8f2d5ac4\" class=\"colab-df-container\">\n",
              "    <div>\n",
              "<style scoped>\n",
              "    .dataframe tbody tr th:only-of-type {\n",
              "        vertical-align: middle;\n",
              "    }\n",
              "\n",
              "    .dataframe tbody tr th {\n",
              "        vertical-align: top;\n",
              "    }\n",
              "\n",
              "    .dataframe thead th {\n",
              "        text-align: right;\n",
              "    }\n",
              "</style>\n",
              "<table border=\"1\" class=\"dataframe\">\n",
              "  <thead>\n",
              "    <tr style=\"text-align: right;\">\n",
              "      <th></th>\n",
              "      <th>Quantity</th>\n",
              "      <th>UnitPrice</th>\n",
              "      <th>CustomerID</th>\n",
              "      <th>Hour</th>\n",
              "      <th>Month</th>\n",
              "      <th>TotalPrice</th>\n",
              "    </tr>\n",
              "  </thead>\n",
              "  <tbody>\n",
              "    <tr>\n",
              "      <th>count</th>\n",
              "      <td>541909.000000</td>\n",
              "      <td>541909.000000</td>\n",
              "      <td>406829.000000</td>\n",
              "      <td>541909.000000</td>\n",
              "      <td>541909.000000</td>\n",
              "      <td>541909.000000</td>\n",
              "    </tr>\n",
              "    <tr>\n",
              "      <th>mean</th>\n",
              "      <td>9.552250</td>\n",
              "      <td>4.611114</td>\n",
              "      <td>15287.690570</td>\n",
              "      <td>13.078729</td>\n",
              "      <td>7.553128</td>\n",
              "      <td>17.987795</td>\n",
              "    </tr>\n",
              "    <tr>\n",
              "      <th>std</th>\n",
              "      <td>218.081158</td>\n",
              "      <td>96.759853</td>\n",
              "      <td>1713.600303</td>\n",
              "      <td>2.443270</td>\n",
              "      <td>3.509055</td>\n",
              "      <td>378.810824</td>\n",
              "    </tr>\n",
              "    <tr>\n",
              "      <th>min</th>\n",
              "      <td>-80995.000000</td>\n",
              "      <td>-11062.060000</td>\n",
              "      <td>12346.000000</td>\n",
              "      <td>6.000000</td>\n",
              "      <td>1.000000</td>\n",
              "      <td>-168469.600000</td>\n",
              "    </tr>\n",
              "    <tr>\n",
              "      <th>25%</th>\n",
              "      <td>1.000000</td>\n",
              "      <td>1.250000</td>\n",
              "      <td>13953.000000</td>\n",
              "      <td>11.000000</td>\n",
              "      <td>5.000000</td>\n",
              "      <td>3.400000</td>\n",
              "    </tr>\n",
              "    <tr>\n",
              "      <th>50%</th>\n",
              "      <td>3.000000</td>\n",
              "      <td>2.080000</td>\n",
              "      <td>15152.000000</td>\n",
              "      <td>13.000000</td>\n",
              "      <td>8.000000</td>\n",
              "      <td>9.750000</td>\n",
              "    </tr>\n",
              "    <tr>\n",
              "      <th>75%</th>\n",
              "      <td>10.000000</td>\n",
              "      <td>4.130000</td>\n",
              "      <td>16791.000000</td>\n",
              "      <td>15.000000</td>\n",
              "      <td>11.000000</td>\n",
              "      <td>17.400000</td>\n",
              "    </tr>\n",
              "    <tr>\n",
              "      <th>max</th>\n",
              "      <td>80995.000000</td>\n",
              "      <td>38970.000000</td>\n",
              "      <td>18287.000000</td>\n",
              "      <td>20.000000</td>\n",
              "      <td>12.000000</td>\n",
              "      <td>168469.600000</td>\n",
              "    </tr>\n",
              "  </tbody>\n",
              "</table>\n",
              "</div>\n",
              "    <div class=\"colab-df-buttons\">\n",
              "\n",
              "  <div class=\"colab-df-container\">\n",
              "    <button class=\"colab-df-convert\" onclick=\"convertToInteractive('df-6ca03b2d-cba5-4b3c-bb27-345e8f2d5ac4')\"\n",
              "            title=\"Convert this dataframe to an interactive table.\"\n",
              "            style=\"display:none;\">\n",
              "\n",
              "  <svg xmlns=\"http://www.w3.org/2000/svg\" height=\"24px\" viewBox=\"0 -960 960 960\">\n",
              "    <path d=\"M120-120v-720h720v720H120Zm60-500h600v-160H180v160Zm220 220h160v-160H400v160Zm0 220h160v-160H400v160ZM180-400h160v-160H180v160Zm440 0h160v-160H620v160ZM180-180h160v-160H180v160Zm440 0h160v-160H620v160Z\"/>\n",
              "  </svg>\n",
              "    </button>\n",
              "\n",
              "  <style>\n",
              "    .colab-df-container {\n",
              "      display:flex;\n",
              "      gap: 12px;\n",
              "    }\n",
              "\n",
              "    .colab-df-convert {\n",
              "      background-color: #E8F0FE;\n",
              "      border: none;\n",
              "      border-radius: 50%;\n",
              "      cursor: pointer;\n",
              "      display: none;\n",
              "      fill: #1967D2;\n",
              "      height: 32px;\n",
              "      padding: 0 0 0 0;\n",
              "      width: 32px;\n",
              "    }\n",
              "\n",
              "    .colab-df-convert:hover {\n",
              "      background-color: #E2EBFA;\n",
              "      box-shadow: 0px 1px 2px rgba(60, 64, 67, 0.3), 0px 1px 3px 1px rgba(60, 64, 67, 0.15);\n",
              "      fill: #174EA6;\n",
              "    }\n",
              "\n",
              "    .colab-df-buttons div {\n",
              "      margin-bottom: 4px;\n",
              "    }\n",
              "\n",
              "    [theme=dark] .colab-df-convert {\n",
              "      background-color: #3B4455;\n",
              "      fill: #D2E3FC;\n",
              "    }\n",
              "\n",
              "    [theme=dark] .colab-df-convert:hover {\n",
              "      background-color: #434B5C;\n",
              "      box-shadow: 0px 1px 3px 1px rgba(0, 0, 0, 0.15);\n",
              "      filter: drop-shadow(0px 1px 2px rgba(0, 0, 0, 0.3));\n",
              "      fill: #FFFFFF;\n",
              "    }\n",
              "  </style>\n",
              "\n",
              "    <script>\n",
              "      const buttonEl =\n",
              "        document.querySelector('#df-6ca03b2d-cba5-4b3c-bb27-345e8f2d5ac4 button.colab-df-convert');\n",
              "      buttonEl.style.display =\n",
              "        google.colab.kernel.accessAllowed ? 'block' : 'none';\n",
              "\n",
              "      async function convertToInteractive(key) {\n",
              "        const element = document.querySelector('#df-6ca03b2d-cba5-4b3c-bb27-345e8f2d5ac4');\n",
              "        const dataTable =\n",
              "          await google.colab.kernel.invokeFunction('convertToInteractive',\n",
              "                                                    [key], {});\n",
              "        if (!dataTable) return;\n",
              "\n",
              "        const docLinkHtml = 'Like what you see? Visit the ' +\n",
              "          '<a target=\"_blank\" href=https://colab.research.google.com/notebooks/data_table.ipynb>data table notebook</a>'\n",
              "          + ' to learn more about interactive tables.';\n",
              "        element.innerHTML = '';\n",
              "        dataTable['output_type'] = 'display_data';\n",
              "        await google.colab.output.renderOutput(dataTable, element);\n",
              "        const docLink = document.createElement('div');\n",
              "        docLink.innerHTML = docLinkHtml;\n",
              "        element.appendChild(docLink);\n",
              "      }\n",
              "    </script>\n",
              "  </div>\n",
              "\n",
              "\n",
              "<div id=\"df-1e7a6b4b-25d0-40b7-9888-1b6d8ec3f591\">\n",
              "  <button class=\"colab-df-quickchart\" onclick=\"quickchart('df-1e7a6b4b-25d0-40b7-9888-1b6d8ec3f591')\"\n",
              "            title=\"Suggest charts\"\n",
              "            style=\"display:none;\">\n",
              "\n",
              "<svg xmlns=\"http://www.w3.org/2000/svg\" height=\"24px\"viewBox=\"0 0 24 24\"\n",
              "     width=\"24px\">\n",
              "    <g>\n",
              "        <path d=\"M19 3H5c-1.1 0-2 .9-2 2v14c0 1.1.9 2 2 2h14c1.1 0 2-.9 2-2V5c0-1.1-.9-2-2-2zM9 17H7v-7h2v7zm4 0h-2V7h2v10zm4 0h-2v-4h2v4z\"/>\n",
              "    </g>\n",
              "</svg>\n",
              "  </button>\n",
              "\n",
              "<style>\n",
              "  .colab-df-quickchart {\n",
              "      --bg-color: #E8F0FE;\n",
              "      --fill-color: #1967D2;\n",
              "      --hover-bg-color: #E2EBFA;\n",
              "      --hover-fill-color: #174EA6;\n",
              "      --disabled-fill-color: #AAA;\n",
              "      --disabled-bg-color: #DDD;\n",
              "  }\n",
              "\n",
              "  [theme=dark] .colab-df-quickchart {\n",
              "      --bg-color: #3B4455;\n",
              "      --fill-color: #D2E3FC;\n",
              "      --hover-bg-color: #434B5C;\n",
              "      --hover-fill-color: #FFFFFF;\n",
              "      --disabled-bg-color: #3B4455;\n",
              "      --disabled-fill-color: #666;\n",
              "  }\n",
              "\n",
              "  .colab-df-quickchart {\n",
              "    background-color: var(--bg-color);\n",
              "    border: none;\n",
              "    border-radius: 50%;\n",
              "    cursor: pointer;\n",
              "    display: none;\n",
              "    fill: var(--fill-color);\n",
              "    height: 32px;\n",
              "    padding: 0;\n",
              "    width: 32px;\n",
              "  }\n",
              "\n",
              "  .colab-df-quickchart:hover {\n",
              "    background-color: var(--hover-bg-color);\n",
              "    box-shadow: 0 1px 2px rgba(60, 64, 67, 0.3), 0 1px 3px 1px rgba(60, 64, 67, 0.15);\n",
              "    fill: var(--button-hover-fill-color);\n",
              "  }\n",
              "\n",
              "  .colab-df-quickchart-complete:disabled,\n",
              "  .colab-df-quickchart-complete:disabled:hover {\n",
              "    background-color: var(--disabled-bg-color);\n",
              "    fill: var(--disabled-fill-color);\n",
              "    box-shadow: none;\n",
              "  }\n",
              "\n",
              "  .colab-df-spinner {\n",
              "    border: 2px solid var(--fill-color);\n",
              "    border-color: transparent;\n",
              "    border-bottom-color: var(--fill-color);\n",
              "    animation:\n",
              "      spin 1s steps(1) infinite;\n",
              "  }\n",
              "\n",
              "  @keyframes spin {\n",
              "    0% {\n",
              "      border-color: transparent;\n",
              "      border-bottom-color: var(--fill-color);\n",
              "      border-left-color: var(--fill-color);\n",
              "    }\n",
              "    20% {\n",
              "      border-color: transparent;\n",
              "      border-left-color: var(--fill-color);\n",
              "      border-top-color: var(--fill-color);\n",
              "    }\n",
              "    30% {\n",
              "      border-color: transparent;\n",
              "      border-left-color: var(--fill-color);\n",
              "      border-top-color: var(--fill-color);\n",
              "      border-right-color: var(--fill-color);\n",
              "    }\n",
              "    40% {\n",
              "      border-color: transparent;\n",
              "      border-right-color: var(--fill-color);\n",
              "      border-top-color: var(--fill-color);\n",
              "    }\n",
              "    60% {\n",
              "      border-color: transparent;\n",
              "      border-right-color: var(--fill-color);\n",
              "    }\n",
              "    80% {\n",
              "      border-color: transparent;\n",
              "      border-right-color: var(--fill-color);\n",
              "      border-bottom-color: var(--fill-color);\n",
              "    }\n",
              "    90% {\n",
              "      border-color: transparent;\n",
              "      border-bottom-color: var(--fill-color);\n",
              "    }\n",
              "  }\n",
              "</style>\n",
              "\n",
              "  <script>\n",
              "    async function quickchart(key) {\n",
              "      const quickchartButtonEl =\n",
              "        document.querySelector('#' + key + ' button');\n",
              "      quickchartButtonEl.disabled = true;  // To prevent multiple clicks.\n",
              "      quickchartButtonEl.classList.add('colab-df-spinner');\n",
              "      try {\n",
              "        const charts = await google.colab.kernel.invokeFunction(\n",
              "            'suggestCharts', [key], {});\n",
              "      } catch (error) {\n",
              "        console.error('Error during call to suggestCharts:', error);\n",
              "      }\n",
              "      quickchartButtonEl.classList.remove('colab-df-spinner');\n",
              "      quickchartButtonEl.classList.add('colab-df-quickchart-complete');\n",
              "    }\n",
              "    (() => {\n",
              "      let quickchartButtonEl =\n",
              "        document.querySelector('#df-1e7a6b4b-25d0-40b7-9888-1b6d8ec3f591 button');\n",
              "      quickchartButtonEl.style.display =\n",
              "        google.colab.kernel.accessAllowed ? 'block' : 'none';\n",
              "    })();\n",
              "  </script>\n",
              "</div>\n",
              "\n",
              "    </div>\n",
              "  </div>\n"
            ],
            "application/vnd.google.colaboratory.intrinsic+json": {
              "type": "dataframe",
              "summary": "{\n  \"name\": \"retail\",\n  \"rows\": 8,\n  \"fields\": [\n    {\n      \"column\": \"Quantity\",\n      \"properties\": {\n        \"dtype\": \"number\",\n        \"std\": 196412.4226608867,\n        \"min\": -80995.0,\n        \"max\": 541909.0,\n        \"samples\": [\n          9.55224954743324,\n          3.0,\n          541909.0\n        ],\n        \"num_unique_values\": 8,\n        \"semantic_type\": \"\",\n        \"description\": \"\"\n      }\n    },\n    {\n      \"column\": \"UnitPrice\",\n      \"properties\": {\n        \"dtype\": \"number\",\n        \"std\": 190752.0757077193,\n        \"min\": -11062.06,\n        \"max\": 541909.0,\n        \"samples\": [\n          4.611113626088513,\n          2.08,\n          541909.0\n        ],\n        \"num_unique_values\": 8,\n        \"semantic_type\": \"\",\n        \"description\": \"\"\n      }\n    },\n    {\n      \"column\": \"CustomerID\",\n      \"properties\": {\n        \"dtype\": \"number\",\n        \"std\": 139204.16800694188,\n        \"min\": 1713.600303321598,\n        \"max\": 406829.0,\n        \"samples\": [\n          15287.690570239585,\n          15152.0,\n          406829.0\n        ],\n        \"num_unique_values\": 8,\n        \"semantic_type\": \"\",\n        \"description\": \"\"\n      }\n    },\n    {\n      \"column\": \"Hour\",\n      \"properties\": {\n        \"dtype\": \"number\",\n        \"std\": 191589.69744311422,\n        \"min\": 2.4432701086937016,\n        \"max\": 541909.0,\n        \"samples\": [\n          13.078729085510666,\n          13.0,\n          541909.0\n        ],\n        \"num_unique_values\": 8,\n        \"semantic_type\": \"\",\n        \"description\": \"\"\n      }\n    },\n    {\n      \"column\": \"Month\",\n      \"properties\": {\n        \"dtype\": \"number\",\n        \"std\": 191591.3368713546,\n        \"min\": 1.0,\n        \"max\": 541909.0,\n        \"samples\": [\n          7.553127923691985,\n          8.0,\n          541909.0\n        ],\n        \"num_unique_values\": 8,\n        \"semantic_type\": \"\",\n        \"description\": \"\"\n      }\n    },\n    {\n      \"column\": \"TotalPrice\",\n      \"properties\": {\n        \"dtype\": \"number\",\n        \"std\": 211681.5098817808,\n        \"min\": -168469.6,\n        \"max\": 541909.0,\n        \"samples\": [\n          17.98779487699964,\n          9.75,\n          541909.0\n        ],\n        \"num_unique_values\": 8,\n        \"semantic_type\": \"\",\n        \"description\": \"\"\n      }\n    }\n  ]\n}"
            }
          },
          "metadata": {},
          "execution_count": 17
        }
      ],
      "source": [
        "retail.describe()"
      ]
    },
    {
      "cell_type": "markdown",
      "id": "35f2e1b8",
      "metadata": {
        "id": "35f2e1b8"
      },
      "source": [
        "<b>\n",
        "Now to get the data readdy for recommendation system we have to do the following cleaning processes.<br>\n",
        "1.As per the metadata of data we see that some of the invoice code starts with C which indicates cancellation. So these are the orders which didn't get processed. Hence we will be removing these items from the dataset.<br>\n",
        "2. Now as per the data bove we see that minimum value in Quanity column is Negative which is not possible. Hence we will remove the rows having these values negative<br>\n",
        "3. Similar to Quantity column , Unit Price and Total Price  of an item cannot be negative. Hence we will be removing these values as well.\n"
      ]
    },
    {
      "cell_type": "code",
      "execution_count": 18,
      "id": "fd9db4ed",
      "metadata": {
        "colab": {
          "base_uri": "https://localhost:8080/"
        },
        "id": "fd9db4ed",
        "outputId": "2f1adafc-c504-4d97-e04e-ada98e67bcac"
      },
      "outputs": [
        {
          "output_type": "stream",
          "name": "stderr",
          "text": [
            "/usr/local/lib/python3.10/dist-packages/ipykernel/ipkernel.py:283: DeprecationWarning: `should_run_async` will not call `transform_cell` automatically in the future. Please pass the result to `transformed_cell` argument and any exception that happen during thetransform in `preprocessing_exc_tuple` in IPython 7.17 and above.\n",
            "  and should_run_async(code)\n"
          ]
        }
      ],
      "source": [
        "retail=retail[~retail['InvoiceNo'].astype(str).str.startswith('C')]"
      ]
    },
    {
      "cell_type": "code",
      "execution_count": 19,
      "id": "a87f5ff2",
      "metadata": {
        "colab": {
          "base_uri": "https://localhost:8080/"
        },
        "id": "a87f5ff2",
        "outputId": "40d361ca-e310-45ab-acfc-e0bbd3c191cc"
      },
      "outputs": [
        {
          "output_type": "stream",
          "name": "stdout",
          "text": [
            "<class 'pandas.core.frame.DataFrame'>\n",
            "Int64Index: 532621 entries, 0 to 541908\n",
            "Data columns (total 11 columns):\n",
            " #   Column       Non-Null Count   Dtype         \n",
            "---  ------       --------------   -----         \n",
            " 0   InvoiceNo    532621 non-null  object        \n",
            " 1   StockCode    532621 non-null  object        \n",
            " 2   Description  531167 non-null  object        \n",
            " 3   Quantity     532621 non-null  int64         \n",
            " 4   InvoiceDate  532621 non-null  datetime64[ns]\n",
            " 5   UnitPrice    532621 non-null  float64       \n",
            " 6   CustomerID   397924 non-null  float64       \n",
            " 7   Country      532621 non-null  object        \n",
            " 8   Hour         532621 non-null  int64         \n",
            " 9   Month        532621 non-null  int64         \n",
            " 10  TotalPrice   532621 non-null  float64       \n",
            "dtypes: datetime64[ns](1), float64(3), int64(3), object(4)\n",
            "memory usage: 48.8+ MB\n"
          ]
        },
        {
          "output_type": "stream",
          "name": "stderr",
          "text": [
            "/usr/local/lib/python3.10/dist-packages/ipykernel/ipkernel.py:283: DeprecationWarning: `should_run_async` will not call `transform_cell` automatically in the future. Please pass the result to `transformed_cell` argument and any exception that happen during thetransform in `preprocessing_exc_tuple` in IPython 7.17 and above.\n",
            "  and should_run_async(code)\n"
          ]
        }
      ],
      "source": [
        "retail.info()"
      ]
    },
    {
      "cell_type": "code",
      "execution_count": 20,
      "id": "40743eb6",
      "metadata": {
        "colab": {
          "base_uri": "https://localhost:8080/"
        },
        "id": "40743eb6",
        "outputId": "e99e3cd2-0756-4aa0-aedf-b925e887a542"
      },
      "outputs": [
        {
          "output_type": "stream",
          "name": "stderr",
          "text": [
            "/usr/local/lib/python3.10/dist-packages/ipykernel/ipkernel.py:283: DeprecationWarning: `should_run_async` will not call `transform_cell` automatically in the future. Please pass the result to `transformed_cell` argument and any exception that happen during thetransform in `preprocessing_exc_tuple` in IPython 7.17 and above.\n",
            "  and should_run_async(code)\n"
          ]
        }
      ],
      "source": [
        "retail=retail[retail['Quantity']>=0]"
      ]
    },
    {
      "cell_type": "code",
      "execution_count": 21,
      "id": "d7ca58f9",
      "metadata": {
        "colab": {
          "base_uri": "https://localhost:8080/"
        },
        "id": "d7ca58f9",
        "outputId": "032d7caa-b6f2-42fe-b04a-f79092c64050"
      },
      "outputs": [
        {
          "output_type": "stream",
          "name": "stderr",
          "text": [
            "/usr/local/lib/python3.10/dist-packages/ipykernel/ipkernel.py:283: DeprecationWarning: `should_run_async` will not call `transform_cell` automatically in the future. Please pass the result to `transformed_cell` argument and any exception that happen during thetransform in `preprocessing_exc_tuple` in IPython 7.17 and above.\n",
            "  and should_run_async(code)\n"
          ]
        },
        {
          "output_type": "stream",
          "name": "stdout",
          "text": [
            "<class 'pandas.core.frame.DataFrame'>\n",
            "Int64Index: 531285 entries, 0 to 541908\n",
            "Data columns (total 11 columns):\n",
            " #   Column       Non-Null Count   Dtype         \n",
            "---  ------       --------------   -----         \n",
            " 0   InvoiceNo    531285 non-null  object        \n",
            " 1   StockCode    531285 non-null  object        \n",
            " 2   Description  530693 non-null  object        \n",
            " 3   Quantity     531285 non-null  int64         \n",
            " 4   InvoiceDate  531285 non-null  datetime64[ns]\n",
            " 5   UnitPrice    531285 non-null  float64       \n",
            " 6   CustomerID   397924 non-null  float64       \n",
            " 7   Country      531285 non-null  object        \n",
            " 8   Hour         531285 non-null  int64         \n",
            " 9   Month        531285 non-null  int64         \n",
            " 10  TotalPrice   531285 non-null  float64       \n",
            "dtypes: datetime64[ns](1), float64(3), int64(3), object(4)\n",
            "memory usage: 48.6+ MB\n"
          ]
        }
      ],
      "source": [
        "retail.info()"
      ]
    },
    {
      "cell_type": "code",
      "execution_count": 22,
      "id": "3f6a7b83",
      "metadata": {
        "colab": {
          "base_uri": "https://localhost:8080/",
          "height": 355
        },
        "id": "3f6a7b83",
        "outputId": "d90862a7-7705-46bb-f2c1-8a2c84618fab"
      },
      "outputs": [
        {
          "output_type": "stream",
          "name": "stderr",
          "text": [
            "/usr/local/lib/python3.10/dist-packages/ipykernel/ipkernel.py:283: DeprecationWarning: `should_run_async` will not call `transform_cell` automatically in the future. Please pass the result to `transformed_cell` argument and any exception that happen during thetransform in `preprocessing_exc_tuple` in IPython 7.17 and above.\n",
            "  and should_run_async(code)\n"
          ]
        },
        {
          "output_type": "execute_result",
          "data": {
            "text/plain": [
              "            Quantity      UnitPrice     CustomerID           Hour  \\\n",
              "count  531285.000000  531285.000000  397924.000000  531285.000000   \n",
              "mean       10.655262       3.857296   15294.315171      13.076259   \n",
              "std       156.830323      41.810047    1713.169877       2.438303   \n",
              "min         1.000000  -11062.060000   12346.000000       6.000000   \n",
              "25%         1.000000       1.250000   13969.000000      11.000000   \n",
              "50%         3.000000       2.080000   15159.000000      13.000000   \n",
              "75%        10.000000       4.130000   16795.000000      15.000000   \n",
              "max     80995.000000   13541.330000   18287.000000      20.000000   \n",
              "\n",
              "               Month    TotalPrice  \n",
              "count  531285.000000  531285.00000  \n",
              "mean        7.560244      20.03550  \n",
              "std         3.508717     270.91237  \n",
              "min         1.000000  -11062.06000  \n",
              "25%         5.000000       3.75000  \n",
              "50%         8.000000       9.90000  \n",
              "75%        11.000000      17.70000  \n",
              "max        12.000000  168469.60000  "
            ],
            "text/html": [
              "\n",
              "  <div id=\"df-f759822f-158d-428e-adfe-42206089368d\" class=\"colab-df-container\">\n",
              "    <div>\n",
              "<style scoped>\n",
              "    .dataframe tbody tr th:only-of-type {\n",
              "        vertical-align: middle;\n",
              "    }\n",
              "\n",
              "    .dataframe tbody tr th {\n",
              "        vertical-align: top;\n",
              "    }\n",
              "\n",
              "    .dataframe thead th {\n",
              "        text-align: right;\n",
              "    }\n",
              "</style>\n",
              "<table border=\"1\" class=\"dataframe\">\n",
              "  <thead>\n",
              "    <tr style=\"text-align: right;\">\n",
              "      <th></th>\n",
              "      <th>Quantity</th>\n",
              "      <th>UnitPrice</th>\n",
              "      <th>CustomerID</th>\n",
              "      <th>Hour</th>\n",
              "      <th>Month</th>\n",
              "      <th>TotalPrice</th>\n",
              "    </tr>\n",
              "  </thead>\n",
              "  <tbody>\n",
              "    <tr>\n",
              "      <th>count</th>\n",
              "      <td>531285.000000</td>\n",
              "      <td>531285.000000</td>\n",
              "      <td>397924.000000</td>\n",
              "      <td>531285.000000</td>\n",
              "      <td>531285.000000</td>\n",
              "      <td>531285.00000</td>\n",
              "    </tr>\n",
              "    <tr>\n",
              "      <th>mean</th>\n",
              "      <td>10.655262</td>\n",
              "      <td>3.857296</td>\n",
              "      <td>15294.315171</td>\n",
              "      <td>13.076259</td>\n",
              "      <td>7.560244</td>\n",
              "      <td>20.03550</td>\n",
              "    </tr>\n",
              "    <tr>\n",
              "      <th>std</th>\n",
              "      <td>156.830323</td>\n",
              "      <td>41.810047</td>\n",
              "      <td>1713.169877</td>\n",
              "      <td>2.438303</td>\n",
              "      <td>3.508717</td>\n",
              "      <td>270.91237</td>\n",
              "    </tr>\n",
              "    <tr>\n",
              "      <th>min</th>\n",
              "      <td>1.000000</td>\n",
              "      <td>-11062.060000</td>\n",
              "      <td>12346.000000</td>\n",
              "      <td>6.000000</td>\n",
              "      <td>1.000000</td>\n",
              "      <td>-11062.06000</td>\n",
              "    </tr>\n",
              "    <tr>\n",
              "      <th>25%</th>\n",
              "      <td>1.000000</td>\n",
              "      <td>1.250000</td>\n",
              "      <td>13969.000000</td>\n",
              "      <td>11.000000</td>\n",
              "      <td>5.000000</td>\n",
              "      <td>3.75000</td>\n",
              "    </tr>\n",
              "    <tr>\n",
              "      <th>50%</th>\n",
              "      <td>3.000000</td>\n",
              "      <td>2.080000</td>\n",
              "      <td>15159.000000</td>\n",
              "      <td>13.000000</td>\n",
              "      <td>8.000000</td>\n",
              "      <td>9.90000</td>\n",
              "    </tr>\n",
              "    <tr>\n",
              "      <th>75%</th>\n",
              "      <td>10.000000</td>\n",
              "      <td>4.130000</td>\n",
              "      <td>16795.000000</td>\n",
              "      <td>15.000000</td>\n",
              "      <td>11.000000</td>\n",
              "      <td>17.70000</td>\n",
              "    </tr>\n",
              "    <tr>\n",
              "      <th>max</th>\n",
              "      <td>80995.000000</td>\n",
              "      <td>13541.330000</td>\n",
              "      <td>18287.000000</td>\n",
              "      <td>20.000000</td>\n",
              "      <td>12.000000</td>\n",
              "      <td>168469.60000</td>\n",
              "    </tr>\n",
              "  </tbody>\n",
              "</table>\n",
              "</div>\n",
              "    <div class=\"colab-df-buttons\">\n",
              "\n",
              "  <div class=\"colab-df-container\">\n",
              "    <button class=\"colab-df-convert\" onclick=\"convertToInteractive('df-f759822f-158d-428e-adfe-42206089368d')\"\n",
              "            title=\"Convert this dataframe to an interactive table.\"\n",
              "            style=\"display:none;\">\n",
              "\n",
              "  <svg xmlns=\"http://www.w3.org/2000/svg\" height=\"24px\" viewBox=\"0 -960 960 960\">\n",
              "    <path d=\"M120-120v-720h720v720H120Zm60-500h600v-160H180v160Zm220 220h160v-160H400v160Zm0 220h160v-160H400v160ZM180-400h160v-160H180v160Zm440 0h160v-160H620v160ZM180-180h160v-160H180v160Zm440 0h160v-160H620v160Z\"/>\n",
              "  </svg>\n",
              "    </button>\n",
              "\n",
              "  <style>\n",
              "    .colab-df-container {\n",
              "      display:flex;\n",
              "      gap: 12px;\n",
              "    }\n",
              "\n",
              "    .colab-df-convert {\n",
              "      background-color: #E8F0FE;\n",
              "      border: none;\n",
              "      border-radius: 50%;\n",
              "      cursor: pointer;\n",
              "      display: none;\n",
              "      fill: #1967D2;\n",
              "      height: 32px;\n",
              "      padding: 0 0 0 0;\n",
              "      width: 32px;\n",
              "    }\n",
              "\n",
              "    .colab-df-convert:hover {\n",
              "      background-color: #E2EBFA;\n",
              "      box-shadow: 0px 1px 2px rgba(60, 64, 67, 0.3), 0px 1px 3px 1px rgba(60, 64, 67, 0.15);\n",
              "      fill: #174EA6;\n",
              "    }\n",
              "\n",
              "    .colab-df-buttons div {\n",
              "      margin-bottom: 4px;\n",
              "    }\n",
              "\n",
              "    [theme=dark] .colab-df-convert {\n",
              "      background-color: #3B4455;\n",
              "      fill: #D2E3FC;\n",
              "    }\n",
              "\n",
              "    [theme=dark] .colab-df-convert:hover {\n",
              "      background-color: #434B5C;\n",
              "      box-shadow: 0px 1px 3px 1px rgba(0, 0, 0, 0.15);\n",
              "      filter: drop-shadow(0px 1px 2px rgba(0, 0, 0, 0.3));\n",
              "      fill: #FFFFFF;\n",
              "    }\n",
              "  </style>\n",
              "\n",
              "    <script>\n",
              "      const buttonEl =\n",
              "        document.querySelector('#df-f759822f-158d-428e-adfe-42206089368d button.colab-df-convert');\n",
              "      buttonEl.style.display =\n",
              "        google.colab.kernel.accessAllowed ? 'block' : 'none';\n",
              "\n",
              "      async function convertToInteractive(key) {\n",
              "        const element = document.querySelector('#df-f759822f-158d-428e-adfe-42206089368d');\n",
              "        const dataTable =\n",
              "          await google.colab.kernel.invokeFunction('convertToInteractive',\n",
              "                                                    [key], {});\n",
              "        if (!dataTable) return;\n",
              "\n",
              "        const docLinkHtml = 'Like what you see? Visit the ' +\n",
              "          '<a target=\"_blank\" href=https://colab.research.google.com/notebooks/data_table.ipynb>data table notebook</a>'\n",
              "          + ' to learn more about interactive tables.';\n",
              "        element.innerHTML = '';\n",
              "        dataTable['output_type'] = 'display_data';\n",
              "        await google.colab.output.renderOutput(dataTable, element);\n",
              "        const docLink = document.createElement('div');\n",
              "        docLink.innerHTML = docLinkHtml;\n",
              "        element.appendChild(docLink);\n",
              "      }\n",
              "    </script>\n",
              "  </div>\n",
              "\n",
              "\n",
              "<div id=\"df-c400a1f0-9fbf-4d7f-b08a-b8c3ab6f3f73\">\n",
              "  <button class=\"colab-df-quickchart\" onclick=\"quickchart('df-c400a1f0-9fbf-4d7f-b08a-b8c3ab6f3f73')\"\n",
              "            title=\"Suggest charts\"\n",
              "            style=\"display:none;\">\n",
              "\n",
              "<svg xmlns=\"http://www.w3.org/2000/svg\" height=\"24px\"viewBox=\"0 0 24 24\"\n",
              "     width=\"24px\">\n",
              "    <g>\n",
              "        <path d=\"M19 3H5c-1.1 0-2 .9-2 2v14c0 1.1.9 2 2 2h14c1.1 0 2-.9 2-2V5c0-1.1-.9-2-2-2zM9 17H7v-7h2v7zm4 0h-2V7h2v10zm4 0h-2v-4h2v4z\"/>\n",
              "    </g>\n",
              "</svg>\n",
              "  </button>\n",
              "\n",
              "<style>\n",
              "  .colab-df-quickchart {\n",
              "      --bg-color: #E8F0FE;\n",
              "      --fill-color: #1967D2;\n",
              "      --hover-bg-color: #E2EBFA;\n",
              "      --hover-fill-color: #174EA6;\n",
              "      --disabled-fill-color: #AAA;\n",
              "      --disabled-bg-color: #DDD;\n",
              "  }\n",
              "\n",
              "  [theme=dark] .colab-df-quickchart {\n",
              "      --bg-color: #3B4455;\n",
              "      --fill-color: #D2E3FC;\n",
              "      --hover-bg-color: #434B5C;\n",
              "      --hover-fill-color: #FFFFFF;\n",
              "      --disabled-bg-color: #3B4455;\n",
              "      --disabled-fill-color: #666;\n",
              "  }\n",
              "\n",
              "  .colab-df-quickchart {\n",
              "    background-color: var(--bg-color);\n",
              "    border: none;\n",
              "    border-radius: 50%;\n",
              "    cursor: pointer;\n",
              "    display: none;\n",
              "    fill: var(--fill-color);\n",
              "    height: 32px;\n",
              "    padding: 0;\n",
              "    width: 32px;\n",
              "  }\n",
              "\n",
              "  .colab-df-quickchart:hover {\n",
              "    background-color: var(--hover-bg-color);\n",
              "    box-shadow: 0 1px 2px rgba(60, 64, 67, 0.3), 0 1px 3px 1px rgba(60, 64, 67, 0.15);\n",
              "    fill: var(--button-hover-fill-color);\n",
              "  }\n",
              "\n",
              "  .colab-df-quickchart-complete:disabled,\n",
              "  .colab-df-quickchart-complete:disabled:hover {\n",
              "    background-color: var(--disabled-bg-color);\n",
              "    fill: var(--disabled-fill-color);\n",
              "    box-shadow: none;\n",
              "  }\n",
              "\n",
              "  .colab-df-spinner {\n",
              "    border: 2px solid var(--fill-color);\n",
              "    border-color: transparent;\n",
              "    border-bottom-color: var(--fill-color);\n",
              "    animation:\n",
              "      spin 1s steps(1) infinite;\n",
              "  }\n",
              "\n",
              "  @keyframes spin {\n",
              "    0% {\n",
              "      border-color: transparent;\n",
              "      border-bottom-color: var(--fill-color);\n",
              "      border-left-color: var(--fill-color);\n",
              "    }\n",
              "    20% {\n",
              "      border-color: transparent;\n",
              "      border-left-color: var(--fill-color);\n",
              "      border-top-color: var(--fill-color);\n",
              "    }\n",
              "    30% {\n",
              "      border-color: transparent;\n",
              "      border-left-color: var(--fill-color);\n",
              "      border-top-color: var(--fill-color);\n",
              "      border-right-color: var(--fill-color);\n",
              "    }\n",
              "    40% {\n",
              "      border-color: transparent;\n",
              "      border-right-color: var(--fill-color);\n",
              "      border-top-color: var(--fill-color);\n",
              "    }\n",
              "    60% {\n",
              "      border-color: transparent;\n",
              "      border-right-color: var(--fill-color);\n",
              "    }\n",
              "    80% {\n",
              "      border-color: transparent;\n",
              "      border-right-color: var(--fill-color);\n",
              "      border-bottom-color: var(--fill-color);\n",
              "    }\n",
              "    90% {\n",
              "      border-color: transparent;\n",
              "      border-bottom-color: var(--fill-color);\n",
              "    }\n",
              "  }\n",
              "</style>\n",
              "\n",
              "  <script>\n",
              "    async function quickchart(key) {\n",
              "      const quickchartButtonEl =\n",
              "        document.querySelector('#' + key + ' button');\n",
              "      quickchartButtonEl.disabled = true;  // To prevent multiple clicks.\n",
              "      quickchartButtonEl.classList.add('colab-df-spinner');\n",
              "      try {\n",
              "        const charts = await google.colab.kernel.invokeFunction(\n",
              "            'suggestCharts', [key], {});\n",
              "      } catch (error) {\n",
              "        console.error('Error during call to suggestCharts:', error);\n",
              "      }\n",
              "      quickchartButtonEl.classList.remove('colab-df-spinner');\n",
              "      quickchartButtonEl.classList.add('colab-df-quickchart-complete');\n",
              "    }\n",
              "    (() => {\n",
              "      let quickchartButtonEl =\n",
              "        document.querySelector('#df-c400a1f0-9fbf-4d7f-b08a-b8c3ab6f3f73 button');\n",
              "      quickchartButtonEl.style.display =\n",
              "        google.colab.kernel.accessAllowed ? 'block' : 'none';\n",
              "    })();\n",
              "  </script>\n",
              "</div>\n",
              "\n",
              "    </div>\n",
              "  </div>\n"
            ],
            "application/vnd.google.colaboratory.intrinsic+json": {
              "type": "dataframe",
              "summary": "{\n  \"name\": \"retail\",\n  \"rows\": 8,\n  \"fields\": [\n    {\n      \"column\": \"Quantity\",\n      \"properties\": {\n        \"dtype\": \"number\",\n        \"std\": 185909.03268577452,\n        \"min\": 1.0,\n        \"max\": 531285.0,\n        \"samples\": [\n          531285.0,\n          10.655262241546438,\n          10.0\n        ],\n        \"num_unique_values\": 7,\n        \"semantic_type\": \"\",\n        \"description\": \"\"\n      }\n    },\n    {\n      \"column\": \"UnitPrice\",\n      \"properties\": {\n        \"dtype\": \"number\",\n        \"std\": 187825.66502219156,\n        \"min\": -11062.06,\n        \"max\": 531285.0,\n        \"samples\": [\n          3.857296279774508,\n          2.08,\n          531285.0\n        ],\n        \"num_unique_values\": 8,\n        \"semantic_type\": \"\",\n        \"description\": \"\"\n      }\n    },\n    {\n      \"column\": \"CustomerID\",\n      \"properties\": {\n        \"dtype\": \"number\",\n        \"std\": 136056.29384334703,\n        \"min\": 1713.1698773382188,\n        \"max\": 397924.0,\n        \"samples\": [\n          15294.315170736121,\n          15159.0,\n          397924.0\n        ],\n        \"num_unique_values\": 8,\n        \"semantic_type\": \"\",\n        \"description\": \"\"\n      }\n    },\n    {\n      \"column\": \"Hour\",\n      \"properties\": {\n        \"dtype\": \"number\",\n        \"std\": 187833.54659862365,\n        \"min\": 2.4383034586605623,\n        \"max\": 531285.0,\n        \"samples\": [\n          13.076258505322002,\n          13.0,\n          531285.0\n        ],\n        \"num_unique_values\": 8,\n        \"semantic_type\": \"\",\n        \"description\": \"\"\n      }\n    },\n    {\n      \"column\": \"Month\",\n      \"properties\": {\n        \"dtype\": \"number\",\n        \"std\": 187835.18530810584,\n        \"min\": 1.0,\n        \"max\": 531285.0,\n        \"samples\": [\n          7.560243560424254,\n          8.0,\n          531285.0\n        ],\n        \"num_unique_values\": 8,\n        \"semantic_type\": \"\",\n        \"description\": \"\"\n      }\n    },\n    {\n      \"column\": \"TotalPrice\",\n      \"properties\": {\n        \"dtype\": \"number\",\n        \"std\": 189520.26649648327,\n        \"min\": -11062.06,\n        \"max\": 531285.0,\n        \"samples\": [\n          20.035499635788703,\n          9.9,\n          531285.0\n        ],\n        \"num_unique_values\": 8,\n        \"semantic_type\": \"\",\n        \"description\": \"\"\n      }\n    }\n  ]\n}"
            }
          },
          "metadata": {},
          "execution_count": 22
        }
      ],
      "source": [
        "retail.describe()"
      ]
    },
    {
      "cell_type": "markdown",
      "id": "102489c4",
      "metadata": {
        "id": "102489c4"
      },
      "source": [
        "Again we see some columns having negative values so let us remove the rows having price as negative values"
      ]
    },
    {
      "cell_type": "code",
      "execution_count": 23,
      "id": "8e81d684",
      "metadata": {
        "colab": {
          "base_uri": "https://localhost:8080/"
        },
        "id": "8e81d684",
        "outputId": "c4e5be72-8d45-4593-a9a9-5c965f8bf5e1"
      },
      "outputs": [
        {
          "output_type": "stream",
          "name": "stderr",
          "text": [
            "/usr/local/lib/python3.10/dist-packages/ipykernel/ipkernel.py:283: DeprecationWarning: `should_run_async` will not call `transform_cell` automatically in the future. Please pass the result to `transformed_cell` argument and any exception that happen during thetransform in `preprocessing_exc_tuple` in IPython 7.17 and above.\n",
            "  and should_run_async(code)\n"
          ]
        }
      ],
      "source": [
        "retail=retail[retail['UnitPrice']>=0]"
      ]
    },
    {
      "cell_type": "code",
      "execution_count": 24,
      "id": "d5698e28",
      "metadata": {
        "colab": {
          "base_uri": "https://localhost:8080/",
          "height": 355
        },
        "id": "d5698e28",
        "outputId": "ec25f2a8-5249-4829-f1bb-964b575f533f"
      },
      "outputs": [
        {
          "output_type": "stream",
          "name": "stderr",
          "text": [
            "/usr/local/lib/python3.10/dist-packages/ipykernel/ipkernel.py:283: DeprecationWarning: `should_run_async` will not call `transform_cell` automatically in the future. Please pass the result to `transformed_cell` argument and any exception that happen during thetransform in `preprocessing_exc_tuple` in IPython 7.17 and above.\n",
            "  and should_run_async(code)\n"
          ]
        },
        {
          "output_type": "execute_result",
          "data": {
            "text/plain": [
              "            Quantity      UnitPrice     CustomerID           Hour  \\\n",
              "count  531283.000000  531283.000000  397924.000000  531283.000000   \n",
              "mean       10.655299       3.898954   15294.315171      13.076255   \n",
              "std       156.830617      35.876279    1713.169877       2.438307   \n",
              "min         1.000000       0.000000   12346.000000       6.000000   \n",
              "25%         1.000000       1.250000   13969.000000      11.000000   \n",
              "50%         3.000000       2.080000   15159.000000      13.000000   \n",
              "75%        10.000000       4.130000   16795.000000      15.000000   \n",
              "max     80995.000000   13541.330000   18287.000000      20.000000   \n",
              "\n",
              "               Month     TotalPrice  \n",
              "count  531283.000000  531283.000000  \n",
              "mean        7.560242      20.077218  \n",
              "std         3.508723     270.058254  \n",
              "min         1.000000       0.000000  \n",
              "25%         5.000000       3.750000  \n",
              "50%         8.000000       9.900000  \n",
              "75%        11.000000      17.700000  \n",
              "max        12.000000  168469.600000  "
            ],
            "text/html": [
              "\n",
              "  <div id=\"df-67f9d9c6-26c8-40da-a9e9-a5c7d5d510be\" class=\"colab-df-container\">\n",
              "    <div>\n",
              "<style scoped>\n",
              "    .dataframe tbody tr th:only-of-type {\n",
              "        vertical-align: middle;\n",
              "    }\n",
              "\n",
              "    .dataframe tbody tr th {\n",
              "        vertical-align: top;\n",
              "    }\n",
              "\n",
              "    .dataframe thead th {\n",
              "        text-align: right;\n",
              "    }\n",
              "</style>\n",
              "<table border=\"1\" class=\"dataframe\">\n",
              "  <thead>\n",
              "    <tr style=\"text-align: right;\">\n",
              "      <th></th>\n",
              "      <th>Quantity</th>\n",
              "      <th>UnitPrice</th>\n",
              "      <th>CustomerID</th>\n",
              "      <th>Hour</th>\n",
              "      <th>Month</th>\n",
              "      <th>TotalPrice</th>\n",
              "    </tr>\n",
              "  </thead>\n",
              "  <tbody>\n",
              "    <tr>\n",
              "      <th>count</th>\n",
              "      <td>531283.000000</td>\n",
              "      <td>531283.000000</td>\n",
              "      <td>397924.000000</td>\n",
              "      <td>531283.000000</td>\n",
              "      <td>531283.000000</td>\n",
              "      <td>531283.000000</td>\n",
              "    </tr>\n",
              "    <tr>\n",
              "      <th>mean</th>\n",
              "      <td>10.655299</td>\n",
              "      <td>3.898954</td>\n",
              "      <td>15294.315171</td>\n",
              "      <td>13.076255</td>\n",
              "      <td>7.560242</td>\n",
              "      <td>20.077218</td>\n",
              "    </tr>\n",
              "    <tr>\n",
              "      <th>std</th>\n",
              "      <td>156.830617</td>\n",
              "      <td>35.876279</td>\n",
              "      <td>1713.169877</td>\n",
              "      <td>2.438307</td>\n",
              "      <td>3.508723</td>\n",
              "      <td>270.058254</td>\n",
              "    </tr>\n",
              "    <tr>\n",
              "      <th>min</th>\n",
              "      <td>1.000000</td>\n",
              "      <td>0.000000</td>\n",
              "      <td>12346.000000</td>\n",
              "      <td>6.000000</td>\n",
              "      <td>1.000000</td>\n",
              "      <td>0.000000</td>\n",
              "    </tr>\n",
              "    <tr>\n",
              "      <th>25%</th>\n",
              "      <td>1.000000</td>\n",
              "      <td>1.250000</td>\n",
              "      <td>13969.000000</td>\n",
              "      <td>11.000000</td>\n",
              "      <td>5.000000</td>\n",
              "      <td>3.750000</td>\n",
              "    </tr>\n",
              "    <tr>\n",
              "      <th>50%</th>\n",
              "      <td>3.000000</td>\n",
              "      <td>2.080000</td>\n",
              "      <td>15159.000000</td>\n",
              "      <td>13.000000</td>\n",
              "      <td>8.000000</td>\n",
              "      <td>9.900000</td>\n",
              "    </tr>\n",
              "    <tr>\n",
              "      <th>75%</th>\n",
              "      <td>10.000000</td>\n",
              "      <td>4.130000</td>\n",
              "      <td>16795.000000</td>\n",
              "      <td>15.000000</td>\n",
              "      <td>11.000000</td>\n",
              "      <td>17.700000</td>\n",
              "    </tr>\n",
              "    <tr>\n",
              "      <th>max</th>\n",
              "      <td>80995.000000</td>\n",
              "      <td>13541.330000</td>\n",
              "      <td>18287.000000</td>\n",
              "      <td>20.000000</td>\n",
              "      <td>12.000000</td>\n",
              "      <td>168469.600000</td>\n",
              "    </tr>\n",
              "  </tbody>\n",
              "</table>\n",
              "</div>\n",
              "    <div class=\"colab-df-buttons\">\n",
              "\n",
              "  <div class=\"colab-df-container\">\n",
              "    <button class=\"colab-df-convert\" onclick=\"convertToInteractive('df-67f9d9c6-26c8-40da-a9e9-a5c7d5d510be')\"\n",
              "            title=\"Convert this dataframe to an interactive table.\"\n",
              "            style=\"display:none;\">\n",
              "\n",
              "  <svg xmlns=\"http://www.w3.org/2000/svg\" height=\"24px\" viewBox=\"0 -960 960 960\">\n",
              "    <path d=\"M120-120v-720h720v720H120Zm60-500h600v-160H180v160Zm220 220h160v-160H400v160Zm0 220h160v-160H400v160ZM180-400h160v-160H180v160Zm440 0h160v-160H620v160ZM180-180h160v-160H180v160Zm440 0h160v-160H620v160Z\"/>\n",
              "  </svg>\n",
              "    </button>\n",
              "\n",
              "  <style>\n",
              "    .colab-df-container {\n",
              "      display:flex;\n",
              "      gap: 12px;\n",
              "    }\n",
              "\n",
              "    .colab-df-convert {\n",
              "      background-color: #E8F0FE;\n",
              "      border: none;\n",
              "      border-radius: 50%;\n",
              "      cursor: pointer;\n",
              "      display: none;\n",
              "      fill: #1967D2;\n",
              "      height: 32px;\n",
              "      padding: 0 0 0 0;\n",
              "      width: 32px;\n",
              "    }\n",
              "\n",
              "    .colab-df-convert:hover {\n",
              "      background-color: #E2EBFA;\n",
              "      box-shadow: 0px 1px 2px rgba(60, 64, 67, 0.3), 0px 1px 3px 1px rgba(60, 64, 67, 0.15);\n",
              "      fill: #174EA6;\n",
              "    }\n",
              "\n",
              "    .colab-df-buttons div {\n",
              "      margin-bottom: 4px;\n",
              "    }\n",
              "\n",
              "    [theme=dark] .colab-df-convert {\n",
              "      background-color: #3B4455;\n",
              "      fill: #D2E3FC;\n",
              "    }\n",
              "\n",
              "    [theme=dark] .colab-df-convert:hover {\n",
              "      background-color: #434B5C;\n",
              "      box-shadow: 0px 1px 3px 1px rgba(0, 0, 0, 0.15);\n",
              "      filter: drop-shadow(0px 1px 2px rgba(0, 0, 0, 0.3));\n",
              "      fill: #FFFFFF;\n",
              "    }\n",
              "  </style>\n",
              "\n",
              "    <script>\n",
              "      const buttonEl =\n",
              "        document.querySelector('#df-67f9d9c6-26c8-40da-a9e9-a5c7d5d510be button.colab-df-convert');\n",
              "      buttonEl.style.display =\n",
              "        google.colab.kernel.accessAllowed ? 'block' : 'none';\n",
              "\n",
              "      async function convertToInteractive(key) {\n",
              "        const element = document.querySelector('#df-67f9d9c6-26c8-40da-a9e9-a5c7d5d510be');\n",
              "        const dataTable =\n",
              "          await google.colab.kernel.invokeFunction('convertToInteractive',\n",
              "                                                    [key], {});\n",
              "        if (!dataTable) return;\n",
              "\n",
              "        const docLinkHtml = 'Like what you see? Visit the ' +\n",
              "          '<a target=\"_blank\" href=https://colab.research.google.com/notebooks/data_table.ipynb>data table notebook</a>'\n",
              "          + ' to learn more about interactive tables.';\n",
              "        element.innerHTML = '';\n",
              "        dataTable['output_type'] = 'display_data';\n",
              "        await google.colab.output.renderOutput(dataTable, element);\n",
              "        const docLink = document.createElement('div');\n",
              "        docLink.innerHTML = docLinkHtml;\n",
              "        element.appendChild(docLink);\n",
              "      }\n",
              "    </script>\n",
              "  </div>\n",
              "\n",
              "\n",
              "<div id=\"df-cba4ee08-6d1f-4cd8-8697-d29781e5cbcb\">\n",
              "  <button class=\"colab-df-quickchart\" onclick=\"quickchart('df-cba4ee08-6d1f-4cd8-8697-d29781e5cbcb')\"\n",
              "            title=\"Suggest charts\"\n",
              "            style=\"display:none;\">\n",
              "\n",
              "<svg xmlns=\"http://www.w3.org/2000/svg\" height=\"24px\"viewBox=\"0 0 24 24\"\n",
              "     width=\"24px\">\n",
              "    <g>\n",
              "        <path d=\"M19 3H5c-1.1 0-2 .9-2 2v14c0 1.1.9 2 2 2h14c1.1 0 2-.9 2-2V5c0-1.1-.9-2-2-2zM9 17H7v-7h2v7zm4 0h-2V7h2v10zm4 0h-2v-4h2v4z\"/>\n",
              "    </g>\n",
              "</svg>\n",
              "  </button>\n",
              "\n",
              "<style>\n",
              "  .colab-df-quickchart {\n",
              "      --bg-color: #E8F0FE;\n",
              "      --fill-color: #1967D2;\n",
              "      --hover-bg-color: #E2EBFA;\n",
              "      --hover-fill-color: #174EA6;\n",
              "      --disabled-fill-color: #AAA;\n",
              "      --disabled-bg-color: #DDD;\n",
              "  }\n",
              "\n",
              "  [theme=dark] .colab-df-quickchart {\n",
              "      --bg-color: #3B4455;\n",
              "      --fill-color: #D2E3FC;\n",
              "      --hover-bg-color: #434B5C;\n",
              "      --hover-fill-color: #FFFFFF;\n",
              "      --disabled-bg-color: #3B4455;\n",
              "      --disabled-fill-color: #666;\n",
              "  }\n",
              "\n",
              "  .colab-df-quickchart {\n",
              "    background-color: var(--bg-color);\n",
              "    border: none;\n",
              "    border-radius: 50%;\n",
              "    cursor: pointer;\n",
              "    display: none;\n",
              "    fill: var(--fill-color);\n",
              "    height: 32px;\n",
              "    padding: 0;\n",
              "    width: 32px;\n",
              "  }\n",
              "\n",
              "  .colab-df-quickchart:hover {\n",
              "    background-color: var(--hover-bg-color);\n",
              "    box-shadow: 0 1px 2px rgba(60, 64, 67, 0.3), 0 1px 3px 1px rgba(60, 64, 67, 0.15);\n",
              "    fill: var(--button-hover-fill-color);\n",
              "  }\n",
              "\n",
              "  .colab-df-quickchart-complete:disabled,\n",
              "  .colab-df-quickchart-complete:disabled:hover {\n",
              "    background-color: var(--disabled-bg-color);\n",
              "    fill: var(--disabled-fill-color);\n",
              "    box-shadow: none;\n",
              "  }\n",
              "\n",
              "  .colab-df-spinner {\n",
              "    border: 2px solid var(--fill-color);\n",
              "    border-color: transparent;\n",
              "    border-bottom-color: var(--fill-color);\n",
              "    animation:\n",
              "      spin 1s steps(1) infinite;\n",
              "  }\n",
              "\n",
              "  @keyframes spin {\n",
              "    0% {\n",
              "      border-color: transparent;\n",
              "      border-bottom-color: var(--fill-color);\n",
              "      border-left-color: var(--fill-color);\n",
              "    }\n",
              "    20% {\n",
              "      border-color: transparent;\n",
              "      border-left-color: var(--fill-color);\n",
              "      border-top-color: var(--fill-color);\n",
              "    }\n",
              "    30% {\n",
              "      border-color: transparent;\n",
              "      border-left-color: var(--fill-color);\n",
              "      border-top-color: var(--fill-color);\n",
              "      border-right-color: var(--fill-color);\n",
              "    }\n",
              "    40% {\n",
              "      border-color: transparent;\n",
              "      border-right-color: var(--fill-color);\n",
              "      border-top-color: var(--fill-color);\n",
              "    }\n",
              "    60% {\n",
              "      border-color: transparent;\n",
              "      border-right-color: var(--fill-color);\n",
              "    }\n",
              "    80% {\n",
              "      border-color: transparent;\n",
              "      border-right-color: var(--fill-color);\n",
              "      border-bottom-color: var(--fill-color);\n",
              "    }\n",
              "    90% {\n",
              "      border-color: transparent;\n",
              "      border-bottom-color: var(--fill-color);\n",
              "    }\n",
              "  }\n",
              "</style>\n",
              "\n",
              "  <script>\n",
              "    async function quickchart(key) {\n",
              "      const quickchartButtonEl =\n",
              "        document.querySelector('#' + key + ' button');\n",
              "      quickchartButtonEl.disabled = true;  // To prevent multiple clicks.\n",
              "      quickchartButtonEl.classList.add('colab-df-spinner');\n",
              "      try {\n",
              "        const charts = await google.colab.kernel.invokeFunction(\n",
              "            'suggestCharts', [key], {});\n",
              "      } catch (error) {\n",
              "        console.error('Error during call to suggestCharts:', error);\n",
              "      }\n",
              "      quickchartButtonEl.classList.remove('colab-df-spinner');\n",
              "      quickchartButtonEl.classList.add('colab-df-quickchart-complete');\n",
              "    }\n",
              "    (() => {\n",
              "      let quickchartButtonEl =\n",
              "        document.querySelector('#df-cba4ee08-6d1f-4cd8-8697-d29781e5cbcb button');\n",
              "      quickchartButtonEl.style.display =\n",
              "        google.colab.kernel.accessAllowed ? 'block' : 'none';\n",
              "    })();\n",
              "  </script>\n",
              "</div>\n",
              "\n",
              "    </div>\n",
              "  </div>\n"
            ],
            "application/vnd.google.colaboratory.intrinsic+json": {
              "type": "dataframe",
              "summary": "{\n  \"name\": \"retail\",\n  \"rows\": 8,\n  \"fields\": [\n    {\n      \"column\": \"Quantity\",\n      \"properties\": {\n        \"dtype\": \"number\",\n        \"std\": 185908.33381894967,\n        \"min\": 1.0,\n        \"max\": 531283.0,\n        \"samples\": [\n          531283.0,\n          10.655298588511208,\n          10.0\n        ],\n        \"num_unique_values\": 7,\n        \"semantic_type\": \"\",\n        \"description\": \"\"\n      }\n    },\n    {\n      \"column\": \"UnitPrice\",\n      \"properties\": {\n        \"dtype\": \"number\",\n        \"std\": 187210.48780433676,\n        \"min\": 0.0,\n        \"max\": 531283.0,\n        \"samples\": [\n          3.8989536160577316,\n          2.08,\n          531283.0\n        ],\n        \"num_unique_values\": 8,\n        \"semantic_type\": \"\",\n        \"description\": \"\"\n      }\n    },\n    {\n      \"column\": \"CustomerID\",\n      \"properties\": {\n        \"dtype\": \"number\",\n        \"std\": 136056.29384334703,\n        \"min\": 1713.169877338219,\n        \"max\": 397924.0,\n        \"samples\": [\n          15294.315170736121,\n          15159.0,\n          397924.0\n        ],\n        \"num_unique_values\": 8,\n        \"semantic_type\": \"\",\n        \"description\": \"\"\n      }\n    },\n    {\n      \"column\": \"Hour\",\n      \"properties\": {\n        \"dtype\": \"number\",\n        \"std\": 187832.83949181982,\n        \"min\": 2.438307389425569,\n        \"max\": 531283.0,\n        \"samples\": [\n          13.076255027922972,\n          13.0,\n          531283.0\n        ],\n        \"num_unique_values\": 8,\n        \"semantic_type\": \"\",\n        \"description\": \"\"\n      }\n    },\n    {\n      \"column\": \"Month\",\n      \"properties\": {\n        \"dtype\": \"number\",\n        \"std\": 187834.47820108006,\n        \"min\": 1.0,\n        \"max\": 531283.0,\n        \"samples\": [\n          7.560241904973433,\n          8.0,\n          531283.0\n        ],\n        \"num_unique_values\": 8,\n        \"semantic_type\": \"\",\n        \"description\": \"\"\n      }\n    },\n    {\n      \"column\": \"TotalPrice\",\n      \"properties\": {\n        \"dtype\": \"number\",\n        \"std\": 188748.0332269984,\n        \"min\": 0.0,\n        \"max\": 531283.0,\n        \"samples\": [\n          20.077217874466143,\n          9.9,\n          531283.0\n        ],\n        \"num_unique_values\": 8,\n        \"semantic_type\": \"\",\n        \"description\": \"\"\n      }\n    }\n  ]\n}"
            }
          },
          "metadata": {},
          "execution_count": 24
        }
      ],
      "source": [
        "retail.describe()"
      ]
    },
    {
      "cell_type": "code",
      "execution_count": 25,
      "id": "16fba81a",
      "metadata": {
        "colab": {
          "base_uri": "https://localhost:8080/"
        },
        "id": "16fba81a",
        "outputId": "c737a7bb-8692-46b8-803c-cb7445b6f386"
      },
      "outputs": [
        {
          "output_type": "stream",
          "name": "stderr",
          "text": [
            "/usr/local/lib/python3.10/dist-packages/ipykernel/ipkernel.py:283: DeprecationWarning: `should_run_async` will not call `transform_cell` automatically in the future. Please pass the result to `transformed_cell` argument and any exception that happen during thetransform in `preprocessing_exc_tuple` in IPython 7.17 and above.\n",
            "  and should_run_async(code)\n"
          ]
        },
        {
          "output_type": "stream",
          "name": "stdout",
          "text": [
            "<class 'pandas.core.frame.DataFrame'>\n",
            "Int64Index: 531283 entries, 0 to 541908\n",
            "Data columns (total 11 columns):\n",
            " #   Column       Non-Null Count   Dtype         \n",
            "---  ------       --------------   -----         \n",
            " 0   InvoiceNo    531283 non-null  object        \n",
            " 1   StockCode    531283 non-null  object        \n",
            " 2   Description  530691 non-null  object        \n",
            " 3   Quantity     531283 non-null  int64         \n",
            " 4   InvoiceDate  531283 non-null  datetime64[ns]\n",
            " 5   UnitPrice    531283 non-null  float64       \n",
            " 6   CustomerID   397924 non-null  float64       \n",
            " 7   Country      531283 non-null  object        \n",
            " 8   Hour         531283 non-null  int64         \n",
            " 9   Month        531283 non-null  int64         \n",
            " 10  TotalPrice   531283 non-null  float64       \n",
            "dtypes: datetime64[ns](1), float64(3), int64(3), object(4)\n",
            "memory usage: 48.6+ MB\n"
          ]
        }
      ],
      "source": [
        "retail.info()"
      ]
    },
    {
      "cell_type": "markdown",
      "id": "bbf99363",
      "metadata": {
        "id": "bbf99363"
      },
      "source": [
        "<b>\n",
        "PROGRESS TILL WEEK 2 - <BR>\n",
        "    1. Group members have completed the visualizations and derive actionable insights from the visualizations.<br>\n",
        "    2. Group members have started the exploratory decision analysis on some columns like InvoiceNo , Quantity etc.\n",
        "    <br>\n",
        "    TASKS TO BE DONE TILL WEEK 3 - <br>\n",
        "    1.Complete the exploratory decision analysis.\n",
        "    \n",
        "    "
      ]
    },
    {
      "cell_type": "code",
      "execution_count": 26,
      "id": "e34a41ec",
      "metadata": {
        "colab": {
          "base_uri": "https://localhost:8080/"
        },
        "id": "e34a41ec",
        "outputId": "fa4b5eb9-0e36-4dce-84b3-105346e205ed"
      },
      "outputs": [
        {
          "output_type": "stream",
          "name": "stderr",
          "text": [
            "/usr/local/lib/python3.10/dist-packages/ipykernel/ipkernel.py:283: DeprecationWarning: `should_run_async` will not call `transform_cell` automatically in the future. Please pass the result to `transformed_cell` argument and any exception that happen during thetransform in `preprocessing_exc_tuple` in IPython 7.17 and above.\n",
            "  and should_run_async(code)\n",
            "/usr/local/lib/python3.10/dist-packages/pandas/core/algorithms.py:522: DeprecationWarning: np.find_common_type is deprecated.  Please use `np.result_type` or `np.promote_types`.\n",
            "See https://numpy.org/devdocs/release/1.25.0-notes.html and the docs for more information.  (Deprecated NumPy 1.25)\n",
            "  common = np.find_common_type([values.dtype, comps_array.dtype], [])\n"
          ]
        }
      ],
      "source": [
        "# Non-product related stock codes\n",
        "non_product_codes = ['AMAZONFEE', 'BANK CHARGES', 'C2', 'DCGSSBOY', 'DCGSSGIRL',\n",
        "                     'DOT', 'gift_0001_', 'PADS', 'POST']\n",
        "\n",
        "# Removing them\n",
        "retail = retail[~retail['StockCode'].isin(non_product_codes)]\n"
      ]
    },
    {
      "cell_type": "code",
      "execution_count": 27,
      "id": "608875e5",
      "metadata": {
        "colab": {
          "base_uri": "https://localhost:8080/"
        },
        "id": "608875e5",
        "outputId": "67a4d73d-bc22-47ba-cb12-3c2e86c48a06"
      },
      "outputs": [
        {
          "output_type": "stream",
          "name": "stderr",
          "text": [
            "/usr/local/lib/python3.10/dist-packages/ipykernel/ipkernel.py:283: DeprecationWarning: `should_run_async` will not call `transform_cell` automatically in the future. Please pass the result to `transformed_cell` argument and any exception that happen during thetransform in `preprocessing_exc_tuple` in IPython 7.17 and above.\n",
            "  and should_run_async(code)\n"
          ]
        },
        {
          "output_type": "stream",
          "name": "stdout",
          "text": [
            "<class 'pandas.core.frame.DataFrame'>\n",
            "Int64Index: 529260 entries, 0 to 541908\n",
            "Data columns (total 11 columns):\n",
            " #   Column       Non-Null Count   Dtype         \n",
            "---  ------       --------------   -----         \n",
            " 0   InvoiceNo    529260 non-null  object        \n",
            " 1   StockCode    529260 non-null  object        \n",
            " 2   Description  528674 non-null  object        \n",
            " 3   Quantity     529260 non-null  int64         \n",
            " 4   InvoiceDate  529260 non-null  datetime64[ns]\n",
            " 5   UnitPrice    529260 non-null  float64       \n",
            " 6   CustomerID   396660 non-null  float64       \n",
            " 7   Country      529260 non-null  object        \n",
            " 8   Hour         529260 non-null  int64         \n",
            " 9   Month        529260 non-null  int64         \n",
            " 10  TotalPrice   529260 non-null  float64       \n",
            "dtypes: datetime64[ns](1), float64(3), int64(3), object(4)\n",
            "memory usage: 48.5+ MB\n"
          ]
        }
      ],
      "source": [
        "retail.info()"
      ]
    },
    {
      "cell_type": "code",
      "execution_count": 28,
      "id": "f5301e94",
      "metadata": {
        "colab": {
          "base_uri": "https://localhost:8080/"
        },
        "id": "f5301e94",
        "outputId": "00b929d9-6b14-4db3-cc59-c480cd34a9cb"
      },
      "outputs": [
        {
          "output_type": "stream",
          "name": "stderr",
          "text": [
            "/usr/local/lib/python3.10/dist-packages/ipykernel/ipkernel.py:283: DeprecationWarning: `should_run_async` will not call `transform_cell` automatically in the future. Please pass the result to `transformed_cell` argument and any exception that happen during thetransform in `preprocessing_exc_tuple` in IPython 7.17 and above.\n",
            "  and should_run_async(code)\n",
            "/usr/local/lib/python3.10/dist-packages/pandas/core/algorithms.py:522: DeprecationWarning: np.find_common_type is deprecated.  Please use `np.result_type` or `np.promote_types`.\n",
            "See https://numpy.org/devdocs/release/1.25.0-notes.html and the docs for more information.  (Deprecated NumPy 1.25)\n",
            "  common = np.find_common_type([values.dtype, comps_array.dtype], [])\n"
          ]
        }
      ],
      "source": [
        "# Unwanted descriptions that we will be removing\n",
        "unwanted_descriptions = [\"check\", \"check?\", \"?\", \"??\", \"damaged\", \"found\",\n",
        "                          \"adjustment\", \"Amazon\", \"AMAZON\", \"amazon adjust\",\n",
        "                          \"Amazon Adjustment\", \"amazon sales\", \"Found\", \"FOUND\",\n",
        "                          \"found box\", \"Found by jackie \", \"Found in w/hse\", \"dotcom\",\n",
        "                          \"dotcom adjust\", \"allocate stock for dotcom orders ta\", \"FBA\",\n",
        "                          \"Dotcomgiftshop Gift Voucher £100.00\", \"on cargo order\",\n",
        "                          \"wrongly sold (22719) barcode\", \"wrongly marked 23343\",\n",
        "                          \"dotcomstock\", \"rcvd be air temp fix for dotcom sit\", \"Manual\",\n",
        "                          \"John Lewis\", \"had been put aside\", \"for online retail orders\",\n",
        "                          \"taig adjust\", \"amazon\", \"incorrectly credited C550456 see 47\",\n",
        "                          \"returned\", \"wrongly coded 20713\", \"came coded as 20713\",\n",
        "                          \"add stock to allocate online orders\", \"Adjust bad debt\",\n",
        "                          \"alan hodge cant mamage this section\", \"website fixed\",\n",
        "                          \"did  a credit  and did not tick ret\", \"michel oops\",\n",
        "                          \"incorrectly credited C550456 see 47\", \"mailout\", \"test\",\n",
        "                          \"Sale error\",  \"Lighthouse Trading zero invc incorr\", \"SAMPLES\",\n",
        "                          \"Marked as 23343\", \"wrongly coded 23343\",\"Adjustment\",\n",
        "                          \"rcvd be air temp fix for dotcom sit\", \"Had been put aside.\"]\n",
        "\n",
        "# Removing these rows\n",
        "retail = retail[~retail['Description'].isin(unwanted_descriptions)]\n"
      ]
    },
    {
      "cell_type": "code",
      "execution_count": 29,
      "id": "0548fbe7",
      "metadata": {
        "colab": {
          "base_uri": "https://localhost:8080/"
        },
        "id": "0548fbe7",
        "outputId": "0c479c63-52e4-4267-82d8-28c82b358cca"
      },
      "outputs": [
        {
          "output_type": "stream",
          "name": "stderr",
          "text": [
            "/usr/local/lib/python3.10/dist-packages/ipykernel/ipkernel.py:283: DeprecationWarning: `should_run_async` will not call `transform_cell` automatically in the future. Please pass the result to `transformed_cell` argument and any exception that happen during thetransform in `preprocessing_exc_tuple` in IPython 7.17 and above.\n",
            "  and should_run_async(code)\n"
          ]
        },
        {
          "output_type": "stream",
          "name": "stdout",
          "text": [
            "<class 'pandas.core.frame.DataFrame'>\n",
            "Int64Index: 528767 entries, 0 to 541908\n",
            "Data columns (total 11 columns):\n",
            " #   Column       Non-Null Count   Dtype         \n",
            "---  ------       --------------   -----         \n",
            " 0   InvoiceNo    528767 non-null  object        \n",
            " 1   StockCode    528767 non-null  object        \n",
            " 2   Description  528181 non-null  object        \n",
            " 3   Quantity     528767 non-null  int64         \n",
            " 4   InvoiceDate  528767 non-null  datetime64[ns]\n",
            " 5   UnitPrice    528767 non-null  float64       \n",
            " 6   CustomerID   396370 non-null  float64       \n",
            " 7   Country      528767 non-null  object        \n",
            " 8   Hour         528767 non-null  int64         \n",
            " 9   Month        528767 non-null  int64         \n",
            " 10  TotalPrice   528767 non-null  float64       \n",
            "dtypes: datetime64[ns](1), float64(3), int64(3), object(4)\n",
            "memory usage: 48.4+ MB\n"
          ]
        }
      ],
      "source": [
        "retail.info()"
      ]
    },
    {
      "cell_type": "code",
      "execution_count": 30,
      "id": "7a6e1905",
      "metadata": {
        "colab": {
          "base_uri": "https://localhost:8080/"
        },
        "id": "7a6e1905",
        "outputId": "50e7a309-0886-4ecd-eb2c-7dc47c24b5d9"
      },
      "outputs": [
        {
          "output_type": "stream",
          "name": "stderr",
          "text": [
            "/usr/local/lib/python3.10/dist-packages/ipykernel/ipkernel.py:283: DeprecationWarning: `should_run_async` will not call `transform_cell` automatically in the future. Please pass the result to `transformed_cell` argument and any exception that happen during thetransform in `preprocessing_exc_tuple` in IPython 7.17 and above.\n",
            "  and should_run_async(code)\n"
          ]
        }
      ],
      "source": [
        "# Removing rows where 'Description' is NaN\n",
        "retail = retail.dropna(subset=['Description'])"
      ]
    },
    {
      "cell_type": "code",
      "execution_count": 31,
      "id": "e8490cc4",
      "metadata": {
        "colab": {
          "base_uri": "https://localhost:8080/"
        },
        "id": "e8490cc4",
        "outputId": "f470eebf-90d5-447e-d9e1-25137961a04e"
      },
      "outputs": [
        {
          "output_type": "stream",
          "name": "stderr",
          "text": [
            "/usr/local/lib/python3.10/dist-packages/ipykernel/ipkernel.py:283: DeprecationWarning: `should_run_async` will not call `transform_cell` automatically in the future. Please pass the result to `transformed_cell` argument and any exception that happen during thetransform in `preprocessing_exc_tuple` in IPython 7.17 and above.\n",
            "  and should_run_async(code)\n"
          ]
        },
        {
          "output_type": "stream",
          "name": "stdout",
          "text": [
            "<class 'pandas.core.frame.DataFrame'>\n",
            "Int64Index: 528181 entries, 0 to 541908\n",
            "Data columns (total 11 columns):\n",
            " #   Column       Non-Null Count   Dtype         \n",
            "---  ------       --------------   -----         \n",
            " 0   InvoiceNo    528181 non-null  object        \n",
            " 1   StockCode    528181 non-null  object        \n",
            " 2   Description  528181 non-null  object        \n",
            " 3   Quantity     528181 non-null  int64         \n",
            " 4   InvoiceDate  528181 non-null  datetime64[ns]\n",
            " 5   UnitPrice    528181 non-null  float64       \n",
            " 6   CustomerID   396370 non-null  float64       \n",
            " 7   Country      528181 non-null  object        \n",
            " 8   Hour         528181 non-null  int64         \n",
            " 9   Month        528181 non-null  int64         \n",
            " 10  TotalPrice   528181 non-null  float64       \n",
            "dtypes: datetime64[ns](1), float64(3), int64(3), object(4)\n",
            "memory usage: 48.4+ MB\n"
          ]
        }
      ],
      "source": [
        "retail.info()"
      ]
    },
    {
      "cell_type": "code",
      "execution_count": 32,
      "id": "ca1c8de2",
      "metadata": {
        "colab": {
          "base_uri": "https://localhost:8080/"
        },
        "id": "ca1c8de2",
        "outputId": "1e185e02-0672-4cfc-87f6-03289ecd213a"
      },
      "outputs": [
        {
          "output_type": "stream",
          "name": "stdout",
          "text": [
            "Number of NA values in CustomerID: 131811\n",
            "Number of unique invoices: 19794\n",
            "Number of unique customers: 4335\n"
          ]
        },
        {
          "output_type": "stream",
          "name": "stderr",
          "text": [
            "/usr/local/lib/python3.10/dist-packages/ipykernel/ipkernel.py:283: DeprecationWarning: `should_run_async` will not call `transform_cell` automatically in the future. Please pass the result to `transformed_cell` argument and any exception that happen during thetransform in `preprocessing_exc_tuple` in IPython 7.17 and above.\n",
            "  and should_run_async(code)\n"
          ]
        }
      ],
      "source": [
        "# Checking NA values in 'CustomerID'\n",
        "na_customer_ids = retail['CustomerID'].isna().sum()\n",
        "print(f\"Number of NA values in CustomerID: {na_customer_ids}\")\n",
        "\n",
        "# Checking the number of unique values in 'InvoiceNo' and 'CustomerID'\n",
        "unique_invoices = retail['InvoiceNo'].nunique()\n",
        "unique_customers = retail['CustomerID'].nunique()\n",
        "print(f\"Number of unique invoices: {unique_invoices}\")\n",
        "print(f\"Number of unique customers: {unique_customers}\")\n"
      ]
    },
    {
      "cell_type": "markdown",
      "id": "e4004bf5",
      "metadata": {
        "id": "e4004bf5"
      },
      "source": [
        "This analysis shows customers averaging approximately 4.6 orders. This indicates a successful repeat purchase pattern and suggests focusing on retention strategies."
      ]
    },
    {
      "cell_type": "code",
      "execution_count": 33,
      "id": "a9113cc8",
      "metadata": {
        "colab": {
          "base_uri": "https://localhost:8080/"
        },
        "id": "a9113cc8",
        "outputId": "c9e3a077-3fe9-4387-fe61-36c1c50383b5"
      },
      "outputs": [
        {
          "output_type": "stream",
          "name": "stderr",
          "text": [
            "/usr/local/lib/python3.10/dist-packages/ipykernel/ipkernel.py:283: DeprecationWarning: `should_run_async` will not call `transform_cell` automatically in the future. Please pass the result to `transformed_cell` argument and any exception that happen during thetransform in `preprocessing_exc_tuple` in IPython 7.17 and above.\n",
            "  and should_run_async(code)\n"
          ]
        }
      ],
      "source": [
        "# Convert 'Description' and 'Country' to categorical types\n",
        "retail['Description'] = retail['Description'].astype('category')\n",
        "retail['Country'] = retail['Country'].astype('category')\n",
        "\n",
        "# Extracting Date and Time from 'InvoiceDate'\n",
        "retail['Date'] = retail['InvoiceDate'].dt.date\n",
        "retail['Time'] = retail['InvoiceDate'].dt.time"
      ]
    },
    {
      "cell_type": "code",
      "execution_count": 34,
      "id": "5b9bf296",
      "metadata": {
        "colab": {
          "base_uri": "https://localhost:8080/"
        },
        "id": "5b9bf296",
        "outputId": "60425795-2e02-43d3-9e82-c4a62e6d4cab"
      },
      "outputs": [
        {
          "output_type": "stream",
          "name": "stderr",
          "text": [
            "/usr/local/lib/python3.10/dist-packages/ipykernel/ipkernel.py:283: DeprecationWarning: `should_run_async` will not call `transform_cell` automatically in the future. Please pass the result to `transformed_cell` argument and any exception that happen during thetransform in `preprocessing_exc_tuple` in IPython 7.17 and above.\n",
            "  and should_run_async(code)\n"
          ]
        }
      ],
      "source": [
        "retail['Date'] = retail['Date'].astype(str)"
      ]
    },
    {
      "cell_type": "markdown",
      "source": [
        "**Association Rule Mining**"
      ],
      "metadata": {
        "id": "5HB__9VjGv8S"
      },
      "id": "5HB__9VjGv8S"
    },
    {
      "cell_type": "code",
      "execution_count": 39,
      "id": "1366e7db",
      "metadata": {
        "colab": {
          "base_uri": "https://localhost:8080/"
        },
        "id": "1366e7db",
        "outputId": "3876db2d-bd15-4197-b9dd-9985e2bd9a36"
      },
      "outputs": [
        {
          "output_type": "stream",
          "name": "stderr",
          "text": [
            "/usr/local/lib/python3.10/dist-packages/ipykernel/ipkernel.py:283: DeprecationWarning: `should_run_async` will not call `transform_cell` automatically in the future. Please pass the result to `transformed_cell` argument and any exception that happen during thetransform in `preprocessing_exc_tuple` in IPython 7.17 and above.\n",
            "  and should_run_async(code)\n"
          ]
        }
      ],
      "source": [
        "def RecommendItemsViaAssociation(CurItemOfInterest, CustomerID, Country, Time, Date):\n",
        "\n",
        "    # Filter data based on input parameters\n",
        "\n",
        "    data = retail[(retail['CustomerID'] == CustomerID) &\n",
        "                         (retail['Country'] == Country) &\n",
        "                         (retail['Hour'] == Time) &\n",
        "                         (retail['Date'] == Date)]\n",
        "\n",
        "    # Group items and transactions to find quantities purchased\n",
        "    # Rows represent transactions, Column represents item\n",
        "    # Values represent the quantity of each item purchased in each transaction\n",
        "\n",
        "    basket = (data.groupby(['InvoiceNo','Description'])['Quantity']\n",
        "              .sum().unstack().reset_index().fillna(0)\n",
        "              .set_index('InvoiceNo'))\n",
        "\n",
        "    # Presence or Absence of items in each transaction is represented by binary values\n",
        "    # If quantity>0, returns 1; else returns 0\n",
        "\n",
        "    basket_sets = basket.applymap(lambda x: 1 if x > 0 else 0)\n",
        "\n",
        "    # Apriori calculates the support for all possible itemsets as in basket_sets\n",
        "    # Returns only the itemsets that meet the specified min_support threshold.\n",
        "\n",
        "    frequent_itemsets = apriori(basket_sets, min_support=0.05, use_colnames=True)\n",
        "\n",
        "    # Calculate association rules based on lift metric\n",
        "    # Purpose of using metric is to filter and identify the most meaningful rules among a potentially large set of rules generated by the algorithm.\n",
        "\n",
        "    rules = association_rules(frequent_itemsets, metric=\"lift\", min_threshold=1)\n",
        "\n",
        "    # Filter rules based on current item of interest\n",
        "\n",
        "    filtered_rules = rules[rules['antecedents'].apply(lambda x: CurItemOfInterest in x)]\n",
        "\n",
        "    # Below code to consider only one antecedent(A) and one consequent(B) in A->B\n",
        "\n",
        "    filtered_rules = filtered_rules[(filtered_rules['antecedents'].apply(lambda x: len(x)) == 1) &\n",
        "                                (filtered_rules['consequents'].apply(lambda x: len(x)) == 1)]\n",
        "\n",
        "    # Sort(desc) rules by confidence and return top 10\n",
        "\n",
        "    sorted_rules = filtered_rules.sort_values(by='confidence', ascending=False).head(10)\n",
        "\n",
        "    return sorted_rules"
      ]
    },
    {
      "cell_type": "code",
      "execution_count": 40,
      "id": "f110ed37",
      "metadata": {
        "colab": {
          "base_uri": "https://localhost:8080/"
        },
        "id": "f110ed37",
        "outputId": "39862686-25d3-4390-a3cd-98994370ceb1"
      },
      "outputs": [
        {
          "output_type": "stream",
          "name": "stderr",
          "text": [
            "/usr/local/lib/python3.10/dist-packages/ipykernel/ipkernel.py:283: DeprecationWarning: `should_run_async` will not call `transform_cell` automatically in the future. Please pass the result to `transformed_cell` argument and any exception that happen during thetransform in `preprocessing_exc_tuple` in IPython 7.17 and above.\n",
            "  and should_run_async(code)\n",
            "/usr/local/lib/python3.10/dist-packages/pandas/core/indexes/multi.py:643: DeprecationWarning: `cumproduct` is deprecated as of NumPy 1.25.0, and will be removed in NumPy 2.0. Please use `cumprod` instead.\n",
            "  codes = cartesian_product(codes)\n",
            "/usr/local/lib/python3.10/dist-packages/pandas/core/reshape/util.py:60: DeprecationWarning: `product` is deprecated as of NumPy 1.25.0, and will be removed in NumPy 2.0. Please use `prod` instead.\n",
            "  return [\n",
            "/usr/local/lib/python3.10/dist-packages/pandas/core/reshape/util.py:60: DeprecationWarning: `product` is deprecated as of NumPy 1.25.0, and will be removed in NumPy 2.0. Please use `prod` instead.\n",
            "  return [\n"
          ]
        },
        {
          "output_type": "stream",
          "name": "stdout",
          "text": [
            "                         antecedents                            consequents  \\\n",
            "5   (RED WOOLLY HOTTIE WHITE HEART.)       (CREAM CUPID HEARTS COAT HANGER)   \n",
            "15  (RED WOOLLY HOTTIE WHITE HEART.)    (GLASS STAR FROSTED T-LIGHT HOLDER)   \n",
            "25  (RED WOOLLY HOTTIE WHITE HEART.)  (KNITTED UNION FLAG HOT WATER BOTTLE)   \n",
            "33  (RED WOOLLY HOTTIE WHITE HEART.)         (SET 7 BABUSHKA NESTING BOXES)   \n",
            "35  (RED WOOLLY HOTTIE WHITE HEART.)   (WHITE HANGING HEART T-LIGHT HOLDER)   \n",
            "37  (RED WOOLLY HOTTIE WHITE HEART.)                  (WHITE METAL LANTERN)   \n",
            "\n",
            "    antecedent support  consequent support  support  confidence  lift  \\\n",
            "5                  0.5                 0.5      0.5         1.0   2.0   \n",
            "15                 0.5                 0.5      0.5         1.0   2.0   \n",
            "25                 0.5                 0.5      0.5         1.0   2.0   \n",
            "33                 0.5                 0.5      0.5         1.0   2.0   \n",
            "35                 0.5                 0.5      0.5         1.0   2.0   \n",
            "37                 0.5                 0.5      0.5         1.0   2.0   \n",
            "\n",
            "    leverage  conviction  zhangs_metric  \n",
            "5       0.25         inf            1.0  \n",
            "15      0.25         inf            1.0  \n",
            "25      0.25         inf            1.0  \n",
            "33      0.25         inf            1.0  \n",
            "35      0.25         inf            1.0  \n",
            "37      0.25         inf            1.0  \n"
          ]
        },
        {
          "output_type": "stream",
          "name": "stderr",
          "text": [
            "/usr/local/lib/python3.10/dist-packages/mlxtend/frequent_patterns/fpcommon.py:110: DeprecationWarning: DataFrames with non-bool types result in worse computationalperformance and their support might be discontinued in the future.Please use a DataFrame with bool type\n",
            "  warnings.warn(\n"
          ]
        }
      ],
      "source": [
        "recommendations = RecommendItemsViaAssociation('RED WOOLLY HOTTIE WHITE HEART.', 17850, 'United Kingdom', 8, '2010-12-01' )\n",
        "print(recommendations)"
      ]
    },
    {
      "cell_type": "markdown",
      "source": [
        "Lift is often considered the best metric for association rule mining  \n",
        "It not only measures the strength of association between items but also considers the frequency of the consequent in the absence of the antecedent.\n",
        "A lift value greater than 1 indicates a positive association between items, making it a meaningful and interpretable measure for identifying interesting rules."
      ],
      "metadata": {
        "id": "VtcXpXqbG8cu"
      },
      "id": "VtcXpXqbG8cu"
    },
    {
      "cell_type": "markdown",
      "source": [
        "**Association Rule Mining - Country Based**"
      ],
      "metadata": {
        "id": "KL5AkjLuIJFr"
      },
      "id": "KL5AkjLuIJFr"
    },
    {
      "cell_type": "code",
      "source": [
        "def RecommendItems_Country(Country):\n",
        "    # Filter data based on input parameters\n",
        "    data = retail[(retail['Country'] == Country)]\n",
        "\n",
        "\n",
        "    # Association rule mining\n",
        "    basket = (data.groupby(['InvoiceNo', 'Description'])['Quantity']\n",
        "              .sum().unstack().reset_index().fillna(0)\n",
        "              .set_index('InvoiceNo'))\n",
        "\n",
        "    # Convert values to 0 or 1\n",
        "    basket_sets = basket.applymap(lambda x: 1 if x > 0 else 0)\n",
        "\n",
        "    # Generate frequent itemsets\n",
        "    frequent_itemsets = apriori(basket_sets, min_support=0.03, use_colnames=True)\n",
        "\n",
        "    # Generate association rules\n",
        "    rules = association_rules(frequent_itemsets, metric=\"lift\", min_threshold=1)\n",
        "\n",
        "    # Filter rules to get only one antecedent\n",
        "    filtered_rules = rules[(rules['antecedents'].apply(lambda x: len(x)) == 1)]\n",
        "\n",
        "    # Sort rules by confidence\n",
        "    sorted_rules = filtered_rules.sort_values(by='confidence', ascending=False).head(10)\n",
        "\n",
        "    return sorted_rules"
      ],
      "metadata": {
        "colab": {
          "base_uri": "https://localhost:8080/"
        },
        "id": "ABS-XwzYHj34",
        "outputId": "40cd7663-a0a4-4ea6-fbb2-3f2ccc375c87"
      },
      "id": "ABS-XwzYHj34",
      "execution_count": 51,
      "outputs": [
        {
          "output_type": "stream",
          "name": "stderr",
          "text": [
            "/usr/local/lib/python3.10/dist-packages/ipykernel/ipkernel.py:283: DeprecationWarning: `should_run_async` will not call `transform_cell` automatically in the future. Please pass the result to `transformed_cell` argument and any exception that happen during thetransform in `preprocessing_exc_tuple` in IPython 7.17 and above.\n",
            "  and should_run_async(code)\n"
          ]
        }
      ]
    },
    {
      "cell_type": "code",
      "source": [
        "RecommendItems_Country('United Kingdom')"
      ],
      "metadata": {
        "colab": {
          "base_uri": "https://localhost:8080/",
          "height": 886
        },
        "id": "T4lC3h8HHj0c",
        "outputId": "51ee0475-d512-4c40-b432-61659f6b359f"
      },
      "id": "T4lC3h8HHj0c",
      "execution_count": 52,
      "outputs": [
        {
          "output_type": "stream",
          "name": "stderr",
          "text": [
            "/usr/local/lib/python3.10/dist-packages/ipykernel/ipkernel.py:283: DeprecationWarning: `should_run_async` will not call `transform_cell` automatically in the future. Please pass the result to `transformed_cell` argument and any exception that happen during thetransform in `preprocessing_exc_tuple` in IPython 7.17 and above.\n",
            "  and should_run_async(code)\n",
            "/usr/local/lib/python3.10/dist-packages/pandas/core/indexes/multi.py:643: DeprecationWarning: `cumproduct` is deprecated as of NumPy 1.25.0, and will be removed in NumPy 2.0. Please use `cumprod` instead.\n",
            "  codes = cartesian_product(codes)\n",
            "/usr/local/lib/python3.10/dist-packages/pandas/core/reshape/util.py:60: DeprecationWarning: `product` is deprecated as of NumPy 1.25.0, and will be removed in NumPy 2.0. Please use `prod` instead.\n",
            "  return [\n",
            "/usr/local/lib/python3.10/dist-packages/pandas/core/reshape/util.py:60: DeprecationWarning: `product` is deprecated as of NumPy 1.25.0, and will be removed in NumPy 2.0. Please use `prod` instead.\n",
            "  return [\n",
            "/usr/local/lib/python3.10/dist-packages/mlxtend/frequent_patterns/fpcommon.py:110: DeprecationWarning: DataFrames with non-bool types result in worse computationalperformance and their support might be discontinued in the future.Please use a DataFrame with bool type\n",
            "  warnings.warn(\n"
          ]
        },
        {
          "output_type": "execute_result",
          "data": {
            "text/plain": [
              "                             antecedents                          consequents  \\\n",
              "5       (PINK REGENCY TEACUP AND SAUCER)    (GREEN REGENCY TEACUP AND SAUCER)   \n",
              "23      (PINK REGENCY TEACUP AND SAUCER)   (ROSES REGENCY TEACUP AND SAUCER )   \n",
              "7      (GREEN REGENCY TEACUP AND SAUCER)   (ROSES REGENCY TEACUP AND SAUCER )   \n",
              "6     (ROSES REGENCY TEACUP AND SAUCER )    (GREEN REGENCY TEACUP AND SAUCER)   \n",
              "3   (GARDENERS KNEELING PAD CUP OF TEA )  (GARDENERS KNEELING PAD KEEP CALM )   \n",
              "10             (JUMBO BAG PINK POLKADOT)            (JUMBO BAG RED RETROSPOT)   \n",
              "21   (PAPER CHAIN KIT VINTAGE CHRISTMAS)    (PAPER CHAIN KIT 50'S CHRISTMAS )   \n",
              "1           (ALARM CLOCK BAKELIKE GREEN)          (ALARM CLOCK BAKELIKE RED )   \n",
              "8       (JUMBO  BAG BAROQUE BLACK WHITE)            (JUMBO BAG RED RETROSPOT)   \n",
              "4      (GREEN REGENCY TEACUP AND SAUCER)     (PINK REGENCY TEACUP AND SAUCER)   \n",
              "\n",
              "    antecedent support  consequent support   support  confidence       lift  \\\n",
              "5             0.039228            0.052118  0.032197    0.820768  15.748379   \n",
              "23            0.039228            0.053401  0.030467    0.776671  14.544126   \n",
              "7             0.052118            0.053401  0.039116    0.750535  14.054696   \n",
              "6             0.053401            0.052118  0.039116    0.732497  14.054696   \n",
              "3             0.041850            0.050109  0.030188    0.721333  14.395339   \n",
              "10            0.064673            0.108141  0.043803    0.677308   6.263177   \n",
              "21            0.044640            0.062776  0.030021    0.672500  10.712776   \n",
              "1             0.048881            0.051894  0.031416    0.642694  12.384646   \n",
              "8             0.050778            0.108141  0.031806    0.626374   5.792178   \n",
              "4             0.052118            0.039228  0.032197    0.617773  15.748379   \n",
              "\n",
              "    leverage  conviction  zhangs_metric  \n",
              "5   0.030152    5.288582       0.974738  \n",
              "23  0.028372    4.238593       0.969266  \n",
              "7   0.036333    3.794521       0.979921  \n",
              "6   0.036333    3.543451       0.981249  \n",
              "3   0.028091    3.408700       0.971177  \n",
              "10  0.036810    2.763808       0.898441  \n",
              "21  0.027218    2.861754       0.949018  \n",
              "1   0.028879    2.653484       0.966498  \n",
              "8   0.026315    2.387034       0.871612  \n",
              "4   0.030152    2.513617       0.987993  "
            ],
            "text/html": [
              "\n",
              "  <div id=\"df-b9a4487f-8207-40ca-a528-32c351b413c8\" class=\"colab-df-container\">\n",
              "    <div>\n",
              "<style scoped>\n",
              "    .dataframe tbody tr th:only-of-type {\n",
              "        vertical-align: middle;\n",
              "    }\n",
              "\n",
              "    .dataframe tbody tr th {\n",
              "        vertical-align: top;\n",
              "    }\n",
              "\n",
              "    .dataframe thead th {\n",
              "        text-align: right;\n",
              "    }\n",
              "</style>\n",
              "<table border=\"1\" class=\"dataframe\">\n",
              "  <thead>\n",
              "    <tr style=\"text-align: right;\">\n",
              "      <th></th>\n",
              "      <th>antecedents</th>\n",
              "      <th>consequents</th>\n",
              "      <th>antecedent support</th>\n",
              "      <th>consequent support</th>\n",
              "      <th>support</th>\n",
              "      <th>confidence</th>\n",
              "      <th>lift</th>\n",
              "      <th>leverage</th>\n",
              "      <th>conviction</th>\n",
              "      <th>zhangs_metric</th>\n",
              "    </tr>\n",
              "  </thead>\n",
              "  <tbody>\n",
              "    <tr>\n",
              "      <th>5</th>\n",
              "      <td>(PINK REGENCY TEACUP AND SAUCER)</td>\n",
              "      <td>(GREEN REGENCY TEACUP AND SAUCER)</td>\n",
              "      <td>0.039228</td>\n",
              "      <td>0.052118</td>\n",
              "      <td>0.032197</td>\n",
              "      <td>0.820768</td>\n",
              "      <td>15.748379</td>\n",
              "      <td>0.030152</td>\n",
              "      <td>5.288582</td>\n",
              "      <td>0.974738</td>\n",
              "    </tr>\n",
              "    <tr>\n",
              "      <th>23</th>\n",
              "      <td>(PINK REGENCY TEACUP AND SAUCER)</td>\n",
              "      <td>(ROSES REGENCY TEACUP AND SAUCER )</td>\n",
              "      <td>0.039228</td>\n",
              "      <td>0.053401</td>\n",
              "      <td>0.030467</td>\n",
              "      <td>0.776671</td>\n",
              "      <td>14.544126</td>\n",
              "      <td>0.028372</td>\n",
              "      <td>4.238593</td>\n",
              "      <td>0.969266</td>\n",
              "    </tr>\n",
              "    <tr>\n",
              "      <th>7</th>\n",
              "      <td>(GREEN REGENCY TEACUP AND SAUCER)</td>\n",
              "      <td>(ROSES REGENCY TEACUP AND SAUCER )</td>\n",
              "      <td>0.052118</td>\n",
              "      <td>0.053401</td>\n",
              "      <td>0.039116</td>\n",
              "      <td>0.750535</td>\n",
              "      <td>14.054696</td>\n",
              "      <td>0.036333</td>\n",
              "      <td>3.794521</td>\n",
              "      <td>0.979921</td>\n",
              "    </tr>\n",
              "    <tr>\n",
              "      <th>6</th>\n",
              "      <td>(ROSES REGENCY TEACUP AND SAUCER )</td>\n",
              "      <td>(GREEN REGENCY TEACUP AND SAUCER)</td>\n",
              "      <td>0.053401</td>\n",
              "      <td>0.052118</td>\n",
              "      <td>0.039116</td>\n",
              "      <td>0.732497</td>\n",
              "      <td>14.054696</td>\n",
              "      <td>0.036333</td>\n",
              "      <td>3.543451</td>\n",
              "      <td>0.981249</td>\n",
              "    </tr>\n",
              "    <tr>\n",
              "      <th>3</th>\n",
              "      <td>(GARDENERS KNEELING PAD CUP OF TEA )</td>\n",
              "      <td>(GARDENERS KNEELING PAD KEEP CALM )</td>\n",
              "      <td>0.041850</td>\n",
              "      <td>0.050109</td>\n",
              "      <td>0.030188</td>\n",
              "      <td>0.721333</td>\n",
              "      <td>14.395339</td>\n",
              "      <td>0.028091</td>\n",
              "      <td>3.408700</td>\n",
              "      <td>0.971177</td>\n",
              "    </tr>\n",
              "    <tr>\n",
              "      <th>10</th>\n",
              "      <td>(JUMBO BAG PINK POLKADOT)</td>\n",
              "      <td>(JUMBO BAG RED RETROSPOT)</td>\n",
              "      <td>0.064673</td>\n",
              "      <td>0.108141</td>\n",
              "      <td>0.043803</td>\n",
              "      <td>0.677308</td>\n",
              "      <td>6.263177</td>\n",
              "      <td>0.036810</td>\n",
              "      <td>2.763808</td>\n",
              "      <td>0.898441</td>\n",
              "    </tr>\n",
              "    <tr>\n",
              "      <th>21</th>\n",
              "      <td>(PAPER CHAIN KIT VINTAGE CHRISTMAS)</td>\n",
              "      <td>(PAPER CHAIN KIT 50'S CHRISTMAS )</td>\n",
              "      <td>0.044640</td>\n",
              "      <td>0.062776</td>\n",
              "      <td>0.030021</td>\n",
              "      <td>0.672500</td>\n",
              "      <td>10.712776</td>\n",
              "      <td>0.027218</td>\n",
              "      <td>2.861754</td>\n",
              "      <td>0.949018</td>\n",
              "    </tr>\n",
              "    <tr>\n",
              "      <th>1</th>\n",
              "      <td>(ALARM CLOCK BAKELIKE GREEN)</td>\n",
              "      <td>(ALARM CLOCK BAKELIKE RED )</td>\n",
              "      <td>0.048881</td>\n",
              "      <td>0.051894</td>\n",
              "      <td>0.031416</td>\n",
              "      <td>0.642694</td>\n",
              "      <td>12.384646</td>\n",
              "      <td>0.028879</td>\n",
              "      <td>2.653484</td>\n",
              "      <td>0.966498</td>\n",
              "    </tr>\n",
              "    <tr>\n",
              "      <th>8</th>\n",
              "      <td>(JUMBO  BAG BAROQUE BLACK WHITE)</td>\n",
              "      <td>(JUMBO BAG RED RETROSPOT)</td>\n",
              "      <td>0.050778</td>\n",
              "      <td>0.108141</td>\n",
              "      <td>0.031806</td>\n",
              "      <td>0.626374</td>\n",
              "      <td>5.792178</td>\n",
              "      <td>0.026315</td>\n",
              "      <td>2.387034</td>\n",
              "      <td>0.871612</td>\n",
              "    </tr>\n",
              "    <tr>\n",
              "      <th>4</th>\n",
              "      <td>(GREEN REGENCY TEACUP AND SAUCER)</td>\n",
              "      <td>(PINK REGENCY TEACUP AND SAUCER)</td>\n",
              "      <td>0.052118</td>\n",
              "      <td>0.039228</td>\n",
              "      <td>0.032197</td>\n",
              "      <td>0.617773</td>\n",
              "      <td>15.748379</td>\n",
              "      <td>0.030152</td>\n",
              "      <td>2.513617</td>\n",
              "      <td>0.987993</td>\n",
              "    </tr>\n",
              "  </tbody>\n",
              "</table>\n",
              "</div>\n",
              "    <div class=\"colab-df-buttons\">\n",
              "\n",
              "  <div class=\"colab-df-container\">\n",
              "    <button class=\"colab-df-convert\" onclick=\"convertToInteractive('df-b9a4487f-8207-40ca-a528-32c351b413c8')\"\n",
              "            title=\"Convert this dataframe to an interactive table.\"\n",
              "            style=\"display:none;\">\n",
              "\n",
              "  <svg xmlns=\"http://www.w3.org/2000/svg\" height=\"24px\" viewBox=\"0 -960 960 960\">\n",
              "    <path d=\"M120-120v-720h720v720H120Zm60-500h600v-160H180v160Zm220 220h160v-160H400v160Zm0 220h160v-160H400v160ZM180-400h160v-160H180v160Zm440 0h160v-160H620v160ZM180-180h160v-160H180v160Zm440 0h160v-160H620v160Z\"/>\n",
              "  </svg>\n",
              "    </button>\n",
              "\n",
              "  <style>\n",
              "    .colab-df-container {\n",
              "      display:flex;\n",
              "      gap: 12px;\n",
              "    }\n",
              "\n",
              "    .colab-df-convert {\n",
              "      background-color: #E8F0FE;\n",
              "      border: none;\n",
              "      border-radius: 50%;\n",
              "      cursor: pointer;\n",
              "      display: none;\n",
              "      fill: #1967D2;\n",
              "      height: 32px;\n",
              "      padding: 0 0 0 0;\n",
              "      width: 32px;\n",
              "    }\n",
              "\n",
              "    .colab-df-convert:hover {\n",
              "      background-color: #E2EBFA;\n",
              "      box-shadow: 0px 1px 2px rgba(60, 64, 67, 0.3), 0px 1px 3px 1px rgba(60, 64, 67, 0.15);\n",
              "      fill: #174EA6;\n",
              "    }\n",
              "\n",
              "    .colab-df-buttons div {\n",
              "      margin-bottom: 4px;\n",
              "    }\n",
              "\n",
              "    [theme=dark] .colab-df-convert {\n",
              "      background-color: #3B4455;\n",
              "      fill: #D2E3FC;\n",
              "    }\n",
              "\n",
              "    [theme=dark] .colab-df-convert:hover {\n",
              "      background-color: #434B5C;\n",
              "      box-shadow: 0px 1px 3px 1px rgba(0, 0, 0, 0.15);\n",
              "      filter: drop-shadow(0px 1px 2px rgba(0, 0, 0, 0.3));\n",
              "      fill: #FFFFFF;\n",
              "    }\n",
              "  </style>\n",
              "\n",
              "    <script>\n",
              "      const buttonEl =\n",
              "        document.querySelector('#df-b9a4487f-8207-40ca-a528-32c351b413c8 button.colab-df-convert');\n",
              "      buttonEl.style.display =\n",
              "        google.colab.kernel.accessAllowed ? 'block' : 'none';\n",
              "\n",
              "      async function convertToInteractive(key) {\n",
              "        const element = document.querySelector('#df-b9a4487f-8207-40ca-a528-32c351b413c8');\n",
              "        const dataTable =\n",
              "          await google.colab.kernel.invokeFunction('convertToInteractive',\n",
              "                                                    [key], {});\n",
              "        if (!dataTable) return;\n",
              "\n",
              "        const docLinkHtml = 'Like what you see? Visit the ' +\n",
              "          '<a target=\"_blank\" href=https://colab.research.google.com/notebooks/data_table.ipynb>data table notebook</a>'\n",
              "          + ' to learn more about interactive tables.';\n",
              "        element.innerHTML = '';\n",
              "        dataTable['output_type'] = 'display_data';\n",
              "        await google.colab.output.renderOutput(dataTable, element);\n",
              "        const docLink = document.createElement('div');\n",
              "        docLink.innerHTML = docLinkHtml;\n",
              "        element.appendChild(docLink);\n",
              "      }\n",
              "    </script>\n",
              "  </div>\n",
              "\n",
              "\n",
              "<div id=\"df-0e8ff110-a27f-4754-9dc4-23168a690faf\">\n",
              "  <button class=\"colab-df-quickchart\" onclick=\"quickchart('df-0e8ff110-a27f-4754-9dc4-23168a690faf')\"\n",
              "            title=\"Suggest charts\"\n",
              "            style=\"display:none;\">\n",
              "\n",
              "<svg xmlns=\"http://www.w3.org/2000/svg\" height=\"24px\"viewBox=\"0 0 24 24\"\n",
              "     width=\"24px\">\n",
              "    <g>\n",
              "        <path d=\"M19 3H5c-1.1 0-2 .9-2 2v14c0 1.1.9 2 2 2h14c1.1 0 2-.9 2-2V5c0-1.1-.9-2-2-2zM9 17H7v-7h2v7zm4 0h-2V7h2v10zm4 0h-2v-4h2v4z\"/>\n",
              "    </g>\n",
              "</svg>\n",
              "  </button>\n",
              "\n",
              "<style>\n",
              "  .colab-df-quickchart {\n",
              "      --bg-color: #E8F0FE;\n",
              "      --fill-color: #1967D2;\n",
              "      --hover-bg-color: #E2EBFA;\n",
              "      --hover-fill-color: #174EA6;\n",
              "      --disabled-fill-color: #AAA;\n",
              "      --disabled-bg-color: #DDD;\n",
              "  }\n",
              "\n",
              "  [theme=dark] .colab-df-quickchart {\n",
              "      --bg-color: #3B4455;\n",
              "      --fill-color: #D2E3FC;\n",
              "      --hover-bg-color: #434B5C;\n",
              "      --hover-fill-color: #FFFFFF;\n",
              "      --disabled-bg-color: #3B4455;\n",
              "      --disabled-fill-color: #666;\n",
              "  }\n",
              "\n",
              "  .colab-df-quickchart {\n",
              "    background-color: var(--bg-color);\n",
              "    border: none;\n",
              "    border-radius: 50%;\n",
              "    cursor: pointer;\n",
              "    display: none;\n",
              "    fill: var(--fill-color);\n",
              "    height: 32px;\n",
              "    padding: 0;\n",
              "    width: 32px;\n",
              "  }\n",
              "\n",
              "  .colab-df-quickchart:hover {\n",
              "    background-color: var(--hover-bg-color);\n",
              "    box-shadow: 0 1px 2px rgba(60, 64, 67, 0.3), 0 1px 3px 1px rgba(60, 64, 67, 0.15);\n",
              "    fill: var(--button-hover-fill-color);\n",
              "  }\n",
              "\n",
              "  .colab-df-quickchart-complete:disabled,\n",
              "  .colab-df-quickchart-complete:disabled:hover {\n",
              "    background-color: var(--disabled-bg-color);\n",
              "    fill: var(--disabled-fill-color);\n",
              "    box-shadow: none;\n",
              "  }\n",
              "\n",
              "  .colab-df-spinner {\n",
              "    border: 2px solid var(--fill-color);\n",
              "    border-color: transparent;\n",
              "    border-bottom-color: var(--fill-color);\n",
              "    animation:\n",
              "      spin 1s steps(1) infinite;\n",
              "  }\n",
              "\n",
              "  @keyframes spin {\n",
              "    0% {\n",
              "      border-color: transparent;\n",
              "      border-bottom-color: var(--fill-color);\n",
              "      border-left-color: var(--fill-color);\n",
              "    }\n",
              "    20% {\n",
              "      border-color: transparent;\n",
              "      border-left-color: var(--fill-color);\n",
              "      border-top-color: var(--fill-color);\n",
              "    }\n",
              "    30% {\n",
              "      border-color: transparent;\n",
              "      border-left-color: var(--fill-color);\n",
              "      border-top-color: var(--fill-color);\n",
              "      border-right-color: var(--fill-color);\n",
              "    }\n",
              "    40% {\n",
              "      border-color: transparent;\n",
              "      border-right-color: var(--fill-color);\n",
              "      border-top-color: var(--fill-color);\n",
              "    }\n",
              "    60% {\n",
              "      border-color: transparent;\n",
              "      border-right-color: var(--fill-color);\n",
              "    }\n",
              "    80% {\n",
              "      border-color: transparent;\n",
              "      border-right-color: var(--fill-color);\n",
              "      border-bottom-color: var(--fill-color);\n",
              "    }\n",
              "    90% {\n",
              "      border-color: transparent;\n",
              "      border-bottom-color: var(--fill-color);\n",
              "    }\n",
              "  }\n",
              "</style>\n",
              "\n",
              "  <script>\n",
              "    async function quickchart(key) {\n",
              "      const quickchartButtonEl =\n",
              "        document.querySelector('#' + key + ' button');\n",
              "      quickchartButtonEl.disabled = true;  // To prevent multiple clicks.\n",
              "      quickchartButtonEl.classList.add('colab-df-spinner');\n",
              "      try {\n",
              "        const charts = await google.colab.kernel.invokeFunction(\n",
              "            'suggestCharts', [key], {});\n",
              "      } catch (error) {\n",
              "        console.error('Error during call to suggestCharts:', error);\n",
              "      }\n",
              "      quickchartButtonEl.classList.remove('colab-df-spinner');\n",
              "      quickchartButtonEl.classList.add('colab-df-quickchart-complete');\n",
              "    }\n",
              "    (() => {\n",
              "      let quickchartButtonEl =\n",
              "        document.querySelector('#df-0e8ff110-a27f-4754-9dc4-23168a690faf button');\n",
              "      quickchartButtonEl.style.display =\n",
              "        google.colab.kernel.accessAllowed ? 'block' : 'none';\n",
              "    })();\n",
              "  </script>\n",
              "</div>\n",
              "\n",
              "    </div>\n",
              "  </div>\n"
            ],
            "application/vnd.google.colaboratory.intrinsic+json": {
              "type": "dataframe",
              "summary": "{\n  \"name\": \"RecommendItems_Country('United Kingdom')\",\n  \"rows\": 10,\n  \"fields\": [\n    {\n      \"column\": \"antecedents\",\n      \"properties\": {\n        \"dtype\": \"string\",\n        \"samples\": [\n          \"frozenset({'GREEN REGENCY TEACUP AND SAUCER'})\",\n          \"frozenset({'PAPER CHAIN KIT VINTAGE CHRISTMAS'})\",\n          \"frozenset({'PINK REGENCY TEACUP AND SAUCER'})\"\n        ],\n        \"num_unique_values\": 8,\n        \"semantic_type\": \"\",\n        \"description\": \"\"\n      }\n    },\n    {\n      \"column\": \"consequents\",\n      \"properties\": {\n        \"dtype\": \"string\",\n        \"samples\": [\n          \"frozenset({'GREEN REGENCY TEACUP AND SAUCER'})\",\n          \"frozenset({'ROSES REGENCY TEACUP AND SAUCER '})\",\n          \"frozenset({'ALARM CLOCK BAKELIKE RED '})\"\n        ],\n        \"num_unique_values\": 7,\n        \"semantic_type\": \"\",\n        \"description\": \"\"\n      }\n    },\n    {\n      \"column\": \"antecedent support\",\n      \"properties\": {\n        \"dtype\": \"number\",\n        \"std\": 0.007801614412990529,\n        \"min\": 0.03922772166731767,\n        \"max\": 0.0646727303163886,\n        \"samples\": [\n          0.05211762736454439,\n          0.04464036605100162,\n          0.03922772166731767\n        ],\n        \"num_unique_values\": 8,\n        \"semantic_type\": \"\",\n        \"description\": \"\"\n      }\n    },\n    {\n      \"column\": \"consequent support\",\n      \"properties\": {\n        \"dtype\": \"number\",\n        \"std\": 0.024383774158781773,\n        \"min\": 0.03922772166731767,\n        \"max\": 0.10814128675855142,\n        \"samples\": [\n          0.05211762736454439,\n          0.05340103788851069,\n          0.051894425534289385\n        ],\n        \"num_unique_values\": 7,\n        \"semantic_type\": \"\",\n        \"description\": \"\"\n      }\n    },\n    {\n      \"column\": \"support\",\n      \"properties\": {\n        \"dtype\": \"number\",\n        \"std\": 0.0048222451377782916,\n        \"min\": 0.030020646169298587,\n        \"max\": 0.04380335918754534,\n        \"samples\": [\n          0.030467049829808603,\n          0.030020646169298587,\n          0.03219686401428492\n        ],\n        \"num_unique_values\": 8,\n        \"semantic_type\": \"\",\n        \"description\": \"\"\n      }\n    },\n    {\n      \"column\": \"confidence\",\n      \"properties\": {\n        \"dtype\": \"number\",\n        \"std\": 0.0675917898589997,\n        \"min\": 0.6177730192719487,\n        \"max\": 0.8207681365576103,\n        \"samples\": [\n          0.6263736263736264,\n          0.7766714082503555,\n          0.6773080241587576\n        ],\n        \"num_unique_values\": 10,\n        \"semantic_type\": \"\",\n        \"description\": \"\"\n      }\n    },\n    {\n      \"column\": \"lift\",\n      \"properties\": {\n        \"dtype\": \"number\",\n        \"std\": 3.661204070315955,\n        \"min\": 5.7921784098254685,\n        \"max\": 15.748378774356462,\n        \"samples\": [\n          5.7921784098254685,\n          14.54412571290974,\n          10.712775555555556\n        ],\n        \"num_unique_values\": 9,\n        \"semantic_type\": \"\",\n        \"description\": \"\"\n      }\n    },\n    {\n      \"column\": \"leverage\",\n      \"properties\": {\n        \"dtype\": \"number\",\n        \"std\": 0.004055243329390084,\n        \"min\": 0.026315017524117974,\n        \"max\": 0.0368095669129423,\n        \"samples\": [\n          0.02837224877877222,\n          0.027218324211406904,\n          0.030152408234067594\n        ],\n        \"num_unique_values\": 8,\n        \"semantic_type\": \"\",\n        \"description\": \"\"\n      }\n    },\n    {\n      \"column\": \"conviction\",\n      \"properties\": {\n        \"dtype\": \"number\",\n        \"std\": 0.9116486232784451,\n        \"min\": 2.3870336148521125,\n        \"max\": 5.2885818092279795,\n        \"samples\": [\n          2.3870336148521125,\n          4.238592804868642,\n          2.763808151462136\n        ],\n        \"num_unique_values\": 10,\n        \"semantic_type\": \"\",\n        \"description\": \"\"\n      }\n    },\n    {\n      \"column\": \"zhangs_metric\",\n      \"properties\": {\n        \"dtype\": \"number\",\n        \"std\": 0.03883552079861246,\n        \"min\": 0.8716124860384458,\n        \"max\": 0.9879932651117956,\n        \"samples\": [\n          0.8716124860384458,\n          0.9692658079520665,\n          0.898441272608577\n        ],\n        \"num_unique_values\": 10,\n        \"semantic_type\": \"\",\n        \"description\": \"\"\n      }\n    }\n  ]\n}"
            }
          },
          "metadata": {},
          "execution_count": 52
        }
      ]
    },
    {
      "cell_type": "markdown",
      "source": [
        "**Association Rule Mining - Country & Item Based**"
      ],
      "metadata": {
        "id": "B9FXcKcKJRl6"
      },
      "id": "B9FXcKcKJRl6"
    },
    {
      "cell_type": "code",
      "source": [
        "def RecommendItems_CountryAndItem(CurItemOfInterest, Country):\n",
        "    # Filter data based on input parameters\n",
        "    data = retail[(retail['Country'] == Country)]\n",
        "\n",
        "    # Association rule mining\n",
        "    basket_sets = (data.groupby(['InvoiceNo', 'Description'])['Quantity']\n",
        "              .sum().unstack().reset_index().fillna(0)\n",
        "              .set_index('InvoiceNo')).applymap(lambda x: 1 if x > 0 else 0)\n",
        "\n",
        "    # Generate frequent itemsets\n",
        "    frequent_itemsets = apriori(basket_sets, min_support=0.03, use_colnames=True)\n",
        "\n",
        "    # Generate association rules\n",
        "    rules = association_rules(frequent_itemsets, metric=\"lift\", min_threshold=1)\n",
        "\n",
        "    # Filter rules based on current item of interest\n",
        "    filtered_rules = rules[rules['antecedents'].apply(lambda x: CurItemOfInterest in x)]\n",
        "    filtered_rules = filtered_rules[(filtered_rules['antecedents'].apply(lambda x: len(x)) == 1)]\n",
        "\n",
        "    # Sort rules by confidence\n",
        "    sorted_rules = filtered_rules.sort_values(by='confidence', ascending=False).head(10)\n",
        "\n",
        "    return sorted_rules"
      ],
      "metadata": {
        "colab": {
          "base_uri": "https://localhost:8080/"
        },
        "id": "JuoyV_rnHjyW",
        "outputId": "8c158c3c-df4e-4d70-ba4e-21ce78a2557a"
      },
      "id": "JuoyV_rnHjyW",
      "execution_count": 35,
      "outputs": [
        {
          "output_type": "stream",
          "name": "stderr",
          "text": [
            "/usr/local/lib/python3.10/dist-packages/ipykernel/ipkernel.py:283: DeprecationWarning: `should_run_async` will not call `transform_cell` automatically in the future. Please pass the result to `transformed_cell` argument and any exception that happen during thetransform in `preprocessing_exc_tuple` in IPython 7.17 and above.\n",
            "  and should_run_async(code)\n"
          ]
        }
      ]
    },
    {
      "cell_type": "code",
      "source": [
        "RecommendItems_CountryAndItem('JUMBO BAG RED RETROSPOT','United Kingdom')"
      ],
      "metadata": {
        "colab": {
          "base_uri": "https://localhost:8080/",
          "height": 490
        },
        "id": "O4j9QJ8lHjwC",
        "outputId": "39162d96-ceaf-4b95-ece8-0530ea9e891f"
      },
      "id": "O4j9QJ8lHjwC",
      "execution_count": 36,
      "outputs": [
        {
          "output_type": "stream",
          "name": "stderr",
          "text": [
            "/usr/local/lib/python3.10/dist-packages/ipykernel/ipkernel.py:283: DeprecationWarning: `should_run_async` will not call `transform_cell` automatically in the future. Please pass the result to `transformed_cell` argument and any exception that happen during thetransform in `preprocessing_exc_tuple` in IPython 7.17 and above.\n",
            "  and should_run_async(code)\n",
            "/usr/local/lib/python3.10/dist-packages/pandas/core/indexes/multi.py:643: DeprecationWarning: `cumproduct` is deprecated as of NumPy 1.25.0, and will be removed in NumPy 2.0. Please use `cumprod` instead.\n",
            "  codes = cartesian_product(codes)\n",
            "/usr/local/lib/python3.10/dist-packages/pandas/core/reshape/util.py:60: DeprecationWarning: `product` is deprecated as of NumPy 1.25.0, and will be removed in NumPy 2.0. Please use `prod` instead.\n",
            "  return [\n",
            "/usr/local/lib/python3.10/dist-packages/pandas/core/reshape/util.py:60: DeprecationWarning: `product` is deprecated as of NumPy 1.25.0, and will be removed in NumPy 2.0. Please use `prod` instead.\n",
            "  return [\n",
            "/usr/local/lib/python3.10/dist-packages/mlxtend/frequent_patterns/fpcommon.py:110: DeprecationWarning: DataFrames with non-bool types result in worse computationalperformance and their support might be discontinued in the future.Please use a DataFrame with bool type\n",
            "  warnings.warn(\n"
          ]
        },
        {
          "output_type": "execute_result",
          "data": {
            "text/plain": [
              "                  antecedents                          consequents  \\\n",
              "10  (JUMBO BAG RED RETROSPOT)            (JUMBO BAG PINK POLKADOT)   \n",
              "15  (JUMBO BAG RED RETROSPOT)             (JUMBO STORAGE BAG SUKI)   \n",
              "13  (JUMBO BAG RED RETROSPOT)  (JUMBO SHOPPER VINTAGE RED PAISLEY)   \n",
              "8   (JUMBO BAG RED RETROSPOT)     (JUMBO  BAG BAROQUE BLACK WHITE)   \n",
              "\n",
              "    antecedent support  consequent support   support  confidence      lift  \\\n",
              "10            0.108141            0.064673  0.043803    0.405057  6.263177   \n",
              "15            0.108141            0.063055  0.038949    0.360165  5.711964   \n",
              "13            0.108141            0.063222  0.036661    0.339009  5.362211   \n",
              "8             0.108141            0.050778  0.031806    0.294118  5.792178   \n",
              "\n",
              "    leverage  conviction  zhangs_metric  \n",
              "10  0.036810    1.572129       0.942231  \n",
              "15  0.032130    1.464355       0.924955  \n",
              "13  0.029824    1.417233       0.912151  \n",
              "8   0.026315    1.344731       0.927673  "
            ],
            "text/html": [
              "\n",
              "  <div id=\"df-04cd064d-8f47-4af7-9025-dff34079a53e\" class=\"colab-df-container\">\n",
              "    <div>\n",
              "<style scoped>\n",
              "    .dataframe tbody tr th:only-of-type {\n",
              "        vertical-align: middle;\n",
              "    }\n",
              "\n",
              "    .dataframe tbody tr th {\n",
              "        vertical-align: top;\n",
              "    }\n",
              "\n",
              "    .dataframe thead th {\n",
              "        text-align: right;\n",
              "    }\n",
              "</style>\n",
              "<table border=\"1\" class=\"dataframe\">\n",
              "  <thead>\n",
              "    <tr style=\"text-align: right;\">\n",
              "      <th></th>\n",
              "      <th>antecedents</th>\n",
              "      <th>consequents</th>\n",
              "      <th>antecedent support</th>\n",
              "      <th>consequent support</th>\n",
              "      <th>support</th>\n",
              "      <th>confidence</th>\n",
              "      <th>lift</th>\n",
              "      <th>leverage</th>\n",
              "      <th>conviction</th>\n",
              "      <th>zhangs_metric</th>\n",
              "    </tr>\n",
              "  </thead>\n",
              "  <tbody>\n",
              "    <tr>\n",
              "      <th>10</th>\n",
              "      <td>(JUMBO BAG RED RETROSPOT)</td>\n",
              "      <td>(JUMBO BAG PINK POLKADOT)</td>\n",
              "      <td>0.108141</td>\n",
              "      <td>0.064673</td>\n",
              "      <td>0.043803</td>\n",
              "      <td>0.405057</td>\n",
              "      <td>6.263177</td>\n",
              "      <td>0.036810</td>\n",
              "      <td>1.572129</td>\n",
              "      <td>0.942231</td>\n",
              "    </tr>\n",
              "    <tr>\n",
              "      <th>15</th>\n",
              "      <td>(JUMBO BAG RED RETROSPOT)</td>\n",
              "      <td>(JUMBO STORAGE BAG SUKI)</td>\n",
              "      <td>0.108141</td>\n",
              "      <td>0.063055</td>\n",
              "      <td>0.038949</td>\n",
              "      <td>0.360165</td>\n",
              "      <td>5.711964</td>\n",
              "      <td>0.032130</td>\n",
              "      <td>1.464355</td>\n",
              "      <td>0.924955</td>\n",
              "    </tr>\n",
              "    <tr>\n",
              "      <th>13</th>\n",
              "      <td>(JUMBO BAG RED RETROSPOT)</td>\n",
              "      <td>(JUMBO SHOPPER VINTAGE RED PAISLEY)</td>\n",
              "      <td>0.108141</td>\n",
              "      <td>0.063222</td>\n",
              "      <td>0.036661</td>\n",
              "      <td>0.339009</td>\n",
              "      <td>5.362211</td>\n",
              "      <td>0.029824</td>\n",
              "      <td>1.417233</td>\n",
              "      <td>0.912151</td>\n",
              "    </tr>\n",
              "    <tr>\n",
              "      <th>8</th>\n",
              "      <td>(JUMBO BAG RED RETROSPOT)</td>\n",
              "      <td>(JUMBO  BAG BAROQUE BLACK WHITE)</td>\n",
              "      <td>0.108141</td>\n",
              "      <td>0.050778</td>\n",
              "      <td>0.031806</td>\n",
              "      <td>0.294118</td>\n",
              "      <td>5.792178</td>\n",
              "      <td>0.026315</td>\n",
              "      <td>1.344731</td>\n",
              "      <td>0.927673</td>\n",
              "    </tr>\n",
              "  </tbody>\n",
              "</table>\n",
              "</div>\n",
              "    <div class=\"colab-df-buttons\">\n",
              "\n",
              "  <div class=\"colab-df-container\">\n",
              "    <button class=\"colab-df-convert\" onclick=\"convertToInteractive('df-04cd064d-8f47-4af7-9025-dff34079a53e')\"\n",
              "            title=\"Convert this dataframe to an interactive table.\"\n",
              "            style=\"display:none;\">\n",
              "\n",
              "  <svg xmlns=\"http://www.w3.org/2000/svg\" height=\"24px\" viewBox=\"0 -960 960 960\">\n",
              "    <path d=\"M120-120v-720h720v720H120Zm60-500h600v-160H180v160Zm220 220h160v-160H400v160Zm0 220h160v-160H400v160ZM180-400h160v-160H180v160Zm440 0h160v-160H620v160ZM180-180h160v-160H180v160Zm440 0h160v-160H620v160Z\"/>\n",
              "  </svg>\n",
              "    </button>\n",
              "\n",
              "  <style>\n",
              "    .colab-df-container {\n",
              "      display:flex;\n",
              "      gap: 12px;\n",
              "    }\n",
              "\n",
              "    .colab-df-convert {\n",
              "      background-color: #E8F0FE;\n",
              "      border: none;\n",
              "      border-radius: 50%;\n",
              "      cursor: pointer;\n",
              "      display: none;\n",
              "      fill: #1967D2;\n",
              "      height: 32px;\n",
              "      padding: 0 0 0 0;\n",
              "      width: 32px;\n",
              "    }\n",
              "\n",
              "    .colab-df-convert:hover {\n",
              "      background-color: #E2EBFA;\n",
              "      box-shadow: 0px 1px 2px rgba(60, 64, 67, 0.3), 0px 1px 3px 1px rgba(60, 64, 67, 0.15);\n",
              "      fill: #174EA6;\n",
              "    }\n",
              "\n",
              "    .colab-df-buttons div {\n",
              "      margin-bottom: 4px;\n",
              "    }\n",
              "\n",
              "    [theme=dark] .colab-df-convert {\n",
              "      background-color: #3B4455;\n",
              "      fill: #D2E3FC;\n",
              "    }\n",
              "\n",
              "    [theme=dark] .colab-df-convert:hover {\n",
              "      background-color: #434B5C;\n",
              "      box-shadow: 0px 1px 3px 1px rgba(0, 0, 0, 0.15);\n",
              "      filter: drop-shadow(0px 1px 2px rgba(0, 0, 0, 0.3));\n",
              "      fill: #FFFFFF;\n",
              "    }\n",
              "  </style>\n",
              "\n",
              "    <script>\n",
              "      const buttonEl =\n",
              "        document.querySelector('#df-04cd064d-8f47-4af7-9025-dff34079a53e button.colab-df-convert');\n",
              "      buttonEl.style.display =\n",
              "        google.colab.kernel.accessAllowed ? 'block' : 'none';\n",
              "\n",
              "      async function convertToInteractive(key) {\n",
              "        const element = document.querySelector('#df-04cd064d-8f47-4af7-9025-dff34079a53e');\n",
              "        const dataTable =\n",
              "          await google.colab.kernel.invokeFunction('convertToInteractive',\n",
              "                                                    [key], {});\n",
              "        if (!dataTable) return;\n",
              "\n",
              "        const docLinkHtml = 'Like what you see? Visit the ' +\n",
              "          '<a target=\"_blank\" href=https://colab.research.google.com/notebooks/data_table.ipynb>data table notebook</a>'\n",
              "          + ' to learn more about interactive tables.';\n",
              "        element.innerHTML = '';\n",
              "        dataTable['output_type'] = 'display_data';\n",
              "        await google.colab.output.renderOutput(dataTable, element);\n",
              "        const docLink = document.createElement('div');\n",
              "        docLink.innerHTML = docLinkHtml;\n",
              "        element.appendChild(docLink);\n",
              "      }\n",
              "    </script>\n",
              "  </div>\n",
              "\n",
              "\n",
              "<div id=\"df-cd9ca2a7-e994-438f-b222-b9064e6deff5\">\n",
              "  <button class=\"colab-df-quickchart\" onclick=\"quickchart('df-cd9ca2a7-e994-438f-b222-b9064e6deff5')\"\n",
              "            title=\"Suggest charts\"\n",
              "            style=\"display:none;\">\n",
              "\n",
              "<svg xmlns=\"http://www.w3.org/2000/svg\" height=\"24px\"viewBox=\"0 0 24 24\"\n",
              "     width=\"24px\">\n",
              "    <g>\n",
              "        <path d=\"M19 3H5c-1.1 0-2 .9-2 2v14c0 1.1.9 2 2 2h14c1.1 0 2-.9 2-2V5c0-1.1-.9-2-2-2zM9 17H7v-7h2v7zm4 0h-2V7h2v10zm4 0h-2v-4h2v4z\"/>\n",
              "    </g>\n",
              "</svg>\n",
              "  </button>\n",
              "\n",
              "<style>\n",
              "  .colab-df-quickchart {\n",
              "      --bg-color: #E8F0FE;\n",
              "      --fill-color: #1967D2;\n",
              "      --hover-bg-color: #E2EBFA;\n",
              "      --hover-fill-color: #174EA6;\n",
              "      --disabled-fill-color: #AAA;\n",
              "      --disabled-bg-color: #DDD;\n",
              "  }\n",
              "\n",
              "  [theme=dark] .colab-df-quickchart {\n",
              "      --bg-color: #3B4455;\n",
              "      --fill-color: #D2E3FC;\n",
              "      --hover-bg-color: #434B5C;\n",
              "      --hover-fill-color: #FFFFFF;\n",
              "      --disabled-bg-color: #3B4455;\n",
              "      --disabled-fill-color: #666;\n",
              "  }\n",
              "\n",
              "  .colab-df-quickchart {\n",
              "    background-color: var(--bg-color);\n",
              "    border: none;\n",
              "    border-radius: 50%;\n",
              "    cursor: pointer;\n",
              "    display: none;\n",
              "    fill: var(--fill-color);\n",
              "    height: 32px;\n",
              "    padding: 0;\n",
              "    width: 32px;\n",
              "  }\n",
              "\n",
              "  .colab-df-quickchart:hover {\n",
              "    background-color: var(--hover-bg-color);\n",
              "    box-shadow: 0 1px 2px rgba(60, 64, 67, 0.3), 0 1px 3px 1px rgba(60, 64, 67, 0.15);\n",
              "    fill: var(--button-hover-fill-color);\n",
              "  }\n",
              "\n",
              "  .colab-df-quickchart-complete:disabled,\n",
              "  .colab-df-quickchart-complete:disabled:hover {\n",
              "    background-color: var(--disabled-bg-color);\n",
              "    fill: var(--disabled-fill-color);\n",
              "    box-shadow: none;\n",
              "  }\n",
              "\n",
              "  .colab-df-spinner {\n",
              "    border: 2px solid var(--fill-color);\n",
              "    border-color: transparent;\n",
              "    border-bottom-color: var(--fill-color);\n",
              "    animation:\n",
              "      spin 1s steps(1) infinite;\n",
              "  }\n",
              "\n",
              "  @keyframes spin {\n",
              "    0% {\n",
              "      border-color: transparent;\n",
              "      border-bottom-color: var(--fill-color);\n",
              "      border-left-color: var(--fill-color);\n",
              "    }\n",
              "    20% {\n",
              "      border-color: transparent;\n",
              "      border-left-color: var(--fill-color);\n",
              "      border-top-color: var(--fill-color);\n",
              "    }\n",
              "    30% {\n",
              "      border-color: transparent;\n",
              "      border-left-color: var(--fill-color);\n",
              "      border-top-color: var(--fill-color);\n",
              "      border-right-color: var(--fill-color);\n",
              "    }\n",
              "    40% {\n",
              "      border-color: transparent;\n",
              "      border-right-color: var(--fill-color);\n",
              "      border-top-color: var(--fill-color);\n",
              "    }\n",
              "    60% {\n",
              "      border-color: transparent;\n",
              "      border-right-color: var(--fill-color);\n",
              "    }\n",
              "    80% {\n",
              "      border-color: transparent;\n",
              "      border-right-color: var(--fill-color);\n",
              "      border-bottom-color: var(--fill-color);\n",
              "    }\n",
              "    90% {\n",
              "      border-color: transparent;\n",
              "      border-bottom-color: var(--fill-color);\n",
              "    }\n",
              "  }\n",
              "</style>\n",
              "\n",
              "  <script>\n",
              "    async function quickchart(key) {\n",
              "      const quickchartButtonEl =\n",
              "        document.querySelector('#' + key + ' button');\n",
              "      quickchartButtonEl.disabled = true;  // To prevent multiple clicks.\n",
              "      quickchartButtonEl.classList.add('colab-df-spinner');\n",
              "      try {\n",
              "        const charts = await google.colab.kernel.invokeFunction(\n",
              "            'suggestCharts', [key], {});\n",
              "      } catch (error) {\n",
              "        console.error('Error during call to suggestCharts:', error);\n",
              "      }\n",
              "      quickchartButtonEl.classList.remove('colab-df-spinner');\n",
              "      quickchartButtonEl.classList.add('colab-df-quickchart-complete');\n",
              "    }\n",
              "    (() => {\n",
              "      let quickchartButtonEl =\n",
              "        document.querySelector('#df-cd9ca2a7-e994-438f-b222-b9064e6deff5 button');\n",
              "      quickchartButtonEl.style.display =\n",
              "        google.colab.kernel.accessAllowed ? 'block' : 'none';\n",
              "    })();\n",
              "  </script>\n",
              "</div>\n",
              "\n",
              "    </div>\n",
              "  </div>\n"
            ],
            "application/vnd.google.colaboratory.intrinsic+json": {
              "type": "dataframe",
              "summary": "{\n  \"name\": \"RecommendItems_CountryAndItem('JUMBO BAG RED RETROSPOT','United Kingdom')\",\n  \"rows\": 4,\n  \"fields\": [\n    {\n      \"column\": \"antecedents\",\n      \"properties\": {\n        \"dtype\": \"category\",\n        \"samples\": [\n          \"frozenset({'JUMBO BAG RED RETROSPOT'})\"\n        ],\n        \"num_unique_values\": 1,\n        \"semantic_type\": \"\",\n        \"description\": \"\"\n      }\n    },\n    {\n      \"column\": \"consequents\",\n      \"properties\": {\n        \"dtype\": \"string\",\n        \"samples\": [\n          \"frozenset({'JUMBO STORAGE BAG SUKI'})\"\n        ],\n        \"num_unique_values\": 4,\n        \"semantic_type\": \"\",\n        \"description\": \"\"\n      }\n    },\n    {\n      \"column\": \"antecedent support\",\n      \"properties\": {\n        \"dtype\": \"number\",\n        \"std\": 0.0,\n        \"min\": 0.10814128675855142,\n        \"max\": 0.10814128675855142,\n        \"samples\": [\n          0.10814128675855142\n        ],\n        \"num_unique_values\": 1,\n        \"semantic_type\": \"\",\n        \"description\": \"\"\n      }\n    },\n    {\n      \"column\": \"consequent support\",\n      \"properties\": {\n        \"dtype\": \"number\",\n        \"std\": 0.006476539988646039,\n        \"min\": 0.05077841638301434,\n        \"max\": 0.0646727303163886,\n        \"samples\": [\n          0.06305451704703978\n        ],\n        \"num_unique_values\": 4,\n        \"semantic_type\": \"\",\n        \"description\": \"\"\n      }\n    },\n    {\n      \"column\": \"support\",\n      \"properties\": {\n        \"dtype\": \"number\",\n        \"std\": 0.004986055289964702,\n        \"min\": 0.03180626081133865,\n        \"max\": 0.04380335918754534,\n        \"samples\": [\n          0.03894871937949891\n        ],\n        \"num_unique_values\": 4,\n        \"semantic_type\": \"\",\n        \"description\": \"\"\n      }\n    },\n    {\n      \"column\": \"confidence\",\n      \"properties\": {\n        \"dtype\": \"number\",\n        \"std\": 0.046106861120463076,\n        \"min\": 0.29411764705882354,\n        \"max\": 0.4050567595459237,\n        \"samples\": [\n          0.36016511867905054\n        ],\n        \"num_unique_values\": 4,\n        \"semantic_type\": \"\",\n        \"description\": \"\"\n      }\n    },\n    {\n      \"column\": \"lift\",\n      \"properties\": {\n        \"dtype\": \"number\",\n        \"std\": 0.3709276412027151,\n        \"min\": 5.362211340614659,\n        \"max\": 6.263177038673424,\n        \"samples\": [\n          5.711963798094925\n        ],\n        \"num_unique_values\": 4,\n        \"semantic_type\": \"\",\n        \"description\": \"\"\n      }\n    },\n    {\n      \"column\": \"leverage\",\n      \"properties\": {\n        \"dtype\": \"number\",\n        \"std\": 0.004399584549027903,\n        \"min\": 0.026315017524117974,\n        \"max\": 0.0368095669129423,\n        \"samples\": [\n          0.032129922770093015\n        ],\n        \"num_unique_values\": 4,\n        \"semantic_type\": \"\",\n        \"description\": \"\"\n      }\n    },\n    {\n      \"column\": \"conviction\",\n      \"properties\": {\n        \"dtype\": \"number\",\n        \"std\": 0.09535226076159282,\n        \"min\": 1.3447305767907298,\n        \"max\": 1.5721285764499906,\n        \"samples\": [\n          1.4643551177119651\n        ],\n        \"num_unique_values\": 4,\n        \"semantic_type\": \"\",\n        \"description\": \"\"\n      }\n    },\n    {\n      \"column\": \"zhangs_metric\",\n      \"properties\": {\n        \"dtype\": \"number\",\n        \"std\": 0.012340427356735326,\n        \"min\": 0.9121509526246065,\n        \"max\": 0.9422306582909947,\n        \"samples\": [\n          0.9249546482679395\n        ],\n        \"num_unique_values\": 4,\n        \"semantic_type\": \"\",\n        \"description\": \"\"\n      }\n    }\n  ]\n}"
            }
          },
          "metadata": {},
          "execution_count": 36
        }
      ]
    },
    {
      "cell_type": "markdown",
      "source": [
        "**Association Rule Mining - Country, User & Item Based**"
      ],
      "metadata": {
        "id": "gcpyGNPmTwws"
      },
      "id": "gcpyGNPmTwws"
    },
    {
      "cell_type": "code",
      "source": [
        "def RecommendItems_CountryUserAndItem(CurItemOfInterest, User, Country):\n",
        "    # Filter data based on input parameters\n",
        "    data = retail[(retail['Country'] == Country)&(retail['CustomerID'] == 13798)]\n",
        "\n",
        "    # Association rule mining\n",
        "    basket_sets = (data.groupby(['InvoiceNo', 'Description'])['Quantity']\n",
        "              .sum().unstack().reset_index().fillna(0)\n",
        "              .set_index('InvoiceNo')).applymap(lambda x: 1 if x > 0 else 0)\n",
        "\n",
        "    # Generate frequent itemsets\n",
        "    frequent_itemsets = apriori(basket_sets, min_support=0.03, use_colnames=True)\n",
        "\n",
        "    # Generate association rules\n",
        "    rules = association_rules(frequent_itemsets, metric=\"lift\", min_threshold=1)\n",
        "\n",
        "    # Filter rules based on current item of interest\n",
        "    filtered_rules = rules[rules['antecedents'].apply(lambda x: CurItemOfInterest in x)]\n",
        "    filtered_rules = filtered_rules[(filtered_rules['antecedents'].apply(lambda x: len(x)) == 1)]\n",
        "\n",
        "    # Sort rules by confidence\n",
        "    sorted_rules = filtered_rules.sort_values(by='confidence', ascending=False).head(10)\n",
        "\n",
        "    return sorted_rules"
      ],
      "metadata": {
        "colab": {
          "base_uri": "https://localhost:8080/"
        },
        "id": "gF0mMJH3Hjb0",
        "outputId": "5e409511-96ac-4d80-9741-95226d0916ad"
      },
      "id": "gF0mMJH3Hjb0",
      "execution_count": 37,
      "outputs": [
        {
          "output_type": "stream",
          "name": "stderr",
          "text": [
            "/usr/local/lib/python3.10/dist-packages/ipykernel/ipkernel.py:283: DeprecationWarning: `should_run_async` will not call `transform_cell` automatically in the future. Please pass the result to `transformed_cell` argument and any exception that happen during thetransform in `preprocessing_exc_tuple` in IPython 7.17 and above.\n",
            "  and should_run_async(code)\n"
          ]
        }
      ]
    },
    {
      "cell_type": "code",
      "source": [
        "RecommendItems_CountryUserAndItem('DOORMAT RED RETROSPOT', 13798, 'United Kingdom')"
      ],
      "metadata": {
        "colab": {
          "base_uri": "https://localhost:8080/",
          "height": 868
        },
        "id": "g-OM-xrvTYl4",
        "outputId": "25199352-ac52-4a0a-bc9a-e122a6105d49"
      },
      "id": "g-OM-xrvTYl4",
      "execution_count": 38,
      "outputs": [
        {
          "output_type": "stream",
          "name": "stderr",
          "text": [
            "/usr/local/lib/python3.10/dist-packages/ipykernel/ipkernel.py:283: DeprecationWarning: `should_run_async` will not call `transform_cell` automatically in the future. Please pass the result to `transformed_cell` argument and any exception that happen during thetransform in `preprocessing_exc_tuple` in IPython 7.17 and above.\n",
            "  and should_run_async(code)\n",
            "/usr/local/lib/python3.10/dist-packages/pandas/core/indexes/multi.py:643: DeprecationWarning: `cumproduct` is deprecated as of NumPy 1.25.0, and will be removed in NumPy 2.0. Please use `cumprod` instead.\n",
            "  codes = cartesian_product(codes)\n",
            "/usr/local/lib/python3.10/dist-packages/pandas/core/reshape/util.py:60: DeprecationWarning: `product` is deprecated as of NumPy 1.25.0, and will be removed in NumPy 2.0. Please use `prod` instead.\n",
            "  return [\n",
            "/usr/local/lib/python3.10/dist-packages/pandas/core/reshape/util.py:60: DeprecationWarning: `product` is deprecated as of NumPy 1.25.0, and will be removed in NumPy 2.0. Please use `prod` instead.\n",
            "  return [\n",
            "/usr/local/lib/python3.10/dist-packages/mlxtend/frequent_patterns/fpcommon.py:110: DeprecationWarning: DataFrames with non-bool types result in worse computationalperformance and their support might be discontinued in the future.Please use a DataFrame with bool type\n",
            "  warnings.warn(\n"
          ]
        },
        {
          "output_type": "execute_result",
          "data": {
            "text/plain": [
              "                  antecedents  \\\n",
              "161   (DOORMAT RED RETROSPOT)   \n",
              "192   (DOORMAT RED RETROSPOT)   \n",
              "108   (DOORMAT RED RETROSPOT)   \n",
              "1314  (DOORMAT RED RETROSPOT)   \n",
              "37    (DOORMAT RED RETROSPOT)   \n",
              "181   (DOORMAT RED RETROSPOT)   \n",
              "1740  (DOORMAT RED RETROSPOT)   \n",
              "870   (DOORMAT RED RETROSPOT)   \n",
              "1332  (DOORMAT RED RETROSPOT)   \n",
              "200   (DOORMAT RED RETROSPOT)   \n",
              "\n",
              "                                            consequents  antecedent support  \\\n",
              "161                           (JUMBO BAG RED RETROSPOT)            0.280702   \n",
              "192                    (SWEETHEART CERAMIC TRINKET BOX)            0.280702   \n",
              "108                                (DOORMAT FAIRY CAKE)            0.280702   \n",
              "1314      (JUMBO BAG RED RETROSPOT, DOORMAT FAIRY CAKE)            0.280702   \n",
              "37                  (CERAMIC CAKE BOWL + HANGING CAKES)            0.280702   \n",
              "181                          (RED RETROSPOT PICNIC BAG)            0.280702   \n",
              "1740  (JUMBO BAG RED RETROSPOT, SWEETHEART CERAMIC T...            0.280702   \n",
              "870   (CERAMIC CAKE BOWL + HANGING CAKES, SWEETHEART...            0.280702   \n",
              "1332  (SET/5 RED RETROSPOT LID GLASS BOWLS, DOORMAT ...            0.280702   \n",
              "200                   (YOU'RE CONFUSING ME METAL SIGN )            0.280702   \n",
              "\n",
              "      consequent support   support  confidence      lift  leverage  \\\n",
              "161             0.210526  0.105263      0.3750  1.781250  0.046168   \n",
              "192             0.192982  0.087719      0.3125  1.619318  0.033549   \n",
              "108             0.157895  0.070175      0.2500  1.583333  0.025854   \n",
              "1314            0.070175  0.070175      0.2500  3.562500  0.050477   \n",
              "37              0.122807  0.070175      0.2500  2.035714  0.035703   \n",
              "181             0.228070  0.070175      0.2500  1.096154  0.006156   \n",
              "1740            0.052632  0.052632      0.1875  3.562500  0.037858   \n",
              "870             0.070175  0.052632      0.1875  2.671875  0.032933   \n",
              "1332            0.052632  0.052632      0.1875  3.562500  0.037858   \n",
              "200             0.157895  0.052632      0.1875  1.187500  0.008310   \n",
              "\n",
              "      conviction  zhangs_metric  \n",
              "161     1.263158       0.609756  \n",
              "192     1.173844       0.531707  \n",
              "108     1.122807       0.512195  \n",
              "1314    1.239766       1.000000  \n",
              "37      1.169591       0.707317  \n",
              "181     1.029240       0.121951  \n",
              "1740    1.165992       1.000000  \n",
              "870     1.144399       0.869919  \n",
              "1332    1.165992       1.000000  \n",
              "200     1.036437       0.219512  "
            ],
            "text/html": [
              "\n",
              "  <div id=\"df-571b90dc-5f9d-41c1-a688-3ed69a4f7bc7\" class=\"colab-df-container\">\n",
              "    <div>\n",
              "<style scoped>\n",
              "    .dataframe tbody tr th:only-of-type {\n",
              "        vertical-align: middle;\n",
              "    }\n",
              "\n",
              "    .dataframe tbody tr th {\n",
              "        vertical-align: top;\n",
              "    }\n",
              "\n",
              "    .dataframe thead th {\n",
              "        text-align: right;\n",
              "    }\n",
              "</style>\n",
              "<table border=\"1\" class=\"dataframe\">\n",
              "  <thead>\n",
              "    <tr style=\"text-align: right;\">\n",
              "      <th></th>\n",
              "      <th>antecedents</th>\n",
              "      <th>consequents</th>\n",
              "      <th>antecedent support</th>\n",
              "      <th>consequent support</th>\n",
              "      <th>support</th>\n",
              "      <th>confidence</th>\n",
              "      <th>lift</th>\n",
              "      <th>leverage</th>\n",
              "      <th>conviction</th>\n",
              "      <th>zhangs_metric</th>\n",
              "    </tr>\n",
              "  </thead>\n",
              "  <tbody>\n",
              "    <tr>\n",
              "      <th>161</th>\n",
              "      <td>(DOORMAT RED RETROSPOT)</td>\n",
              "      <td>(JUMBO BAG RED RETROSPOT)</td>\n",
              "      <td>0.280702</td>\n",
              "      <td>0.210526</td>\n",
              "      <td>0.105263</td>\n",
              "      <td>0.3750</td>\n",
              "      <td>1.781250</td>\n",
              "      <td>0.046168</td>\n",
              "      <td>1.263158</td>\n",
              "      <td>0.609756</td>\n",
              "    </tr>\n",
              "    <tr>\n",
              "      <th>192</th>\n",
              "      <td>(DOORMAT RED RETROSPOT)</td>\n",
              "      <td>(SWEETHEART CERAMIC TRINKET BOX)</td>\n",
              "      <td>0.280702</td>\n",
              "      <td>0.192982</td>\n",
              "      <td>0.087719</td>\n",
              "      <td>0.3125</td>\n",
              "      <td>1.619318</td>\n",
              "      <td>0.033549</td>\n",
              "      <td>1.173844</td>\n",
              "      <td>0.531707</td>\n",
              "    </tr>\n",
              "    <tr>\n",
              "      <th>108</th>\n",
              "      <td>(DOORMAT RED RETROSPOT)</td>\n",
              "      <td>(DOORMAT FAIRY CAKE)</td>\n",
              "      <td>0.280702</td>\n",
              "      <td>0.157895</td>\n",
              "      <td>0.070175</td>\n",
              "      <td>0.2500</td>\n",
              "      <td>1.583333</td>\n",
              "      <td>0.025854</td>\n",
              "      <td>1.122807</td>\n",
              "      <td>0.512195</td>\n",
              "    </tr>\n",
              "    <tr>\n",
              "      <th>1314</th>\n",
              "      <td>(DOORMAT RED RETROSPOT)</td>\n",
              "      <td>(JUMBO BAG RED RETROSPOT, DOORMAT FAIRY CAKE)</td>\n",
              "      <td>0.280702</td>\n",
              "      <td>0.070175</td>\n",
              "      <td>0.070175</td>\n",
              "      <td>0.2500</td>\n",
              "      <td>3.562500</td>\n",
              "      <td>0.050477</td>\n",
              "      <td>1.239766</td>\n",
              "      <td>1.000000</td>\n",
              "    </tr>\n",
              "    <tr>\n",
              "      <th>37</th>\n",
              "      <td>(DOORMAT RED RETROSPOT)</td>\n",
              "      <td>(CERAMIC CAKE BOWL + HANGING CAKES)</td>\n",
              "      <td>0.280702</td>\n",
              "      <td>0.122807</td>\n",
              "      <td>0.070175</td>\n",
              "      <td>0.2500</td>\n",
              "      <td>2.035714</td>\n",
              "      <td>0.035703</td>\n",
              "      <td>1.169591</td>\n",
              "      <td>0.707317</td>\n",
              "    </tr>\n",
              "    <tr>\n",
              "      <th>181</th>\n",
              "      <td>(DOORMAT RED RETROSPOT)</td>\n",
              "      <td>(RED RETROSPOT PICNIC BAG)</td>\n",
              "      <td>0.280702</td>\n",
              "      <td>0.228070</td>\n",
              "      <td>0.070175</td>\n",
              "      <td>0.2500</td>\n",
              "      <td>1.096154</td>\n",
              "      <td>0.006156</td>\n",
              "      <td>1.029240</td>\n",
              "      <td>0.121951</td>\n",
              "    </tr>\n",
              "    <tr>\n",
              "      <th>1740</th>\n",
              "      <td>(DOORMAT RED RETROSPOT)</td>\n",
              "      <td>(JUMBO BAG RED RETROSPOT, SWEETHEART CERAMIC T...</td>\n",
              "      <td>0.280702</td>\n",
              "      <td>0.052632</td>\n",
              "      <td>0.052632</td>\n",
              "      <td>0.1875</td>\n",
              "      <td>3.562500</td>\n",
              "      <td>0.037858</td>\n",
              "      <td>1.165992</td>\n",
              "      <td>1.000000</td>\n",
              "    </tr>\n",
              "    <tr>\n",
              "      <th>870</th>\n",
              "      <td>(DOORMAT RED RETROSPOT)</td>\n",
              "      <td>(CERAMIC CAKE BOWL + HANGING CAKES, SWEETHEART...</td>\n",
              "      <td>0.280702</td>\n",
              "      <td>0.070175</td>\n",
              "      <td>0.052632</td>\n",
              "      <td>0.1875</td>\n",
              "      <td>2.671875</td>\n",
              "      <td>0.032933</td>\n",
              "      <td>1.144399</td>\n",
              "      <td>0.869919</td>\n",
              "    </tr>\n",
              "    <tr>\n",
              "      <th>1332</th>\n",
              "      <td>(DOORMAT RED RETROSPOT)</td>\n",
              "      <td>(SET/5 RED RETROSPOT LID GLASS BOWLS, DOORMAT ...</td>\n",
              "      <td>0.280702</td>\n",
              "      <td>0.052632</td>\n",
              "      <td>0.052632</td>\n",
              "      <td>0.1875</td>\n",
              "      <td>3.562500</td>\n",
              "      <td>0.037858</td>\n",
              "      <td>1.165992</td>\n",
              "      <td>1.000000</td>\n",
              "    </tr>\n",
              "    <tr>\n",
              "      <th>200</th>\n",
              "      <td>(DOORMAT RED RETROSPOT)</td>\n",
              "      <td>(YOU'RE CONFUSING ME METAL SIGN )</td>\n",
              "      <td>0.280702</td>\n",
              "      <td>0.157895</td>\n",
              "      <td>0.052632</td>\n",
              "      <td>0.1875</td>\n",
              "      <td>1.187500</td>\n",
              "      <td>0.008310</td>\n",
              "      <td>1.036437</td>\n",
              "      <td>0.219512</td>\n",
              "    </tr>\n",
              "  </tbody>\n",
              "</table>\n",
              "</div>\n",
              "    <div class=\"colab-df-buttons\">\n",
              "\n",
              "  <div class=\"colab-df-container\">\n",
              "    <button class=\"colab-df-convert\" onclick=\"convertToInteractive('df-571b90dc-5f9d-41c1-a688-3ed69a4f7bc7')\"\n",
              "            title=\"Convert this dataframe to an interactive table.\"\n",
              "            style=\"display:none;\">\n",
              "\n",
              "  <svg xmlns=\"http://www.w3.org/2000/svg\" height=\"24px\" viewBox=\"0 -960 960 960\">\n",
              "    <path d=\"M120-120v-720h720v720H120Zm60-500h600v-160H180v160Zm220 220h160v-160H400v160Zm0 220h160v-160H400v160ZM180-400h160v-160H180v160Zm440 0h160v-160H620v160ZM180-180h160v-160H180v160Zm440 0h160v-160H620v160Z\"/>\n",
              "  </svg>\n",
              "    </button>\n",
              "\n",
              "  <style>\n",
              "    .colab-df-container {\n",
              "      display:flex;\n",
              "      gap: 12px;\n",
              "    }\n",
              "\n",
              "    .colab-df-convert {\n",
              "      background-color: #E8F0FE;\n",
              "      border: none;\n",
              "      border-radius: 50%;\n",
              "      cursor: pointer;\n",
              "      display: none;\n",
              "      fill: #1967D2;\n",
              "      height: 32px;\n",
              "      padding: 0 0 0 0;\n",
              "      width: 32px;\n",
              "    }\n",
              "\n",
              "    .colab-df-convert:hover {\n",
              "      background-color: #E2EBFA;\n",
              "      box-shadow: 0px 1px 2px rgba(60, 64, 67, 0.3), 0px 1px 3px 1px rgba(60, 64, 67, 0.15);\n",
              "      fill: #174EA6;\n",
              "    }\n",
              "\n",
              "    .colab-df-buttons div {\n",
              "      margin-bottom: 4px;\n",
              "    }\n",
              "\n",
              "    [theme=dark] .colab-df-convert {\n",
              "      background-color: #3B4455;\n",
              "      fill: #D2E3FC;\n",
              "    }\n",
              "\n",
              "    [theme=dark] .colab-df-convert:hover {\n",
              "      background-color: #434B5C;\n",
              "      box-shadow: 0px 1px 3px 1px rgba(0, 0, 0, 0.15);\n",
              "      filter: drop-shadow(0px 1px 2px rgba(0, 0, 0, 0.3));\n",
              "      fill: #FFFFFF;\n",
              "    }\n",
              "  </style>\n",
              "\n",
              "    <script>\n",
              "      const buttonEl =\n",
              "        document.querySelector('#df-571b90dc-5f9d-41c1-a688-3ed69a4f7bc7 button.colab-df-convert');\n",
              "      buttonEl.style.display =\n",
              "        google.colab.kernel.accessAllowed ? 'block' : 'none';\n",
              "\n",
              "      async function convertToInteractive(key) {\n",
              "        const element = document.querySelector('#df-571b90dc-5f9d-41c1-a688-3ed69a4f7bc7');\n",
              "        const dataTable =\n",
              "          await google.colab.kernel.invokeFunction('convertToInteractive',\n",
              "                                                    [key], {});\n",
              "        if (!dataTable) return;\n",
              "\n",
              "        const docLinkHtml = 'Like what you see? Visit the ' +\n",
              "          '<a target=\"_blank\" href=https://colab.research.google.com/notebooks/data_table.ipynb>data table notebook</a>'\n",
              "          + ' to learn more about interactive tables.';\n",
              "        element.innerHTML = '';\n",
              "        dataTable['output_type'] = 'display_data';\n",
              "        await google.colab.output.renderOutput(dataTable, element);\n",
              "        const docLink = document.createElement('div');\n",
              "        docLink.innerHTML = docLinkHtml;\n",
              "        element.appendChild(docLink);\n",
              "      }\n",
              "    </script>\n",
              "  </div>\n",
              "\n",
              "\n",
              "<div id=\"df-d83eb1b5-6d57-49b9-87f5-4a7469514fb2\">\n",
              "  <button class=\"colab-df-quickchart\" onclick=\"quickchart('df-d83eb1b5-6d57-49b9-87f5-4a7469514fb2')\"\n",
              "            title=\"Suggest charts\"\n",
              "            style=\"display:none;\">\n",
              "\n",
              "<svg xmlns=\"http://www.w3.org/2000/svg\" height=\"24px\"viewBox=\"0 0 24 24\"\n",
              "     width=\"24px\">\n",
              "    <g>\n",
              "        <path d=\"M19 3H5c-1.1 0-2 .9-2 2v14c0 1.1.9 2 2 2h14c1.1 0 2-.9 2-2V5c0-1.1-.9-2-2-2zM9 17H7v-7h2v7zm4 0h-2V7h2v10zm4 0h-2v-4h2v4z\"/>\n",
              "    </g>\n",
              "</svg>\n",
              "  </button>\n",
              "\n",
              "<style>\n",
              "  .colab-df-quickchart {\n",
              "      --bg-color: #E8F0FE;\n",
              "      --fill-color: #1967D2;\n",
              "      --hover-bg-color: #E2EBFA;\n",
              "      --hover-fill-color: #174EA6;\n",
              "      --disabled-fill-color: #AAA;\n",
              "      --disabled-bg-color: #DDD;\n",
              "  }\n",
              "\n",
              "  [theme=dark] .colab-df-quickchart {\n",
              "      --bg-color: #3B4455;\n",
              "      --fill-color: #D2E3FC;\n",
              "      --hover-bg-color: #434B5C;\n",
              "      --hover-fill-color: #FFFFFF;\n",
              "      --disabled-bg-color: #3B4455;\n",
              "      --disabled-fill-color: #666;\n",
              "  }\n",
              "\n",
              "  .colab-df-quickchart {\n",
              "    background-color: var(--bg-color);\n",
              "    border: none;\n",
              "    border-radius: 50%;\n",
              "    cursor: pointer;\n",
              "    display: none;\n",
              "    fill: var(--fill-color);\n",
              "    height: 32px;\n",
              "    padding: 0;\n",
              "    width: 32px;\n",
              "  }\n",
              "\n",
              "  .colab-df-quickchart:hover {\n",
              "    background-color: var(--hover-bg-color);\n",
              "    box-shadow: 0 1px 2px rgba(60, 64, 67, 0.3), 0 1px 3px 1px rgba(60, 64, 67, 0.15);\n",
              "    fill: var(--button-hover-fill-color);\n",
              "  }\n",
              "\n",
              "  .colab-df-quickchart-complete:disabled,\n",
              "  .colab-df-quickchart-complete:disabled:hover {\n",
              "    background-color: var(--disabled-bg-color);\n",
              "    fill: var(--disabled-fill-color);\n",
              "    box-shadow: none;\n",
              "  }\n",
              "\n",
              "  .colab-df-spinner {\n",
              "    border: 2px solid var(--fill-color);\n",
              "    border-color: transparent;\n",
              "    border-bottom-color: var(--fill-color);\n",
              "    animation:\n",
              "      spin 1s steps(1) infinite;\n",
              "  }\n",
              "\n",
              "  @keyframes spin {\n",
              "    0% {\n",
              "      border-color: transparent;\n",
              "      border-bottom-color: var(--fill-color);\n",
              "      border-left-color: var(--fill-color);\n",
              "    }\n",
              "    20% {\n",
              "      border-color: transparent;\n",
              "      border-left-color: var(--fill-color);\n",
              "      border-top-color: var(--fill-color);\n",
              "    }\n",
              "    30% {\n",
              "      border-color: transparent;\n",
              "      border-left-color: var(--fill-color);\n",
              "      border-top-color: var(--fill-color);\n",
              "      border-right-color: var(--fill-color);\n",
              "    }\n",
              "    40% {\n",
              "      border-color: transparent;\n",
              "      border-right-color: var(--fill-color);\n",
              "      border-top-color: var(--fill-color);\n",
              "    }\n",
              "    60% {\n",
              "      border-color: transparent;\n",
              "      border-right-color: var(--fill-color);\n",
              "    }\n",
              "    80% {\n",
              "      border-color: transparent;\n",
              "      border-right-color: var(--fill-color);\n",
              "      border-bottom-color: var(--fill-color);\n",
              "    }\n",
              "    90% {\n",
              "      border-color: transparent;\n",
              "      border-bottom-color: var(--fill-color);\n",
              "    }\n",
              "  }\n",
              "</style>\n",
              "\n",
              "  <script>\n",
              "    async function quickchart(key) {\n",
              "      const quickchartButtonEl =\n",
              "        document.querySelector('#' + key + ' button');\n",
              "      quickchartButtonEl.disabled = true;  // To prevent multiple clicks.\n",
              "      quickchartButtonEl.classList.add('colab-df-spinner');\n",
              "      try {\n",
              "        const charts = await google.colab.kernel.invokeFunction(\n",
              "            'suggestCharts', [key], {});\n",
              "      } catch (error) {\n",
              "        console.error('Error during call to suggestCharts:', error);\n",
              "      }\n",
              "      quickchartButtonEl.classList.remove('colab-df-spinner');\n",
              "      quickchartButtonEl.classList.add('colab-df-quickchart-complete');\n",
              "    }\n",
              "    (() => {\n",
              "      let quickchartButtonEl =\n",
              "        document.querySelector('#df-d83eb1b5-6d57-49b9-87f5-4a7469514fb2 button');\n",
              "      quickchartButtonEl.style.display =\n",
              "        google.colab.kernel.accessAllowed ? 'block' : 'none';\n",
              "    })();\n",
              "  </script>\n",
              "</div>\n",
              "\n",
              "    </div>\n",
              "  </div>\n"
            ],
            "application/vnd.google.colaboratory.intrinsic+json": {
              "type": "dataframe",
              "summary": "{\n  \"name\": \"RecommendItems_CountryUserAndItem('DOORMAT RED RETROSPOT', 13798, 'United Kingdom')\",\n  \"rows\": 10,\n  \"fields\": [\n    {\n      \"column\": \"antecedents\",\n      \"properties\": {\n        \"dtype\": \"category\",\n        \"samples\": [\n          \"frozenset({'DOORMAT RED RETROSPOT'})\"\n        ],\n        \"num_unique_values\": 1,\n        \"semantic_type\": \"\",\n        \"description\": \"\"\n      }\n    },\n    {\n      \"column\": \"consequents\",\n      \"properties\": {\n        \"dtype\": \"string\",\n        \"samples\": [\n          \"frozenset({'SET/5 RED RETROSPOT LID GLASS BOWLS', 'DOORMAT FAIRY CAKE'})\"\n        ],\n        \"num_unique_values\": 10,\n        \"semantic_type\": \"\",\n        \"description\": \"\"\n      }\n    },\n    {\n      \"column\": \"antecedent support\",\n      \"properties\": {\n        \"dtype\": \"number\",\n        \"std\": 0.0,\n        \"min\": 0.2807017543859649,\n        \"max\": 0.2807017543859649,\n        \"samples\": [\n          0.2807017543859649\n        ],\n        \"num_unique_values\": 1,\n        \"semantic_type\": \"\",\n        \"description\": \"\"\n      }\n    },\n    {\n      \"column\": \"consequent support\",\n      \"properties\": {\n        \"dtype\": \"number\",\n        \"std\": 0.06731499668550489,\n        \"min\": 0.05263157894736842,\n        \"max\": 0.22807017543859648,\n        \"samples\": [\n          0.21052631578947367\n        ],\n        \"num_unique_values\": 7,\n        \"semantic_type\": \"\",\n        \"description\": \"\"\n      }\n    },\n    {\n      \"column\": \"support\",\n      \"properties\": {\n        \"dtype\": \"number\",\n        \"std\": 0.017446121508978125,\n        \"min\": 0.05263157894736842,\n        \"max\": 0.10526315789473684,\n        \"samples\": [\n          0.08771929824561403\n        ],\n        \"num_unique_values\": 4,\n        \"semantic_type\": \"\",\n        \"description\": \"\"\n      }\n    },\n    {\n      \"column\": \"confidence\",\n      \"properties\": {\n        \"dtype\": \"number\",\n        \"std\": 0.06215180787573458,\n        \"min\": 0.1875,\n        \"max\": 0.375,\n        \"samples\": [\n          0.3125\n        ],\n        \"num_unique_values\": 4,\n        \"semantic_type\": \"\",\n        \"description\": \"\"\n      }\n    },\n    {\n      \"column\": \"lift\",\n      \"properties\": {\n        \"dtype\": \"number\",\n        \"std\": 0.9950666121938578,\n        \"min\": 1.0961538461538463,\n        \"max\": 3.5625,\n        \"samples\": [\n          1.6193181818181819\n        ],\n        \"num_unique_values\": 8,\n        \"semantic_type\": \"\",\n        \"description\": \"\"\n      }\n    },\n    {\n      \"column\": \"leverage\",\n      \"properties\": {\n        \"dtype\": \"number\",\n        \"std\": 0.014499095148879794,\n        \"min\": 0.006155740227762385,\n        \"max\": 0.05047706986765158,\n        \"samples\": [\n          0.032933210218528776\n        ],\n        \"num_unique_values\": 9,\n        \"semantic_type\": \"\",\n        \"description\": \"\"\n      }\n    },\n    {\n      \"column\": \"conviction\",\n      \"properties\": {\n        \"dtype\": \"number\",\n        \"std\": 0.07495495811721876,\n        \"min\": 1.0292397660818713,\n        \"max\": 1.263157894736842,\n        \"samples\": [\n          1.1443994601889338\n        ],\n        \"num_unique_values\": 9,\n        \"semantic_type\": \"\",\n        \"description\": \"\"\n      }\n    },\n    {\n      \"column\": \"zhangs_metric\",\n      \"properties\": {\n        \"dtype\": \"number\",\n        \"std\": 0.3192672333759495,\n        \"min\": 0.12195121951219506,\n        \"max\": 1.0,\n        \"samples\": [\n          0.5317073170731708\n        ],\n        \"num_unique_values\": 8,\n        \"semantic_type\": \"\",\n        \"description\": \"\"\n      }\n    }\n  ]\n}"
            }
          },
          "metadata": {},
          "execution_count": 38
        }
      ]
    },
    {
      "cell_type": "markdown",
      "source": [
        "**User Based Collaborative Filtering**"
      ],
      "metadata": {
        "id": "Yh-bB0_jHKBQ"
      },
      "id": "Yh-bB0_jHKBQ"
    },
    {
      "cell_type": "code",
      "execution_count": 39,
      "id": "bd55d6da",
      "metadata": {
        "colab": {
          "base_uri": "https://localhost:8080/"
        },
        "id": "bd55d6da",
        "outputId": "254eb146-7827-4e47-d455-0974c1d2c637"
      },
      "outputs": [
        {
          "output_type": "stream",
          "name": "stderr",
          "text": [
            "/usr/local/lib/python3.10/dist-packages/ipykernel/ipkernel.py:283: DeprecationWarning: `should_run_async` will not call `transform_cell` automatically in the future. Please pass the result to `transformed_cell` argument and any exception that happen during thetransform in `preprocessing_exc_tuple` in IPython 7.17 and above.\n",
            "  and should_run_async(code)\n"
          ]
        }
      ],
      "source": [
        "def getTrainingAndTestingSets(data):\n",
        "    reader=Reader(rating_scale=(1,10))\n",
        "    result=Dataset.load_from_df(data[['CustomerID','Description','Month']],reader)\n",
        "    trainset,testset=train_test_split(result,test_size=0.2)\n",
        "    return trainset,testset"
      ]
    },
    {
      "cell_type": "code",
      "execution_count": 40,
      "id": "58ef2562",
      "metadata": {
        "colab": {
          "base_uri": "https://localhost:8080/"
        },
        "id": "58ef2562",
        "outputId": "0ac805c0-1dca-4282-e06b-0726181374ec"
      },
      "outputs": [
        {
          "output_type": "stream",
          "name": "stderr",
          "text": [
            "/usr/local/lib/python3.10/dist-packages/ipykernel/ipkernel.py:283: DeprecationWarning: `should_run_async` will not call `transform_cell` automatically in the future. Please pass the result to `transformed_cell` argument and any exception that happen during thetransform in `preprocessing_exc_tuple` in IPython 7.17 and above.\n",
            "  and should_run_async(code)\n"
          ]
        }
      ],
      "source": [
        "def getRecommendations(CurItemOfInterest, numberOfRecommendations,algo,trainset):\n",
        "    item_factors = algo.qi\n",
        "    item_similarities = cosine_similarity(item_factors)\n",
        "    item_index = trainset.to_inner_iid(CurItemOfInterest)\n",
        "    similar_items = np.argsort(item_similarities[item_index])[::-1][1:11]\n",
        "    for i in similar_items:\n",
        "        print(trainset.to_raw_iid(i))"
      ]
    },
    {
      "cell_type": "code",
      "execution_count": 41,
      "id": "d3cc3538",
      "metadata": {
        "colab": {
          "base_uri": "https://localhost:8080/"
        },
        "id": "d3cc3538",
        "outputId": "d0a156b4-0e86-463b-dbdb-4f3db2d5a638"
      },
      "outputs": [
        {
          "output_type": "stream",
          "name": "stderr",
          "text": [
            "/usr/local/lib/python3.10/dist-packages/ipykernel/ipkernel.py:283: DeprecationWarning: `should_run_async` will not call `transform_cell` automatically in the future. Please pass the result to `transformed_cell` argument and any exception that happen during thetransform in `preprocessing_exc_tuple` in IPython 7.17 and above.\n",
            "  and should_run_async(code)\n"
          ]
        }
      ],
      "source": [
        "def recommendItemsViaSVD(CurItemOfInterest, country,numberOfRecommendations):\n",
        "    df=retail[retail['Country']==country]\n",
        "    trainset,testset=getTrainingAndTestingSets(df)\n",
        "    svd=SVD()\n",
        "    svd.fit(trainset)\n",
        "    print(accuracy.rmse(svd.test(testset)))\n",
        "    getRecommendations(CurItemOfInterest, numberOfRecommendations,svd,trainset)"
      ]
    },
    {
      "cell_type": "code",
      "execution_count": 42,
      "id": "5c1d27f5",
      "metadata": {
        "colab": {
          "base_uri": "https://localhost:8080/"
        },
        "id": "5c1d27f5",
        "outputId": "a6b6973c-bae8-4297-e0b6-b6e1ca4714da"
      },
      "outputs": [
        {
          "output_type": "stream",
          "name": "stdout",
          "text": [
            "RMSE: 0.8300\n",
            "0.8299584316521096\n",
            "TEA TIME TEAPOT IN GIFT BOX\n",
            "CHILDRENS CUTLERY CIRCUS PARADE\n",
            "REGENCY CAKESTAND 3 TIER\n",
            "PARTY CONES CANDY ASSORTED\n",
            "WRAP DOLLY GIRL\n",
            "COFFEE MUG CAT + BIRD DESIGN\n",
            "PINK HAPPY BIRTHDAY BUNTING\n",
            "SET OF 6 SNACK LOAF BAKING CASES\n",
            "FAIRY CAKE BIRTHDAY CANDLE SET\n",
            "PANTRY WASHING UP BRUSH\n"
          ]
        },
        {
          "output_type": "stream",
          "name": "stderr",
          "text": [
            "/usr/local/lib/python3.10/dist-packages/ipykernel/ipkernel.py:283: DeprecationWarning: `should_run_async` will not call `transform_cell` automatically in the future. Please pass the result to `transformed_cell` argument and any exception that happen during thetransform in `preprocessing_exc_tuple` in IPython 7.17 and above.\n",
            "  and should_run_async(code)\n"
          ]
        }
      ],
      "source": [
        "recommendItemsViaSVD('SET OF 4 PANTRY JELLY MOULDS','USA',10)"
      ]
    },
    {
      "cell_type": "markdown",
      "id": "98f742bb",
      "metadata": {
        "id": "98f742bb"
      },
      "source": [
        "<b>Item Based Collabrative Filtering</b>"
      ]
    },
    {
      "cell_type": "code",
      "execution_count": 43,
      "id": "5ee4ffe4",
      "metadata": {
        "colab": {
          "base_uri": "https://localhost:8080/"
        },
        "id": "5ee4ffe4",
        "outputId": "a898153e-3773-4291-9faa-8ec6237eebe8"
      },
      "outputs": [
        {
          "output_type": "stream",
          "name": "stderr",
          "text": [
            "/usr/local/lib/python3.10/dist-packages/ipykernel/ipkernel.py:283: DeprecationWarning: `should_run_async` will not call `transform_cell` automatically in the future. Please pass the result to `transformed_cell` argument and any exception that happen during thetransform in `preprocessing_exc_tuple` in IPython 7.17 and above.\n",
            "  and should_run_async(code)\n"
          ]
        }
      ],
      "source": [
        "import pandas as pd\n",
        "from surprise import Dataset, Reader, KNNBasic\n",
        "from surprise.model_selection import train_test_split\n",
        "\n",
        "# Define the function\n",
        "def RecommendItemsViaKNN(CurItemOfInterest, CustomerID, Country, Time, Date, retail):\n",
        "    # Filter dataset based on country and customer\n",
        "    retail = retail[(retail['Country'] == Country)]\n",
        "\n",
        "    # Load data for Surprise\n",
        "    reader = Reader(rating_scale=(1, 10))\n",
        "    data = Dataset.load_from_df(retail[['CustomerID', 'Description', 'Month']], reader)\n",
        "\n",
        "    # Define collaborative filtering algorithm\n",
        "    sim_options = {\n",
        "        'name': 'pearson',\n",
        "        'user_based': False\n",
        "    }\n",
        "    knn = KNNWithZScore(sim_options=sim_options)\n",
        "\n",
        "    # Train the model\n",
        "    trainset = data.build_full_trainset()\n",
        "    knn.fit(trainset)\n",
        "    #print(accuracy.rmse(knn.test(testset)))\n",
        "\n",
        "\n",
        "# Display the top N recommendations for the user\n",
        "    inner_item_id = trainset.to_inner_iid(CurItemOfInterest)\n",
        "\n",
        "# Get the k nearest neighbors for the item\n",
        "    neighbors = knn.get_neighbors(inner_item_id, k=10)\n",
        "\n",
        "# Convert the inner item IDs to raw item IDs\n",
        "    raw_neighbors = [trainset.to_raw_iid(inner_id) for inner_id in neighbors]\n",
        "\n",
        "# Display the top N recommendations for the item\n",
        "\n",
        "    for neighbor_id in raw_neighbors:\n",
        "        print(neighbor_id)\n",
        "\n",
        "    testset=trainset.build_testset()\n",
        "    print(accuracy.rmse(knn.test(testset)))"
      ]
    },
    {
      "cell_type": "code",
      "execution_count": 44,
      "id": "6373517d",
      "metadata": {
        "scrolled": true,
        "colab": {
          "base_uri": "https://localhost:8080/"
        },
        "id": "6373517d",
        "outputId": "9c769e28-dd66-4a1c-f540-4ef049294687"
      },
      "outputs": [
        {
          "output_type": "stream",
          "name": "stdout",
          "text": [
            "Computing the pearson similarity matrix...\n",
            "Done computing similarity matrix.\n",
            "SET OF 6 SPICE TINS PANTRY DESIGN\n",
            "PANTRY WASHING UP BRUSH\n",
            "SET OF 36 TEATIME PAPER DOILIES\n",
            "SET OF 3 CAKE TINS PANTRY DESIGN \n",
            "TEA TIME DES TEA COSY\n",
            "SET 2 PANTRY DESIGN TEA TOWELS\n",
            " SET 2 TEA TOWELS I LOVE LONDON \n",
            "PARTY CONES CANDY ASSORTED\n",
            "PINK HAPPY BIRTHDAY BUNTING\n",
            "3 TRADITIONAl BISCUIT CUTTERS  SET\n",
            "RMSE: 0.8456\n",
            "0.845626276130704\n"
          ]
        },
        {
          "output_type": "stream",
          "name": "stderr",
          "text": [
            "/usr/local/lib/python3.10/dist-packages/ipykernel/ipkernel.py:283: DeprecationWarning: `should_run_async` will not call `transform_cell` automatically in the future. Please pass the result to `transformed_cell` argument and any exception that happen during thetransform in `preprocessing_exc_tuple` in IPython 7.17 and above.\n",
            "  and should_run_async(code)\n"
          ]
        }
      ],
      "source": [
        " RecommendItemsViaKNN('SET OF 4 PANTRY JELLY MOULDS',12733.0,'USA', '16:19:00','2011-04-19', retail)\n",
        "#print(recommendations)"
      ]
    },
    {
      "cell_type": "code",
      "execution_count": 44,
      "id": "dd432367",
      "metadata": {
        "colab": {
          "base_uri": "https://localhost:8080/"
        },
        "id": "dd432367",
        "outputId": "a389964d-fe04-4fce-b20c-295edab16f8b"
      },
      "outputs": [
        {
          "output_type": "stream",
          "name": "stderr",
          "text": [
            "/usr/local/lib/python3.10/dist-packages/ipykernel/ipkernel.py:283: DeprecationWarning: `should_run_async` will not call `transform_cell` automatically in the future. Please pass the result to `transformed_cell` argument and any exception that happen during thetransform in `preprocessing_exc_tuple` in IPython 7.17 and above.\n",
            "  and should_run_async(code)\n"
          ]
        }
      ],
      "source": []
    }
  ],
  "metadata": {
    "kernelspec": {
      "display_name": "Python 3",
      "name": "python3"
    },
    "language_info": {
      "codemirror_mode": {
        "name": "ipython",
        "version": 3
      },
      "file_extension": ".py",
      "mimetype": "text/x-python",
      "name": "python",
      "nbconvert_exporter": "python",
      "pygments_lexer": "ipython3",
      "version": "3.9.13"
    },
    "colab": {
      "provenance": []
    }
  },
  "nbformat": 4,
  "nbformat_minor": 5
}