{
  "nbformat": 4,
  "nbformat_minor": 0,
  "metadata": {
    "colab": {
      "provenance": [],
      "authorship_tag": "ABX9TyNRLsUCmUkke+hBamAHk5R/",
      "include_colab_link": true
    },
    "kernelspec": {
      "name": "python3",
      "display_name": "Python 3"
    },
    "language_info": {
      "name": "python"
    }
  },
  "cells": [
    {
      "cell_type": "markdown",
      "metadata": {
        "id": "view-in-github",
        "colab_type": "text"
      },
      "source": [
        "<a href=\"https://colab.research.google.com/github/ankitadalvi585/Python/blob/main/NeuralNetwork.ipynb\" target=\"_parent\"><img src=\"https://colab.research.google.com/assets/colab-badge.svg\" alt=\"Open In Colab\"/></a>"
      ]
    },
    {
      "cell_type": "code",
      "execution_count": 1,
      "metadata": {
        "id": "MEJnZxwVNPhG",
        "colab": {
          "base_uri": "https://localhost:8080/"
        },
        "outputId": "6a4453c1-4e3b-47de-a548-9d45f53a8223"
      },
      "outputs": [
        {
          "output_type": "stream",
          "name": "stdout",
          "text": [
            "Mounted at /content/drive\n"
          ]
        }
      ],
      "source": [
        "import numpy as np\n",
        "import pandas as pd\n",
        "\n",
        "import tensorflow as tf\n",
        "\n",
        "tf.__version__\n",
        "\n",
        "from google.colab import drive\n",
        "drive.mount('/content/drive')\n"
      ]
    },
    {
      "cell_type": "code",
      "source": [
        "file_path = ('/content/drive/My Drive/DeepLearning/Churn_Modelling.csv')"
      ],
      "metadata": {
        "id": "6smT9Rd5QrFY"
      },
      "execution_count": 2,
      "outputs": []
    },
    {
      "cell_type": "code",
      "source": [
        "dataset=pd.read_csv(file_path)"
      ],
      "metadata": {
        "id": "K_xXZBAFQvBl"
      },
      "execution_count": 3,
      "outputs": []
    },
    {
      "cell_type": "code",
      "source": [
        "X = dataset.iloc[:,3:-1].values #.values > to create an array\n",
        "y= dataset.iloc[:,-1].values"
      ],
      "metadata": {
        "id": "VyxoGtNQRdKM"
      },
      "execution_count": 4,
      "outputs": []
    },
    {
      "cell_type": "markdown",
      "source": [
        "Label Encoding the 'Gender' column > Label encoding is mor efficient\n",
        "If we use One hot encoding here it will create two variables for two categories but label encoding creates only one. Hence, it is more efficient"
      ],
      "metadata": {
        "id": "wsxx9eUUSsso"
      }
    },
    {
      "cell_type": "code",
      "source": [
        "from sklearn.preprocessing import LabelEncoder\n",
        "le=LabelEncoder()\n",
        "X[:,2] = le.fit_transform(X[:,2])"
      ],
      "metadata": {
        "id": "dlRSNPXyRlYT"
      },
      "execution_count": 5,
      "outputs": []
    },
    {
      "cell_type": "code",
      "source": [
        "print(X.shape)"
      ],
      "metadata": {
        "colab": {
          "base_uri": "https://localhost:8080/"
        },
        "id": "FnDy6UpbR7hG",
        "outputId": "d64f787f-c037-430a-ab6a-15659c206eb2"
      },
      "execution_count": 6,
      "outputs": [
        {
          "output_type": "stream",
          "name": "stdout",
          "text": [
            "(10000, 10)\n"
          ]
        }
      ]
    },
    {
      "cell_type": "markdown",
      "source": [
        "One Hot Encoding the 'Geography' column (more commonly used)"
      ],
      "metadata": {
        "id": "b2xetrCGSlm5"
      }
    },
    {
      "cell_type": "code",
      "source": [
        "from sklearn.compose import ColumnTransformer\n",
        "from sklearn.preprocessing import OneHotEncoder\n",
        "ct = ColumnTransformer(transformers=[('myencoder', OneHotEncoder(),[1])], remainder='passthrough')\n",
        "X=np.array(ct.fit_transform(X))"
      ],
      "metadata": {
        "id": "bjRV1PIcSAji"
      },
      "execution_count": 7,
      "outputs": []
    },
    {
      "cell_type": "markdown",
      "source": [
        "Splitting dataset into Training set and Test set"
      ],
      "metadata": {
        "id": "tibQI_0tTZrV"
      }
    },
    {
      "cell_type": "code",
      "source": [
        "from sklearn.model_selection import train_test_split\n",
        "X_train, X_test, y_train, y_test = train_test_split(X, y, test_size=0.2,random_state=0)"
      ],
      "metadata": {
        "id": "XcqMMe0sTYs1"
      },
      "execution_count": 8,
      "outputs": []
    },
    {
      "cell_type": "markdown",
      "source": [
        "Feature Scaling"
      ],
      "metadata": {
        "id": "VQudvmgoUCyT"
      }
    },
    {
      "cell_type": "code",
      "source": [
        "from sklearn.preprocessing import StandardScaler\n",
        "sc=StandardScaler()\n",
        "X_train = sc.fit_transform(X_train) #getting mean and sd, and calculating Z score > (x-mean)/sd\n",
        "X_test = sc.transform(X_test)\n",
        "# we dont want new mean and sd for test data so that we dont skew the results towards test data. Hence we only use tranform.\n",
        "#For test data we only perofrm standardization and do not find mean and sd again."
      ],
      "metadata": {
        "id": "gY2BRZqRUB7f"
      },
      "execution_count": 9,
      "outputs": []
    },
    {
      "cell_type": "markdown",
      "source": [
        "Building the ANN"
      ],
      "metadata": {
        "id": "Jl5YP4ufVN8a"
      }
    },
    {
      "cell_type": "markdown",
      "source": [
        "Initializing ANN"
      ],
      "metadata": {
        "id": "1HXX2dvfVRey"
      }
    },
    {
      "cell_type": "code",
      "source": [
        "ann = tf.keras.models.Sequential()"
      ],
      "metadata": {
        "id": "Y8ocpsPHVUxw"
      },
      "execution_count": 10,
      "outputs": []
    },
    {
      "cell_type": "markdown",
      "source": [
        "X is our input layer and now adding our First Hidden layer"
      ],
      "metadata": {
        "id": "HujZMKdLV2Fv"
      }
    },
    {
      "cell_type": "code",
      "source": [
        "ann.add(tf.keras.layers.Dense(units=6,activation='relu'))#6 neurons and using activation function ReLu"
      ],
      "metadata": {
        "id": "A12xe6oiVjvP"
      },
      "execution_count": 11,
      "outputs": []
    },
    {
      "cell_type": "markdown",
      "source": [
        "Adding the second hidden layer"
      ],
      "metadata": {
        "id": "ZYzlqIL5V07L"
      }
    },
    {
      "cell_type": "code",
      "source": [
        "ann.add(tf.keras.layers.Dense(units=6,activation='relu'))#second hidden layer is same as first"
      ],
      "metadata": {
        "id": "44oXn42xV0eE"
      },
      "execution_count": 12,
      "outputs": []
    },
    {
      "cell_type": "markdown",
      "source": [
        "Adding the output layer\n"
      ],
      "metadata": {
        "id": "uOldJD_nWDmS"
      }
    },
    {
      "cell_type": "code",
      "source": [
        "ann.add(tf.keras.layers.Dense(units=1,activation='sigmoid')) #output layer with activation function as sigmoid and we need just one neuron"
      ],
      "metadata": {
        "id": "RQ1ErXA2WGk1"
      },
      "execution_count": 13,
      "outputs": []
    },
    {
      "cell_type": "markdown",
      "source": [
        "Training ANN"
      ],
      "metadata": {
        "id": "RrnDypCrcZaT"
      }
    },
    {
      "cell_type": "markdown",
      "source": [
        "Compiling the ANN"
      ],
      "metadata": {
        "id": "3vbNBgfvca9d"
      }
    },
    {
      "cell_type": "markdown",
      "source": [
        "Stochastic gradient descent > training on each instance; batch size is 1;\n",
        "Batch Gradient descent > All of batch, calculating loss function and then calculating my gradient, batch size equal to size of training set;\n",
        "Mini batch gradient descent > split into smaller batches > after each batch in this case 32 we calculate weights > most often used as compared to above 2."
      ],
      "metadata": {
        "id": "Lusb07BUcoYG"
      }
    },
    {
      "cell_type": "code",
      "source": [
        "ann.compile(optimizer='adam',loss='binary_crossentropy',metrics=['accuracy'])"
      ],
      "metadata": {
        "id": "OrfFFmB5Wceg"
      },
      "execution_count": 14,
      "outputs": []
    },
    {
      "cell_type": "markdown",
      "source": [
        "Adam > its an adaptive learnig rate optimizer, loss function > binary cross entropy....;\n",
        "sdd > fixed learning rate\n"
      ],
      "metadata": {
        "id": "FXsXAMq8eXjs"
      }
    },
    {
      "cell_type": "markdown",
      "source": [
        "Training ANN on training set"
      ],
      "metadata": {
        "id": "ijrrjiNNc6Rl"
      }
    },
    {
      "cell_type": "code",
      "source": [
        "ann.fit(X_train, y_train, batch_size=32, epochs=20)"
      ],
      "metadata": {
        "colab": {
          "base_uri": "https://localhost:8080/"
        },
        "id": "-P4OMlWfc5im",
        "outputId": "dc607b0e-3a05-4d5f-e2de-1006ae0d3442"
      },
      "execution_count": 15,
      "outputs": [
        {
          "output_type": "stream",
          "name": "stdout",
          "text": [
            "Epoch 1/20\n",
            "250/250 [==============================] - 3s 5ms/step - loss: 0.6161 - accuracy: 0.7262\n",
            "Epoch 2/20\n",
            "250/250 [==============================] - 2s 7ms/step - loss: 0.4768 - accuracy: 0.8090\n",
            "Epoch 3/20\n",
            "250/250 [==============================] - 2s 8ms/step - loss: 0.4553 - accuracy: 0.8086\n",
            "Epoch 4/20\n",
            "250/250 [==============================] - 1s 5ms/step - loss: 0.4444 - accuracy: 0.8095\n",
            "Epoch 5/20\n",
            "250/250 [==============================] - 1s 4ms/step - loss: 0.4360 - accuracy: 0.8117\n",
            "Epoch 6/20\n",
            "250/250 [==============================] - 1s 4ms/step - loss: 0.4294 - accuracy: 0.8134\n",
            "Epoch 7/20\n",
            "250/250 [==============================] - 1s 3ms/step - loss: 0.4214 - accuracy: 0.8171\n",
            "Epoch 8/20\n",
            "250/250 [==============================] - 1s 4ms/step - loss: 0.4122 - accuracy: 0.8248\n",
            "Epoch 9/20\n",
            "250/250 [==============================] - 1s 4ms/step - loss: 0.4023 - accuracy: 0.8339\n",
            "Epoch 10/20\n",
            "250/250 [==============================] - 1s 5ms/step - loss: 0.3932 - accuracy: 0.8378\n",
            "Epoch 11/20\n",
            "250/250 [==============================] - 1s 3ms/step - loss: 0.3831 - accuracy: 0.8405\n",
            "Epoch 12/20\n",
            "250/250 [==============================] - 1s 4ms/step - loss: 0.3739 - accuracy: 0.8443\n",
            "Epoch 13/20\n",
            "250/250 [==============================] - 1s 3ms/step - loss: 0.3650 - accuracy: 0.8478\n",
            "Epoch 14/20\n",
            "250/250 [==============================] - 1s 3ms/step - loss: 0.3589 - accuracy: 0.8525\n",
            "Epoch 15/20\n",
            "250/250 [==============================] - 1s 2ms/step - loss: 0.3546 - accuracy: 0.8534\n",
            "Epoch 16/20\n",
            "250/250 [==============================] - 1s 3ms/step - loss: 0.3516 - accuracy: 0.8554\n",
            "Epoch 17/20\n",
            "250/250 [==============================] - 1s 3ms/step - loss: 0.3496 - accuracy: 0.8566\n",
            "Epoch 18/20\n",
            "250/250 [==============================] - 1s 2ms/step - loss: 0.3480 - accuracy: 0.8561\n",
            "Epoch 19/20\n",
            "250/250 [==============================] - 1s 2ms/step - loss: 0.3464 - accuracy: 0.8568\n",
            "Epoch 20/20\n",
            "250/250 [==============================] - 1s 2ms/step - loss: 0.3449 - accuracy: 0.8587\n"
          ]
        },
        {
          "output_type": "execute_result",
          "data": {
            "text/plain": [
              "<keras.src.callbacks.History at 0x7e54d2aff340>"
            ]
          },
          "metadata": {},
          "execution_count": 15
        }
      ]
    },
    {
      "cell_type": "markdown",
      "source": [
        "Making Predictions (test data)"
      ],
      "metadata": {
        "id": "Wp1-Hq6zeyWU"
      }
    },
    {
      "cell_type": "code",
      "source": [
        "y_pred = ann.predict(X_test)\n",
        "y_pred=(y_pred>0.5)\n",
        "print(np.concatenate((y_pred.reshape(len(y_pred),1),y_test.reshape(len(y_test),1)),1)) #last 1 is to concatenate based on columns> 0 is for rows"
      ],
      "metadata": {
        "colab": {
          "base_uri": "https://localhost:8080/"
        },
        "id": "U6_o7AR9eBpc",
        "outputId": "3f997d3f-992c-48f9-e0d6-a72e48abed8e"
      },
      "execution_count": 16,
      "outputs": [
        {
          "output_type": "stream",
          "name": "stdout",
          "text": [
            "63/63 [==============================] - 1s 6ms/step\n",
            "[[0 0]\n",
            " [0 1]\n",
            " [0 0]\n",
            " ...\n",
            " [0 0]\n",
            " [0 0]\n",
            " [0 0]]\n"
          ]
        }
      ]
    },
    {
      "cell_type": "markdown",
      "source": [
        "Making confusion matrix"
      ],
      "metadata": {
        "id": "K-SB4aXPfVT3"
      }
    },
    {
      "cell_type": "code",
      "source": [
        "from sklearn.metrics import confusion_matrix,accuracy_score\n",
        "cm=confusion_matrix(y_test,y_pred)\n",
        "print(cm)\n",
        "accuracy_score(y_test,y_pred)"
      ],
      "metadata": {
        "colab": {
          "base_uri": "https://localhost:8080/"
        },
        "id": "zFuqwEPZfO7h",
        "outputId": "fd1f5641-8498-4acb-9211-8f141308d27a"
      },
      "execution_count": 17,
      "outputs": [
        {
          "output_type": "stream",
          "name": "stdout",
          "text": [
            "[[1530   65]\n",
            " [ 210  195]]\n"
          ]
        },
        {
          "output_type": "execute_result",
          "data": {
            "text/plain": [
              "0.8625"
            ]
          },
          "metadata": {},
          "execution_count": 17
        }
      ]
    },
    {
      "cell_type": "code",
      "source": [],
      "metadata": {
        "id": "WehHl37wfkbY"
      },
      "execution_count": null,
      "outputs": []
    }
  ]
}