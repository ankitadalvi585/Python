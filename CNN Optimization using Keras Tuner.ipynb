{
  "cells": [
    {
      "cell_type": "code",
      "execution_count": 1,
      "metadata": {
        "colab": {
          "base_uri": "https://localhost:8080/"
        },
        "id": "A2oIo70zLhIh",
        "outputId": "c98a956c-e406-47a4-fca0-b31b50d62713"
      },
      "outputs": [
        {
          "output_type": "stream",
          "name": "stdout",
          "text": [
            "Collecting keras-tuner\n",
            "  Downloading keras_tuner-1.4.5-py3-none-any.whl (129 kB)\n",
            "\u001b[?25l     \u001b[90m━━━━━━━━━━━━━━━━━━━━━━━━━━━━━━━━━━━━━━━━\u001b[0m \u001b[32m0.0/129.5 kB\u001b[0m \u001b[31m?\u001b[0m eta \u001b[36m-:--:--\u001b[0m\r\u001b[2K     \u001b[90m━━━━━━━━━━━━━━━━━━━━━━━━━━━━━━━━━━━━━━━━\u001b[0m \u001b[32m129.5/129.5 kB\u001b[0m \u001b[31m3.7 MB/s\u001b[0m eta \u001b[36m0:00:00\u001b[0m\n",
            "\u001b[?25hCollecting keras-core (from keras-tuner)\n",
            "  Downloading keras_core-0.1.7-py3-none-any.whl (950 kB)\n",
            "\u001b[?25l     \u001b[90m━━━━━━━━━━━━━━━━━━━━━━━━━━━━━━━━━━━━━━━━\u001b[0m \u001b[32m0.0/950.8 kB\u001b[0m \u001b[31m?\u001b[0m eta \u001b[36m-:--:--\u001b[0m\r\u001b[2K     \u001b[90m━━━━━━━━━━━━━━━━━━━━━━━━━━━━━━━━━━━━━━━━\u001b[0m \u001b[32m950.8/950.8 kB\u001b[0m \u001b[31m30.4 MB/s\u001b[0m eta \u001b[36m0:00:00\u001b[0m\n",
            "\u001b[?25hRequirement already satisfied: packaging in /usr/local/lib/python3.10/dist-packages (from keras-tuner) (23.2)\n",
            "Requirement already satisfied: requests in /usr/local/lib/python3.10/dist-packages (from keras-tuner) (2.31.0)\n",
            "Collecting kt-legacy (from keras-tuner)\n",
            "  Downloading kt_legacy-1.0.5-py3-none-any.whl (9.6 kB)\n",
            "Requirement already satisfied: absl-py in /usr/local/lib/python3.10/dist-packages (from keras-core->keras-tuner) (1.4.0)\n",
            "Requirement already satisfied: numpy in /usr/local/lib/python3.10/dist-packages (from keras-core->keras-tuner) (1.23.5)\n",
            "Requirement already satisfied: rich in /usr/local/lib/python3.10/dist-packages (from keras-core->keras-tuner) (13.6.0)\n",
            "Collecting namex (from keras-core->keras-tuner)\n",
            "  Downloading namex-0.0.7-py3-none-any.whl (5.8 kB)\n",
            "Requirement already satisfied: h5py in /usr/local/lib/python3.10/dist-packages (from keras-core->keras-tuner) (3.9.0)\n",
            "Requirement already satisfied: dm-tree in /usr/local/lib/python3.10/dist-packages (from keras-core->keras-tuner) (0.1.8)\n",
            "Requirement already satisfied: charset-normalizer<4,>=2 in /usr/local/lib/python3.10/dist-packages (from requests->keras-tuner) (3.3.1)\n",
            "Requirement already satisfied: idna<4,>=2.5 in /usr/local/lib/python3.10/dist-packages (from requests->keras-tuner) (3.4)\n",
            "Requirement already satisfied: urllib3<3,>=1.21.1 in /usr/local/lib/python3.10/dist-packages (from requests->keras-tuner) (2.0.7)\n",
            "Requirement already satisfied: certifi>=2017.4.17 in /usr/local/lib/python3.10/dist-packages (from requests->keras-tuner) (2023.7.22)\n",
            "Requirement already satisfied: markdown-it-py>=2.2.0 in /usr/local/lib/python3.10/dist-packages (from rich->keras-core->keras-tuner) (3.0.0)\n",
            "Requirement already satisfied: pygments<3.0.0,>=2.13.0 in /usr/local/lib/python3.10/dist-packages (from rich->keras-core->keras-tuner) (2.16.1)\n",
            "Requirement already satisfied: mdurl~=0.1 in /usr/local/lib/python3.10/dist-packages (from markdown-it-py>=2.2.0->rich->keras-core->keras-tuner) (0.1.2)\n",
            "Installing collected packages: namex, kt-legacy, keras-core, keras-tuner\n",
            "Successfully installed keras-core-0.1.7 keras-tuner-1.4.5 kt-legacy-1.0.5 namex-0.0.7\n",
            "Using TensorFlow backend\n",
            "Downloading data from https://storage.googleapis.com/tensorflow/tf-keras-datasets/mnist.npz\n",
            "11490434/11490434 [==============================] - 0s 0us/step\n"
          ]
        },
        {
          "output_type": "stream",
          "name": "stderr",
          "text": [
            "<ipython-input-1-a4263ea13338>:8: DeprecationWarning: `import kerastuner` is deprecated, please use `import keras_tuner`.\n",
            "  from kerastuner.tuners import RandomSearch, Hyperband\n"
          ]
        }
      ],
      "source": [
        "!pip install keras-tuner\n",
        "import numpy as np\n",
        "import tensorflow as tf\n",
        "from tensorflow.keras.datasets import mnist\n",
        "from tensorflow.keras.models import Sequential\n",
        "from tensorflow.keras.layers import Conv2D, MaxPooling2D, Flatten, Dense, Dropout\n",
        "from tensorflow.keras.utils import to_categorical\n",
        "from kerastuner.tuners import RandomSearch, Hyperband\n",
        "(train_images, train_labels), (test_images, test_labels) = mnist.load_data()\n",
        "train_images = train_images.reshape(train_images.shape[0], 28, 28, 1).astype('float32') / 255\n",
        "test_images = test_images.reshape(test_images.shape[0], 28, 28, 1).astype('float32') / 255\n",
        "train_labels = to_categorical(train_labels)\n",
        "test_labels = to_categorical(test_labels)"
      ]
    },
    {
      "cell_type": "code",
      "execution_count": 2,
      "metadata": {
        "id": "V4O7kUeFOQ7v"
      },
      "outputs": [],
      "source": [
        "def build_model(hp):\n",
        " model = Sequential()\n",
        " hp_filters = hp.Int('filters', min_value=32, max_value=128, step=32)\n",
        " model.add(Conv2D(filters=hp_filters, kernel_size=5, activation='relu',padding='same', input_shape=(28, 28, 1)))\n",
        " model.add(MaxPooling2D(2))\n",
        " hp_filters1 = hp.Int('filters1', min_value=32, max_value=128, step=32)\n",
        " model.add(Conv2D(filters=hp_filters1, kernel_size=5, activation='relu', padding='same', input_shape=(28, 28, 1)))\n",
        " model.add(MaxPooling2D(2))\n",
        " hp_dropout = hp.Float('dropout', min_value=0.0, max_value=0.5, step=0.1)\n",
        " model.add(Dropout(rate=hp_dropout))\n",
        " model.add(Flatten())\n",
        " hp_units = hp.Int('units', min_value=32, max_value=512, step=32)\n",
        " model.add(Dense(units=hp_units, activation='relu'))\n",
        " model.add(Dense(10, activation='softmax'))\n",
        " hp_learning_rate = hp.Choice('learning_rate', values=[1e-2, 1e-3, 1e-4])\n",
        " model.compile(optimizer=tf.keras.optimizers.RMSprop(learning_rate=hp_learning_rate),\n",
        " loss='categorical_crossentropy',\n",
        " metrics=['accuracy'])\n",
        " return model"
      ]
    },
    {
      "cell_type": "code",
      "execution_count": 3,
      "metadata": {
        "colab": {
          "base_uri": "https://localhost:8080/"
        },
        "id": "PzGAy104OdFX",
        "outputId": "f41c3e4e-f9fd-444a-8c1d-e903fcced3b4"
      },
      "outputs": [
        {
          "output_type": "stream",
          "name": "stdout",
          "text": [
            "Trial 30 Complete [00h 03m 19s]\n",
            "val_accuracy: 0.9939000010490417\n",
            "\n",
            "Best val_accuracy So Far: 0.9940999746322632\n",
            "Total elapsed time: 00h 42m 57s\n"
          ]
        }
      ],
      "source": [
        "#tuner = RandomSearch(\n",
        " #build_model,\n",
        " #objective='val_accuracy',\n",
        " #max_trials=12,\n",
        " #directory='my_dir',\n",
        " #project_name='Assignment1_RandomSearch7')\n",
        "\n",
        "tuner = Hyperband(\n",
        " build_model,\n",
        " objective='val_accuracy',\n",
        " max_epochs=20, # It's better to set max_epochs larger for Hyperband\n",
        " factor=3,\n",
        " directory='my_dir',\n",
        " project_name='hyperband')\n",
        "\n",
        "tuner.search(train_images, train_labels, epochs=10, validation_data=(test_images, test_labels))"
      ]
    },
    {
      "cell_type": "code",
      "execution_count": 4,
      "metadata": {
        "id": "lkrDxDYcOhDj",
        "colab": {
          "base_uri": "https://localhost:8080/"
        },
        "outputId": "04d14a87-e755-49e4-f136-0249dfa0543e"
      },
      "outputs": [
        {
          "output_type": "stream",
          "name": "stdout",
          "text": [
            "Search space summary\n",
            "Default search space size: 5\n",
            "filters (Int)\n",
            "{'default': None, 'conditions': [], 'min_value': 32, 'max_value': 128, 'step': 32, 'sampling': 'linear'}\n",
            "filters1 (Int)\n",
            "{'default': None, 'conditions': [], 'min_value': 32, 'max_value': 128, 'step': 32, 'sampling': 'linear'}\n",
            "dropout (Float)\n",
            "{'default': 0.0, 'conditions': [], 'min_value': 0.0, 'max_value': 0.5, 'step': 0.1, 'sampling': 'linear'}\n",
            "units (Int)\n",
            "{'default': None, 'conditions': [], 'min_value': 32, 'max_value': 512, 'step': 32, 'sampling': 'linear'}\n",
            "learning_rate (Choice)\n",
            "{'default': 0.01, 'conditions': [], 'values': [0.01, 0.001, 0.0001], 'ordered': True}\n"
          ]
        }
      ],
      "source": [
        "tuner.search_space_summary()"
      ]
    },
    {
      "cell_type": "code",
      "source": [
        "best_model = tuner.get_best_models(num_models=1)[0]"
      ],
      "metadata": {
        "id": "4QXkmBgB5_Yc"
      },
      "execution_count": 5,
      "outputs": []
    },
    {
      "cell_type": "code",
      "source": [
        "#For Test Accuracy\n",
        "evaluation = best_model.evaluate(test_images, test_labels)\n",
        "print(\"Test accuracy:\", evaluation[1])"
      ],
      "metadata": {
        "colab": {
          "base_uri": "https://localhost:8080/"
        },
        "id": "4c9Odymo6QE2",
        "outputId": "f0d95caf-56a5-4b68-cc43-a576ec13b082"
      },
      "execution_count": 6,
      "outputs": [
        {
          "output_type": "stream",
          "name": "stdout",
          "text": [
            "313/313 [==============================] - 1s 3ms/step - loss: 0.0314 - accuracy: 0.9941\n",
            "Test accuracy: 0.9940999746322632\n"
          ]
        }
      ]
    },
    {
      "cell_type": "code",
      "source": [
        "best_hyperparameters=tuner.get_best_hyperparameters()[0]"
      ],
      "metadata": {
        "id": "YxbEexvD6mvH"
      },
      "execution_count": 7,
      "outputs": []
    },
    {
      "cell_type": "code",
      "source": [
        "hp_filters = best_hyperparameters.get('filters')\n",
        "hp_filters1 = best_hyperparameters.get('filters1')\n",
        "hp_dropout = best_hyperparameters.get('dropout')\n",
        "hp_units = best_hyperparameters.get('units')\n",
        "hp_learning_rate = best_hyperparameters.get('learning_rate')"
      ],
      "metadata": {
        "id": "gsKXBVHa6pmU"
      },
      "execution_count": 8,
      "outputs": []
    },
    {
      "cell_type": "code",
      "source": [
        "print(f\"Best 'filters' hyperparameter: {hp_filters}\")\n",
        "print(f\"Best 'filters' hyperparameter: {hp_filters1}\")\n",
        "print(f\"Best 'dropout' hyperparameter: {hp_dropout}\")\n",
        "print(f\"Best 'units' hyperparameter: {hp_units}\")\n",
        "print(f\"Best 'learning_rate' hyperparameter: {hp_learning_rate}\")"
      ],
      "metadata": {
        "colab": {
          "base_uri": "https://localhost:8080/"
        },
        "id": "eN1XoiMG8Lzx",
        "outputId": "340a98e1-8c1d-4fa8-d842-c4d8566f2cc3"
      },
      "execution_count": 9,
      "outputs": [
        {
          "output_type": "stream",
          "name": "stdout",
          "text": [
            "Best 'filters' hyperparameter: 96\n",
            "Best 'filters' hyperparameter: 32\n",
            "Best 'dropout' hyperparameter: 0.30000000000000004\n",
            "Best 'units' hyperparameter: 128\n",
            "Best 'learning_rate' hyperparameter: 0.001\n"
          ]
        }
      ]
    },
    {
      "cell_type": "code",
      "source": [],
      "metadata": {
        "id": "A9ZdkViL8STH"
      },
      "execution_count": null,
      "outputs": []
    }
  ],
  "metadata": {
    "colab": {
      "provenance": [],
      "gpuType": "T4"
    },
    "kernelspec": {
      "display_name": "Python 3",
      "name": "python3"
    },
    "language_info": {
      "name": "python"
    },
    "accelerator": "GPU"
  },
  "nbformat": 4,
  "nbformat_minor": 0
}