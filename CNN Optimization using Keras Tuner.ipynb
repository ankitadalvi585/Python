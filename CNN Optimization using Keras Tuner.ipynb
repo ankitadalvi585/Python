{
  "nbformat": 4,
  "nbformat_minor": 0,
  "metadata": {
    "colab": {
      "provenance": []
    },
    "kernelspec": {
      "name": "python3",
      "display_name": "Python 3"
    },
    "language_info": {
      "name": "python"
    }
  },
  "cells": [
    {
      "cell_type": "code",
      "execution_count": null,
      "metadata": {
        "id": "DjK5MNEkUhQg"
      },
      "outputs": [],
      "source": [
        "from tensorflow.keras.datasets import mnist\n",
        "from tensorflow.keras.models import Sequential, load_model\n",
        "from tensorflow.keras.layers import Conv2D, MaxPooling2D, Flatten, Dense, Dropout\n",
        "from tensorflow.keras.utils import to_categorical\n",
        "import numpy as np\n",
        "import matplotlib.pyplot as plt\n",
        "import cv2\n",
        "from google.colab import files"
      ]
    },
    {
      "cell_type": "code",
      "source": [
        "#Load Dataset\n",
        "(train_images,train_labels), (test_images, test_labels) = mnist.load_data()"
      ],
      "metadata": {
        "id": "JUzR7G7pVgPo"
      },
      "execution_count": null,
      "outputs": []
    },
    {
      "cell_type": "code",
      "source": [
        "print(train_images.shape)"
      ],
      "metadata": {
        "colab": {
          "base_uri": "https://localhost:8080/"
        },
        "id": "cmpV2s29XWUn",
        "outputId": "1363717b-544b-47b0-a9c5-474a241eb239"
      },
      "execution_count": null,
      "outputs": [
        {
          "output_type": "stream",
          "name": "stdout",
          "text": [
            "(60000, 28, 28)\n"
          ]
        }
      ]
    },
    {
      "cell_type": "code",
      "source": [
        "#Normalize images to be in between 0 & 1 and reshape them\n",
        "train_images = train_images.astype('float32')/255.0\n",
        "test_images = test_images.astype('float32')/255.0\n",
        "train_images = train_images.reshape(train_images.shape[0],28,28,1)\n",
        "test_images = test_images.reshape(test_images.shape[0],28,28,1)"
      ],
      "metadata": {
        "id": "zqrrn9FEVyIf"
      },
      "execution_count": null,
      "outputs": []
    },
    {
      "cell_type": "code",
      "source": [
        "print(train_images.shape)\n",
        "#1 > gray scale > 1 channel\n",
        "# convolution requires the number of channels hence we reshape\n",
        "# for an RGB image the channels are 3 hence channel will be 3"
      ],
      "metadata": {
        "colab": {
          "base_uri": "https://localhost:8080/"
        },
        "id": "kROen7VwW1SR",
        "outputId": "6d2ae7cf-d245-48bc-be8b-59cf708c258e"
      },
      "execution_count": null,
      "outputs": [
        {
          "output_type": "stream",
          "name": "stdout",
          "text": [
            "(60000, 28, 28, 1)\n"
          ]
        }
      ]
    },
    {
      "cell_type": "code",
      "source": [
        "#Convert labels to one hot encoded format\n",
        "train_labels = to_categorical(train_labels)\n",
        "test_labels = to_categorical(test_labels)\n",
        "#to_categorical > converts in to integer labels"
      ],
      "metadata": {
        "id": "ffvzK7HnXLG5"
      },
      "execution_count": null,
      "outputs": []
    },
    {
      "cell_type": "code",
      "source": [
        "#Buliding the CNN model\n",
        "#Instantiating the Sequential model\n",
        "\n",
        "model= Sequential()\n",
        "\n",
        "#Add layers one by one\n",
        "#Parameters >   Weights > learnable\n",
        "#Hyperparameters are not learnable > its defined based on experiments\n",
        "#(3,3) filter - learnable\n",
        "model.add(Conv2D(32,(3,3),activation = 'relu',input_shape=(28,28,1))) #input shape for 1 image #Convolution Layer\n",
        "model.add(MaxPooling2D((2,2))) #Maxpooling layer filters/parameters > (2,2) kernel size #Not learnable > max in the pool\n",
        "model.add(Conv2D(64,(3,3),activation='relu'))#conv layer with 64 fiters of (3,3) size\n",
        "model.add(MaxPooling2D((2,2)))\n",
        "model.add(Flatten()) # Flatten > to convert to 1D; done before feeding in to fully connected layer\n",
        "model.add(Dense(128,activation='relu'))#no of neurons 128\n",
        "model.add(Dropout(0.5)) #Half of the neurons get dropped randomly as 0.5 dropout > dropout is done to avoid overfitting and make the model simpler\n",
        "#There's only one hidden layer in this network\n",
        "model.add(Dense(10,activation='softmax'))#op layer > softmax is usually used in op layer if the op is non-binary\n",
        "#If op is binary we use Sigmoid"
      ],
      "metadata": {
        "id": "1ySqIvE0YixL"
      },
      "execution_count": null,
      "outputs": []
    },
    {
      "cell_type": "markdown",
      "source": [
        "In regression there is no activation function > we use activation function in case of non-continuous cases"
      ],
      "metadata": {
        "id": "rJZALYfvctxh"
      }
    },
    {
      "cell_type": "code",
      "source": [
        "#Compiling the model\n",
        "model.compile(optimizer='adam',\n",
        "              loss='categorical_crossentropy',\n",
        "              metrics=['accuracy'])\n",
        "#We are using adam optimizer > adaptive, loss function, we use metrics as accuracy (Whatever predicted correctly divided by total)"
      ],
      "metadata": {
        "id": "ty2n48ZEcG17"
      },
      "execution_count": null,
      "outputs": []
    },
    {
      "cell_type": "code",
      "source": [
        "#Train the model #epoch > 1 iteration through entire dataset\n",
        "model.fit(train_images, train_labels, epochs=5, batch_size=32)\n"
      ],
      "metadata": {
        "colab": {
          "base_uri": "https://localhost:8080/"
        },
        "id": "NQzGrTEYdJrQ",
        "outputId": "82519eff-0ab0-4868-ed54-db15d4cbaa19"
      },
      "execution_count": null,
      "outputs": [
        {
          "output_type": "stream",
          "name": "stdout",
          "text": [
            "Epoch 1/5\n",
            "1875/1875 [==============================] - 59s 31ms/step - loss: 0.1946 - accuracy: 0.9412\n",
            "Epoch 2/5\n",
            "1875/1875 [==============================] - 56s 30ms/step - loss: 0.0753 - accuracy: 0.9778\n",
            "Epoch 3/5\n",
            "1875/1875 [==============================] - 56s 30ms/step - loss: 0.0568 - accuracy: 0.9837\n",
            "Epoch 4/5\n",
            "1875/1875 [==============================] - 55s 30ms/step - loss: 0.0445 - accuracy: 0.9862\n",
            "Epoch 5/5\n",
            "1875/1875 [==============================] - 57s 30ms/step - loss: 0.0382 - accuracy: 0.9887\n"
          ]
        },
        {
          "output_type": "execute_result",
          "data": {
            "text/plain": [
              "<keras.src.callbacks.History at 0x7b9ab4079810>"
            ]
          },
          "metadata": {},
          "execution_count": 39
        }
      ]
    },
    {
      "cell_type": "code",
      "source": [
        "#Save the trained model\n",
        "model.save('mnist_cnn_model.keras')"
      ],
      "metadata": {
        "id": "CtOs52lBd61M"
      },
      "execution_count": null,
      "outputs": []
    },
    {
      "cell_type": "code",
      "source": [
        "test_loss, test_accuracy = model.evaluate(test_images, test_labels)\n",
        "print(f'Test accuracy: {test_accuracy}')\n",
        "print(f'Test loss: {test_loss}')"
      ],
      "metadata": {
        "colab": {
          "base_uri": "https://localhost:8080/"
        },
        "id": "PhmdNs4Vf0rv",
        "outputId": "b5c2a45a-1fa3-4a64-e13d-f693abf6ac76"
      },
      "execution_count": null,
      "outputs": [
        {
          "output_type": "stream",
          "name": "stdout",
          "text": [
            "313/313 [==============================] - 3s 9ms/step - loss: 0.0265 - accuracy: 0.9918\n",
            "Test accuracy: 0.9918000102043152\n",
            "Test loss: 0.02648916095495224\n"
          ]
        }
      ]
    },
    {
      "cell_type": "code",
      "source": [],
      "metadata": {
        "id": "kT2hWxeoixhQ"
      },
      "execution_count": null,
      "outputs": []
    }
  ]
}